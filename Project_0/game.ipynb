{
 "cells": [
  {
   "cell_type": "markdown",
   "metadata": {},
   "source": [
    "# Угадай число\n",
    "\n",
    "Задание: Написать программу которая угадывает число за минимальное число попыток\n",
    "\n",
    "## Условия соревнования\n",
    "\n",
    "- Компьютер загадывает целое число от 1 до 100, и нам его нужно угадать. Под «угадать», подразумевается «написать программу, которая угадывает число».    \n",
    "- Алгоритм учитывает информацию о том, больше ли случайное число или меньше нужного нам.\n",
    "- Необходимо добиться того, чтобы программа угадывала число меньше, чем за 20 попыток.\n"
   ]
  },
  {
   "cell_type": "markdown",
   "metadata": {},
   "source": [
    "Импортируем библиотеку, которая пригодится для генерации случайных чисел."
   ]
  },
  {
   "cell_type": "code",
   "execution_count": 13,
   "metadata": {},
   "outputs": [],
   "source": [
    "import numpy as np"
   ]
  },
  {
   "cell_type": "markdown",
   "metadata": {},
   "source": [
    "# Подход 1: Случайное угадывание"
   ]
  },
  {
   "cell_type": "code",
   "execution_count": null,
   "metadata": {},
   "outputs": [],
   "source": [
    "def predict_number_v1(number:int=1) -> int:\n",
    "    \"\"\"Рандомно угадываем число\n",
    "    \n",
    "    Args:\n",
    "        number (int, optional): Загаданное число. Defaults to 1.\n",
    "\n",
    "    Returns:\n",
    "        int: Число попыток\n",
    "    \"\"\"\n",
    "    count_predict = 0\n",
    "    \n",
    "    while True:\n",
    "        count_predict += 1\n",
    "        predict_number = np.random.randint(1,101) # Предполагаемое число\n",
    "        if number == predict_number:\n",
    "            break #выход из цикла, если угадали\n",
    "    \n",
    "    return count_predict"
   ]
  },
  {
   "cell_type": "markdown",
   "metadata": {},
   "source": [
    "# Подход №2: Угадывание с коррекцией"
   ]
  },
  {
   "cell_type": "code",
   "execution_count": null,
   "metadata": {},
   "outputs": [],
   "source": [
    "def predict_number_v2(number: int = 1) -> int:\n",
    "    \"\"\"Сначала устанавливаем любое random число, а потом уменьшаем\n",
    "    или увеличиваем его в зависимости от того, больше оно или меньше нужного.\n",
    "       Функция принимает загаданное число и возвращает число попыток\n",
    "\n",
    "    Args:\n",
    "        number (int, optional): Загаданное число. Defaults to 1.\n",
    "\n",
    "    Returns:\n",
    "        int: Число попыток\n",
    "    \"\"\"\n",
    "    count_predict = 0\n",
    "    predict = np.random.randint(1, 101)\n",
    "\n",
    "    while number != predict:\n",
    "        count_predict += 1\n",
    "        if number > predict:\n",
    "            predict += 1\n",
    "        elif number < predict:\n",
    "            predict -= 1\n",
    "\n",
    "    return count_predict"
   ]
  },
  {
   "cell_type": "markdown",
   "metadata": {},
   "source": [
    "# Функция для оценки "
   ]
  },
  {
   "cell_type": "markdown",
   "metadata": {},
   "source": [
    "Функция определяет за какое число попыток рограмма угадывает число"
   ]
  },
  {
   "cell_type": "code",
   "execution_count": null,
   "metadata": {},
   "outputs": [],
   "source": [
    "def score_game(random_predict) -> int:\n",
    "    \"\"\" Оценка алгоритма угадывания числа\n",
    "        Оценивается по среднему количеству попыток из 1000 подходов\n",
    "    Args:\n",
    "        random_predict ([type]): Используемая функция угадывания. Defaults to 1.\n",
    "\n",
    "    Returns:\n",
    "        int: среднее количество попыток\n",
    "    \"\"\"\n",
    "    count_predict = [] # Количество предсказаний\n",
    "    np.random.seed(1) # фиксируем сид для воспроизводимости\n",
    "    \n",
    "    random_array = np.random.randint(1,100,size=1000) #загадали список чисел\n",
    "    \n",
    "    for number in random_array:\n",
    "        count_predict.append(random_predict(number))\n",
    "    \n",
    "    score = int(np.mean(count_predict)) # находим среднее количество попыток\n",
    "    \n",
    "    print(f'Ваш алгоритм \"{random_predict.__name__}\" угадывает число в среднем за {score} попыток')\n",
    "    return(score)"
   ]
  },
  {
   "cell_type": "markdown",
   "metadata": {},
   "source": [
    "# Оценка работы алгоритма"
   ]
  },
  {
   "cell_type": "markdown",
   "metadata": {},
   "source": [
    "Сравниваем реализованные подходы"
   ]
  },
  {
   "cell_type": "code",
   "execution_count": null,
   "metadata": {},
   "outputs": [
    {
     "name": "stdout",
     "output_type": "stream",
     "text": [
      "Запуск тестирования случайного выбора: Ваш алгоритм угадывает число в среднем за: 98 попытки\n",
      "Запуск тестирования выбора с коррекцией: Ваш алгоритм угадывает число в среднем за: 32 попытки\n"
     ]
    }
   ],
   "source": [
    "print('Запуск тестирования V1: случайный выбор - ', end='')\n",
    "score_game(predict_number_v1)\n",
    "\n",
    "print('Запуск тестирования V2: выбор с коррекцией - ', end='')\n",
    "score_game(predict_number_v2)"
   ]
  },
  {
   "cell_type": "markdown",
   "metadata": {},
   "source": [
    "# Подход №3: Угадывание с коррекцией диапазона поиска"
   ]
  },
  {
   "cell_type": "markdown",
   "metadata": {},
   "source": [
    "Функция должна угадывать число, за менее чем 20 попыток"
   ]
  },
  {
   "cell_type": "code",
   "execution_count": null,
   "metadata": {},
   "outputs": [],
   "source": [
    "def predict_number_v3(number: int = 1) -> int:\n",
    "    \"\"\" Сначала устанавливаем случайное число в начальном диапазоне,\n",
    "        после этого используем это число для сокращения диапазона поиска \n",
    "        смещением границ: \n",
    "        если число меньше загаданног, то текущее число становится максимумом поискового диапазона\n",
    "        если число больше загаданного, то - минимумом \n",
    "    Args:\n",
    "        number (int, optional): Загаданное число. Defaults to 1.\n",
    "\n",
    "    Returns:\n",
    "        int: Число попыток\n",
    "    \"\"\"\n",
    "    # Ваш код начинается здесь\n",
    "    count_predict = 0 \n",
    "    \n",
    "    #Начальный диапазон поиска\n",
    "    l_start = 1\n",
    "    l_end = 101\n",
    "    \n",
    "    predict = np.random.randint(l_start, l_end)\n",
    "    \n",
    "    while number != predict:\n",
    "        count_predict += 1\n",
    "        if number > predict:\n",
    "            l_start = predict #сужаем диапазон поиска со стороны минимума\n",
    "            predict  = np.random.randint(l_start,l_end)\n",
    "        elif number < predict:\n",
    "            l_end = predict #сужаем диапазон поиска со стороны максимума\n",
    "            predict = np.random.randint(l_start,l_end)\n",
    "            \n",
    "    return count_predict    \n",
    "    # Ваш код заканчивается здесь"
   ]
  },
  {
   "cell_type": "markdown",
   "metadata": {},
   "source": [
    "Оценка качества нового алгоритма"
   ]
  },
  {
   "cell_type": "code",
   "execution_count": 19,
   "metadata": {},
   "outputs": [
    {
     "name": "stdout",
     "output_type": "stream",
     "text": [
      "Запуск тестирования V3: выбор с коррекцией диапазона поиска - Ваш алгоритм угадывает число в среднем за: 7 попытки\n"
     ]
    }
   ],
   "source": [
    "print('Запуск тестирования V3: выбор с коррекцией диапазона поиска - ', end='')\n",
    "score_game(predict_number_v3)"
   ]
  }
 ],
 "metadata": {
  "kernelspec": {
   "display_name": "Python 3",
   "language": "python",
   "name": "python3"
  },
  "language_info": {
   "codemirror_mode": {
    "name": "ipython",
    "version": 3
   },
   "file_extension": ".py",
   "mimetype": "text/x-python",
   "name": "python",
   "nbconvert_exporter": "python",
   "pygments_lexer": "ipython3",
   "version": "3.13.2"
  }
 },
 "nbformat": 4,
 "nbformat_minor": 2
}
