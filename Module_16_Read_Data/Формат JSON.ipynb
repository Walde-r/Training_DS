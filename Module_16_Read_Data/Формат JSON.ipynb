{
 "cells": [
  {
   "cell_type": "code",
   "execution_count": 1,
   "id": "1d3b5733",
   "metadata": {},
   "outputs": [],
   "source": [
    "import pandas as pd"
   ]
  },
  {
   "cell_type": "markdown",
   "id": "19419116",
   "metadata": {},
   "source": [
    "### JSON\n",
    "\n",
    "**JSON** — это простой, структурированный формат обмена данными, основанный на использовании текста.\n",
    "\n",
    "Под обменом данных в этом контексте чаще всего подразумевается передача данных по компьютерным сетям, например пересылка данных от сервера к браузеру.\n",
    "\n",
    "Аббревиатура **JSON** расшифровывается как **JavaScript Object Notation**, в переводе на русский — система обозначения/записи объектов JavaScript. Несмотря на то, что JSON изначально основывался на языке программирования JavaScript, он является общепризнанным форматом обмена данными, и многие языки программирования, включая Python, содержат эффективные инструменты для работы с ним.\n",
    "\n",
    "Если вы планируете использовать в своей работе информацию, которая автоматически загружается из каких-либо веб-служб, то умение работать с форматом **JSON — это критически важный навык**, который обязательно необходимо приобрести.\n",
    "\n",
    "Именно этим мы сейчас и займёмся!\n",
    "\n",
    "Итак, JSON — это простой, структурированный, основанный на использовании текста формат обмена данными.\n",
    "\n",
    "### Модули для работы с JSON\n",
    "\n",
    "Для работы с данными в формате JSON используется модуль `json` из стандартной библиотеки языка Python, который необходимо будет загрузить перед началом работы с данными, выполнив следующую команду:\n",
    "\n",
    "Также нам может быть полезен модуль `pprint`  (от англ. pretty print, рус. красивый вывод на экран), а точнее — встроенная в него одноимённая функция `pprint()`, с помощью которой можно красиво выводить на экран содержимое JSON-файла. Для загрузки нужной нам функции перед началом работы выполним следующий код:"
   ]
  },
  {
   "cell_type": "code",
   "execution_count": 3,
   "id": "520a47d9",
   "metadata": {},
   "outputs": [],
   "source": [
    "# Импортируем модуль json\n",
    "import json\n",
    "\n",
    "# Импортируем функцию pprint()\n",
    "from pprint import pprint"
   ]
  },
  {
   "cell_type": "markdown",
   "id": "97737bdb",
   "metadata": {},
   "source": [
    "### КАК ВЫГЛЯДИТ JSON-ФАЙЛ?\n",
    "\n",
    "Информация в формате JSON представляет собой (в закодированном виде) одну из двух структур:\n",
    "\n",
    "- набор пар **\"ключ-значение\"**, где ключ — это всегда строковая величина (в Python такая структура преобразуется в словарь);\n",
    "- упорядоченный набор значений (при чтении JSON-файла в Python эта структура будет преобразована в список).\n",
    "\n",
    "<img src='img/json_0.png'>\n",
    "\n",
    "Формат JSON допускает неограниченное количество вложений этих структур друг в друга.\n",
    "\n",
    "Давайте на примере посмотрим, что это означает. Все упражнения раздела мы будем выполнять на примере файла, содержащего информацию об ингредиентах блюд, относящихся к кухням разных народов.\n",
    "\n",
    "✍️ Мы будем работать с сокращённой версией файла. Скачайте [файл](https://lms-cdn.skillfactory.ru/assets/courseware/v1/92fd198fd3eccc09a8c3498e9dd25588/asset-v1:SkillFactory+DST-3.0+28FEB2021+type@asset+block/recipes.json), откройте его и посмотрите на содержимое (можно использовать любой текстовый редактор, например Блокнот) . Полный датасет, содержащий более 30 000 записей о блюдах, можно найти и скачать перейдя по [ссылке](https://www.kaggle.com/c/whats-cooking/data) (требуется регистрация). Скопируйте скачанный файл `recipes.json` в папку, в которой будете работать (в этой же папке вы будете создавать файлы Jupyter Notebook с кодом и запускать код на выполнение).\n",
    "\n",
    "### ОТКРЫВАЕМ JSON-ФАЙЛ\n",
    "\n",
    "Чтобы перевести данные из формата JSON в формат, который можно обрабатывать инструментами Python, необходимо выполнить процедуру, которая называется **десериализация** (декодирование данных). \n",
    "\n",
    "Обратный процесс, связанный с переводом структур данных Python в формат JSON, называется **сериализацией**.\n",
    "\n",
    "Для выполнения **десериализации** мы воспользуемся методом `load()` (от англ. загрузить) модуля json, который принимает на вход ссылку на открытый JSON-файл:"
   ]
  },
  {
   "cell_type": "code",
   "execution_count": 4,
   "id": "605c8328",
   "metadata": {},
   "outputs": [],
   "source": [
    "# Открываем файл и связываем его с объектом \"f\"\n",
    "with open('data/recipes.json') as f:  \n",
    "    # Загружаем содержимое открытого файла в переменную recipes  \n",
    "    recipes = json.load(f)"
   ]
  },
  {
   "cell_type": "markdown",
   "id": "84743773",
   "metadata": {},
   "source": [
    "**Отлично**! Теперь содержимое нашего файла загружено в переменную `recipes`. Давайте выведем его на экран с помощью функции `pprint()` из одноимённого модуля:\n",
    "\n",
    "✍️ Попробуйте выполнить этот код. Будьте готовы к тому, что данных в наборе много, поэтому в ячейке Out (если вы работаете с Jupyter Notebook) появится несколько сотен строк."
   ]
  },
  {
   "cell_type": "code",
   "execution_count": null,
   "id": "9f2befa8",
   "metadata": {},
   "outputs": [],
   "source": [
    "# Выводим на экран содержимое переменной recipes, используя функцию pprint()\n",
    "pprint(recipes)"
   ]
  },
  {
   "cell_type": "markdown",
   "id": "fd3f6051",
   "metadata": {},
   "source": [
    "<center> <img src='img/json_0_1.jpg'> </center>\n",
    "\n",
    "Итак, мы видим, что рецепт каждого из блюд описан в виде словаря, который состоит из трёх пар \"ключ-значение\":\n",
    "\n",
    "- Ключ **\"cuisine\"** — обозначает принадлежность блюда к определённой национальной кухне (например, 'greek', 'southern_us', 'filipino' и т. д.);\n",
    "- Ключ **\"id\"** — уникальный идентификационный номер блюда;\n",
    "- Ключ **\"ingredients\"**— содержит перечень продуктов, входящих в состав блюда.\n",
    "Все рецепты (то есть все словари) хранятся в одном списке, располагаясь последовательно.\n",
    "\n",
    "### ИЗВЛЕКАЕМ ДАННЫЕ ИЗ JSON-ФАЙЛА\n",
    "\n",
    "После того как мы провели **десериализацию** данных из JSON-файла, мы можем работать с полученным объектом как с обычными списками и словарями. Единственное отличие этой работы от манипуляций с привычными нам списками и словарями заключается в том, что данных теперь больше и они помещены внутрь структуры с большим количеством уровней вложенности.\n",
    "\n",
    "Давайте выясним некоторые детали о блюде, которое записано первым в списке блюд. Его индекс — 0, и информация о нём хранится в словаре. Чтобы узнать ID этого блюда, мы можем обратиться к соответствующему ключу словаря, выполнив следующий код:"
   ]
  },
  {
   "cell_type": "code",
   "execution_count": 8,
   "id": "002061bc",
   "metadata": {},
   "outputs": [
    {
     "data": {
      "text/plain": [
       "10259"
      ]
     },
     "execution_count": 8,
     "metadata": {},
     "output_type": "execute_result"
    }
   ],
   "source": [
    "recipes[0]['id']"
   ]
  },
  {
   "cell_type": "markdown",
   "id": "ad11dd62",
   "metadata": {},
   "source": [
    "Здесь мы сначала извлекаем из списка первый элемент (индекс 0). Поскольку каждый элемент списка является словарём, для получения нужной информации о конкретном блюде нам нужно указать ключ словаря. ID блюда доступно по ключу `'id'`, и мы указываем этот ключ в отдельной паре квадратных скобок:\n",
    "\n",
    "<center> <img src='img/json_1.png'> </center>\n",
    "\n",
    "Аналогичным образом, для получения списка ингредиентов первого блюда в списке мы можем использовать тот же код, заменив в нём ключ 'id' на 'ingredients'. "
   ]
  },
  {
   "cell_type": "code",
   "execution_count": 9,
   "id": "b74e4cd3",
   "metadata": {},
   "outputs": [
    {
     "data": {
      "text/plain": [
       "9"
      ]
     },
     "execution_count": 9,
     "metadata": {},
     "output_type": "execute_result"
    }
   ],
   "source": [
    "# Сколько ингредиентов входят в состав первого блюда из предлагаемого списка?\n",
    "\n",
    "len(recipes[0]['ingredients'])"
   ]
  },
  {
   "cell_type": "markdown",
   "id": "2744a65b",
   "metadata": {},
   "source": [
    "Мы также можем извлечь информацию о конкретном блюде по его ID. Для этого необходимо с помощью цикла, например for, перебрать все элементы списка, проверяя ключ 'id',  и извлечь нужную информацию, когда мы наконец найдем нужное блюдо."
   ]
  },
  {
   "cell_type": "code",
   "execution_count": 10,
   "id": "707cd1e6",
   "metadata": {},
   "outputs": [
    {
     "name": "stdout",
     "output_type": "stream",
     "text": [
      "thai\n"
     ]
    }
   ],
   "source": [
    "# К какой кухне относится блюдо с id = 13121?\n",
    "\n",
    "for rec in recipes:\n",
    "    if rec['id'] == 13121:\n",
    "        print(rec['cuisine'])\n",
    "        break"
   ]
  },
  {
   "cell_type": "markdown",
   "id": "050834a5",
   "metadata": {},
   "source": [
    "На практике также иногда возникают задачи по извлечению из JSON-файла обобщённой информации. Давайте попробуем решить две такие задачи.\n",
    "\n",
    "##### Какое количество уникальных национальных кухонь присутствуют в нашем наборе данных?\n",
    "\n",
    "#### Вариант решения с использованием списка\n",
    "\n",
    "Чтобы извлечь эту информацию, нам нужно создать пустой список и последовательно заполнять его уникальными значениями, доступными по ключу 'cuisine' в каждом из словарей, содержащих информацию о рецептах. Поскольку словари объединены в список recipes, не получится применить известный нам метод unique() (этот метод неприменим к словарям), и для извлечения всех уникальных значений нужно перебирать элементы списка в цикле с параметром.\n",
    "\n",
    "#### Вариант решения с использованием множества\n",
    "\n",
    "Другой способ решения этой же задачи — использование для хранения данных о разных кухнях не списка, а множества (set). Множество содержит только уникальные элементы, поэтому при работе с ним нет необходимости проверять, содержится ли там тот или иной элемент. Если элемент (в нашем примере — название типа кухни) уже есть, то команда \"добавить во множество такое же значение\" будет проигнорирована компьютером."
   ]
  },
  {
   "cell_type": "code",
   "execution_count": 12,
   "id": "b7aaaf34",
   "metadata": {},
   "outputs": [
    {
     "name": "stdout",
     "output_type": "stream",
     "text": [
      "В наборе представлены рецепты 20 кухонь\n"
     ]
    }
   ],
   "source": [
    "# Какое количество уникальных национальных кухонь присутствуют в нашем наборе данных?\n",
    "res_set = set()\n",
    "\n",
    "for rec in recipes:\n",
    "    res_set.add(rec['cuisine'])\n",
    "\n",
    "print(f'В наборе представлены рецепты {len(res_set)} кухонь')"
   ]
  },
  {
   "cell_type": "code",
   "execution_count": 29,
   "id": "5d57b2ac",
   "metadata": {},
   "outputs": [
    {
     "name": "stdout",
     "output_type": "stream",
     "text": [
      "{'greek': 15, 'southern_us': 52, 'filipino': 11, 'indian': 41, 'jamaican': 6, 'spanish': 12, 'italian': 101, 'mexican': 79, 'chinese': 39, 'british': 9, 'thai': 17, 'vietnamese': 9, 'cajun_creole': 16, 'brazilian': 3, 'french': 25, 'japanese': 24, 'irish': 9, 'korean': 21, 'moroccan': 9, 'russian': 2}\n",
      "В представленных данных кухня italian имеет наибольшее количество рецептов\n"
     ]
    }
   ],
   "source": [
    "# Какой из национальных кухонь принадлежит самое большое количество рецептов?\n",
    "\n",
    "dict_cuis = {}\n",
    "\n",
    "for rec in recipes:\n",
    "    cur_val = dict_cuis.get(rec['cuisine'],0)\n",
    "    if cur_val == 0:\n",
    "        dict_cuis.update({rec['cuisine']: 1})\n",
    "    else:\n",
    "        dict_cuis.update({rec['cuisine']: (cur_val+1)})\n",
    "print(dict_cuis)\n",
    "\n",
    "sorted_dict = dict(sorted(dict_cuis.items(), key=lambda x: x[1], reverse=True))\n",
    "\n",
    "print(f'В представленных данных кухня {list(sorted_dict.keys())[0]} имеет наибольшее количество рецептов')"
   ]
  },
  {
   "cell_type": "markdown",
   "id": "ab3f276c",
   "metadata": {},
   "source": [
    "### ИЗ JSON В PANDAS\n",
    "\n",
    "Как вы помните, после **десериализации** наши данные были преобразованы в список, элементами которого являются вложенные словари, содержащие по три пары \"ключ-значение\". \n",
    "\n",
    "Поскольку структура всех вложенных словарей одинакова, мы можем создать DataFrame на основе списка, не проводя с ним никаких дополнительных манипуляций:"
   ]
  },
  {
   "cell_type": "code",
   "execution_count": null,
   "id": "6d71bd11",
   "metadata": {},
   "outputs": [
    {
     "data": {
      "text/html": [
       "<div>\n",
       "<style scoped>\n",
       "    .dataframe tbody tr th:only-of-type {\n",
       "        vertical-align: middle;\n",
       "    }\n",
       "\n",
       "    .dataframe tbody tr th {\n",
       "        vertical-align: top;\n",
       "    }\n",
       "\n",
       "    .dataframe thead th {\n",
       "        text-align: right;\n",
       "    }\n",
       "</style>\n",
       "<table border=\"1\" class=\"dataframe\">\n",
       "  <thead>\n",
       "    <tr style=\"text-align: right;\">\n",
       "      <th></th>\n",
       "      <th>id</th>\n",
       "      <th>cuisine</th>\n",
       "      <th>ingredients</th>\n",
       "    </tr>\n",
       "  </thead>\n",
       "  <tbody>\n",
       "    <tr>\n",
       "      <th>0</th>\n",
       "      <td>10259</td>\n",
       "      <td>greek</td>\n",
       "      <td>[romaine lettuce, black olives, grape tomatoes...</td>\n",
       "    </tr>\n",
       "    <tr>\n",
       "      <th>1</th>\n",
       "      <td>25693</td>\n",
       "      <td>southern_us</td>\n",
       "      <td>[plain flour, ground pepper, salt, tomatoes, g...</td>\n",
       "    </tr>\n",
       "    <tr>\n",
       "      <th>2</th>\n",
       "      <td>20130</td>\n",
       "      <td>filipino</td>\n",
       "      <td>[eggs, pepper, salt, mayonaise, cooking oil, g...</td>\n",
       "    </tr>\n",
       "    <tr>\n",
       "      <th>3</th>\n",
       "      <td>22213</td>\n",
       "      <td>indian</td>\n",
       "      <td>[water, vegetable oil, wheat, salt]</td>\n",
       "    </tr>\n",
       "    <tr>\n",
       "      <th>4</th>\n",
       "      <td>13162</td>\n",
       "      <td>indian</td>\n",
       "      <td>[black pepper, shallots, cornflour, cayenne pe...</td>\n",
       "    </tr>\n",
       "  </tbody>\n",
       "</table>\n",
       "</div>"
      ],
      "text/plain": [
       "      id      cuisine                                        ingredients\n",
       "0  10259        greek  [romaine lettuce, black olives, grape tomatoes...\n",
       "1  25693  southern_us  [plain flour, ground pepper, salt, tomatoes, g...\n",
       "2  20130     filipino  [eggs, pepper, salt, mayonaise, cooking oil, g...\n",
       "3  22213       indian                [water, vegetable oil, wheat, salt]\n",
       "4  13162       indian  [black pepper, shallots, cornflour, cayenne pe..."
      ]
     },
     "metadata": {},
     "output_type": "display_data"
    }
   ],
   "source": [
    "# Импортируем модуль json\n",
    "import json \n",
    "# Импортируем функцию pprint()\n",
    "from pprint import pprint \n",
    "# Импортируем модуль pandas\n",
    "import pandas as pd \n",
    "# Открываем файл и связываем его с объектом \"f\"\n",
    "with open('data/recipes.json') as f: \n",
    "    # Загружаем содержимое открытого файла в переменную recipes\n",
    "    recipes = json.load(f) \n",
    "# Создаём объект DataFrame из списка recipes\n",
    "df = pd.DataFrame(recipes) \n",
    "# Выводим на экран первые строки полученного DataFrame\n",
    "display(df.head())\n",
    "\n",
    "#✍️ Попробуйте! В результате мы действительно получаем DataFrame."
   ]
  },
  {
   "cell_type": "markdown",
   "id": "f3312c44",
   "metadata": {},
   "source": [
    "#### ДОПОЛНИТЕЛЬНО\n",
    "Для непосредственного считывания содержимого файла `recipes.json` в переменную `df` (объект DataFrame) используйте функцию `read_json()` (с англ. читать_json).\n",
    "\n",
    "Для более подробного ознакомления с функцией  `read_json()` предлагаем вам обратиться к [документации](https://pandas.pydata.org/pandas-docs/version/1.1.3/reference/api/pandas.read_json.html)."
   ]
  },
  {
   "cell_type": "code",
   "execution_count": 35,
   "id": "1285c3e1",
   "metadata": {},
   "outputs": [
    {
     "data": {
      "text/html": [
       "<div>\n",
       "<style scoped>\n",
       "    .dataframe tbody tr th:only-of-type {\n",
       "        vertical-align: middle;\n",
       "    }\n",
       "\n",
       "    .dataframe tbody tr th {\n",
       "        vertical-align: top;\n",
       "    }\n",
       "\n",
       "    .dataframe thead th {\n",
       "        text-align: right;\n",
       "    }\n",
       "</style>\n",
       "<table border=\"1\" class=\"dataframe\">\n",
       "  <thead>\n",
       "    <tr style=\"text-align: right;\">\n",
       "      <th></th>\n",
       "      <th>id</th>\n",
       "      <th>cuisine</th>\n",
       "      <th>ingredients</th>\n",
       "    </tr>\n",
       "  </thead>\n",
       "  <tbody>\n",
       "    <tr>\n",
       "      <th>0</th>\n",
       "      <td>10259</td>\n",
       "      <td>greek</td>\n",
       "      <td>[romaine lettuce, black olives, grape tomatoes...</td>\n",
       "    </tr>\n",
       "    <tr>\n",
       "      <th>1</th>\n",
       "      <td>25693</td>\n",
       "      <td>southern_us</td>\n",
       "      <td>[plain flour, ground pepper, salt, tomatoes, g...</td>\n",
       "    </tr>\n",
       "    <tr>\n",
       "      <th>2</th>\n",
       "      <td>20130</td>\n",
       "      <td>filipino</td>\n",
       "      <td>[eggs, pepper, salt, mayonaise, cooking oil, g...</td>\n",
       "    </tr>\n",
       "    <tr>\n",
       "      <th>3</th>\n",
       "      <td>22213</td>\n",
       "      <td>indian</td>\n",
       "      <td>[water, vegetable oil, wheat, salt]</td>\n",
       "    </tr>\n",
       "    <tr>\n",
       "      <th>4</th>\n",
       "      <td>13162</td>\n",
       "      <td>indian</td>\n",
       "      <td>[black pepper, shallots, cornflour, cayenne pe...</td>\n",
       "    </tr>\n",
       "  </tbody>\n",
       "</table>\n",
       "</div>"
      ],
      "text/plain": [
       "      id      cuisine                                        ingredients\n",
       "0  10259        greek  [romaine lettuce, black olives, grape tomatoes...\n",
       "1  25693  southern_us  [plain flour, ground pepper, salt, tomatoes, g...\n",
       "2  20130     filipino  [eggs, pepper, salt, mayonaise, cooking oil, g...\n",
       "3  22213       indian                [water, vegetable oil, wheat, salt]\n",
       "4  13162       indian  [black pepper, shallots, cornflour, cayenne pe..."
      ]
     },
     "metadata": {},
     "output_type": "display_data"
    }
   ],
   "source": [
    "# Импортируем модуль pandas\n",
    "import pandas as pd \n",
    "# Создаём объект DataFrame, загружая содержимое файла recipes.json\n",
    "df = pd.read_json('data/recipes.json') \n",
    "\n",
    "# Выводим на экран первые строки полученного DataFrame\n",
    "display(df.head())"
   ]
  },
  {
   "cell_type": "markdown",
   "id": "c27e0e24",
   "metadata": {},
   "source": [
    "Итак, получившийся DataFrame содержит информацию о рецептах из нашего JSON-файла. \n",
    "\n",
    "Каждая строка соответствует одному рецепту, в столбце `id` хранится его идентификационный номер, в столбце `cuisine` — тип кухни, а столбец `ingredients` содержит список, в котором перечислены ингредиенты, необходимые для приготовления блюда.\n",
    "\n",
    "Такая структура не очень практична, поскольку она не позволяет осуществлять группировку данных и выполнять многие другие операции, связанные с исследованием ингредиентов разных блюд. Например, представьте, что вы хотите отфильтровать блюда, состоящие не более чем из пяти ингредиентов, или блюда, не содержащие мяса. Сделать это, когда ингредиенты блюд хранятся в списках, не очень просто.\n",
    "\n",
    "Для полноценной работы с данными нам необходимо иметь возможность хранить информацию о каждом ингредиенте в отдельном столбце, например:\n",
    "\n",
    "<img src='img/json_pandas_2.jpg'>\n",
    "\n",
    "Давайте шаг за шагом преобразуем DataFrame в такой вид.\n",
    "\n",
    "Работу над преобразованием DataFrame начнём с создания и заполнения столбцов, содержащих сведения о наличии или отсутствии каждого ингредиента в рецепте. Процесс заполнения выполним в два этапа:\n",
    "\n",
    "1. Создадим функцию для заполнения значения в каждой ячейке. Функция будет проверять наличие конкретного ингредиента в столбце ingredients для текущего блюда и возвращать 1, если ингредиент есть в рецепте, и 0, если он отсутствует.\n",
    "\n",
    "2. Организуем цикл, в котором будем перебирать наименования всех ингредиентов DataFrame (для этого потребуется создать реестр, то есть некий список, который содержит уникальные наименования ингредиентов). Для каждого ингредиента создадим в DataFrame столбец с соответствующим названием и заполним его единицами и нулями, применив к DataFrame, а точнее к столбцу ingredients функцию, созданную нами на предыдущем этапе."
   ]
  },
  {
   "cell_type": "code",
   "execution_count": 45,
   "id": "52103a90",
   "metadata": {},
   "outputs": [
    {
     "name": "stdout",
     "output_type": "stream",
     "text": [
      "Всего уникальных ингредиентов 1318\n"
     ]
    }
   ],
   "source": [
    "# Создайте реестр уникальных ингредиентов all_ingredients, который будет использоваться на втором этапе. \n",
    "# Какое количество уникальных ингредиентов в нашем DataFrame?\n",
    "\n",
    "all_ingredients = set()\n",
    "\n",
    "for row in df.itertuples():\n",
    "    all_ingredients.update(row.ingredients)\n",
    "\n",
    "print(f'Всего уникальных ингредиентов {len(all_ingredients)}')"
   ]
  },
  {
   "cell_type": "markdown",
   "id": "40ef4a0d",
   "metadata": {},
   "source": [
    "Теперь определим функцию **contains()**, с помощью которой мы будем проверять наличие конкретного ингредиента `ingredient_name` в рецепте текущего блюда, который представлен списком `ingredient_list` (значение в ячейке столбца `ingredients` текущего рецепта).\n",
    "\n",
    " Функция будет возвращать 1, если ингредиент есть в рецепте, и 0, если он отсутствует:"
   ]
  },
  {
   "cell_type": "code",
   "execution_count": 46,
   "id": "b26f56a6",
   "metadata": {},
   "outputs": [],
   "source": [
    "def contains(ingredient_list): \n",
    "    # Если ингредиент есть в текущем блюде,\n",
    "    if ingredient_name in ingredient_list:   \n",
    "        # возвращаем значение 1\n",
    "        return 1 \n",
    "    # Если ингредиента нет в текущем блюде,\n",
    "    else: \n",
    "        # возвращаем значение 0\n",
    "        return 0"
   ]
  },
  {
   "cell_type": "code",
   "execution_count": 48,
   "id": "2e000b21",
   "metadata": {},
   "outputs": [],
   "source": [
    "# Последовательно перебираем ингредиенты в реестре all_ingredients\n",
    "for ingredient_name in all_ingredients: \n",
    "    # В DataFrame cоздаем столбец с именем текущего ингредиента \n",
    "    # и заполняем его единицами и нулями,\n",
    "    # используя ранее созданную функцию contains\n",
    "    df[ingredient_name] = df['ingredients'].apply(contains);"
   ]
  },
  {
   "cell_type": "code",
   "execution_count": 49,
   "id": "c95f953b",
   "metadata": {},
   "outputs": [
    {
     "data": {
      "text/html": [
       "<div>\n",
       "<style scoped>\n",
       "    .dataframe tbody tr th:only-of-type {\n",
       "        vertical-align: middle;\n",
       "    }\n",
       "\n",
       "    .dataframe tbody tr th {\n",
       "        vertical-align: top;\n",
       "    }\n",
       "\n",
       "    .dataframe thead th {\n",
       "        text-align: right;\n",
       "    }\n",
       "</style>\n",
       "<table border=\"1\" class=\"dataframe\">\n",
       "  <thead>\n",
       "    <tr style=\"text-align: right;\">\n",
       "      <th></th>\n",
       "      <th>id</th>\n",
       "      <th>cuisine</th>\n",
       "      <th>ingredients</th>\n",
       "      <th>white bread</th>\n",
       "      <th>fettuccine pasta</th>\n",
       "      <th>dried chile</th>\n",
       "      <th>shiso</th>\n",
       "      <th>chestnuts</th>\n",
       "      <th>prepared horseradish</th>\n",
       "      <th>top round steak</th>\n",
       "      <th>...</th>\n",
       "      <th>wheat</th>\n",
       "      <th>chopped almonds</th>\n",
       "      <th>taco sauce</th>\n",
       "      <th>rice wine</th>\n",
       "      <th>fat-free mayonnaise</th>\n",
       "      <th>softened butter</th>\n",
       "      <th>basmati rice</th>\n",
       "      <th>queso fresco</th>\n",
       "      <th>flax seed meal</th>\n",
       "      <th>orange zest</th>\n",
       "    </tr>\n",
       "  </thead>\n",
       "  <tbody>\n",
       "    <tr>\n",
       "      <th>0</th>\n",
       "      <td>10259</td>\n",
       "      <td>greek</td>\n",
       "      <td>9</td>\n",
       "      <td>0</td>\n",
       "      <td>0</td>\n",
       "      <td>0</td>\n",
       "      <td>0</td>\n",
       "      <td>0</td>\n",
       "      <td>0</td>\n",
       "      <td>0</td>\n",
       "      <td>...</td>\n",
       "      <td>0</td>\n",
       "      <td>0</td>\n",
       "      <td>0</td>\n",
       "      <td>0</td>\n",
       "      <td>0</td>\n",
       "      <td>0</td>\n",
       "      <td>0</td>\n",
       "      <td>0</td>\n",
       "      <td>0</td>\n",
       "      <td>0</td>\n",
       "    </tr>\n",
       "    <tr>\n",
       "      <th>1</th>\n",
       "      <td>25693</td>\n",
       "      <td>southern_us</td>\n",
       "      <td>11</td>\n",
       "      <td>0</td>\n",
       "      <td>0</td>\n",
       "      <td>0</td>\n",
       "      <td>0</td>\n",
       "      <td>0</td>\n",
       "      <td>0</td>\n",
       "      <td>0</td>\n",
       "      <td>...</td>\n",
       "      <td>0</td>\n",
       "      <td>0</td>\n",
       "      <td>0</td>\n",
       "      <td>0</td>\n",
       "      <td>0</td>\n",
       "      <td>0</td>\n",
       "      <td>0</td>\n",
       "      <td>0</td>\n",
       "      <td>0</td>\n",
       "      <td>0</td>\n",
       "    </tr>\n",
       "    <tr>\n",
       "      <th>2</th>\n",
       "      <td>20130</td>\n",
       "      <td>filipino</td>\n",
       "      <td>12</td>\n",
       "      <td>0</td>\n",
       "      <td>0</td>\n",
       "      <td>0</td>\n",
       "      <td>0</td>\n",
       "      <td>0</td>\n",
       "      <td>0</td>\n",
       "      <td>0</td>\n",
       "      <td>...</td>\n",
       "      <td>0</td>\n",
       "      <td>0</td>\n",
       "      <td>0</td>\n",
       "      <td>0</td>\n",
       "      <td>0</td>\n",
       "      <td>0</td>\n",
       "      <td>0</td>\n",
       "      <td>0</td>\n",
       "      <td>0</td>\n",
       "      <td>0</td>\n",
       "    </tr>\n",
       "    <tr>\n",
       "      <th>3</th>\n",
       "      <td>22213</td>\n",
       "      <td>indian</td>\n",
       "      <td>4</td>\n",
       "      <td>0</td>\n",
       "      <td>0</td>\n",
       "      <td>0</td>\n",
       "      <td>0</td>\n",
       "      <td>0</td>\n",
       "      <td>0</td>\n",
       "      <td>0</td>\n",
       "      <td>...</td>\n",
       "      <td>1</td>\n",
       "      <td>0</td>\n",
       "      <td>0</td>\n",
       "      <td>0</td>\n",
       "      <td>0</td>\n",
       "      <td>0</td>\n",
       "      <td>0</td>\n",
       "      <td>0</td>\n",
       "      <td>0</td>\n",
       "      <td>0</td>\n",
       "    </tr>\n",
       "    <tr>\n",
       "      <th>4</th>\n",
       "      <td>13162</td>\n",
       "      <td>indian</td>\n",
       "      <td>20</td>\n",
       "      <td>0</td>\n",
       "      <td>0</td>\n",
       "      <td>0</td>\n",
       "      <td>0</td>\n",
       "      <td>0</td>\n",
       "      <td>0</td>\n",
       "      <td>0</td>\n",
       "      <td>...</td>\n",
       "      <td>0</td>\n",
       "      <td>0</td>\n",
       "      <td>0</td>\n",
       "      <td>0</td>\n",
       "      <td>0</td>\n",
       "      <td>0</td>\n",
       "      <td>0</td>\n",
       "      <td>0</td>\n",
       "      <td>0</td>\n",
       "      <td>0</td>\n",
       "    </tr>\n",
       "    <tr>\n",
       "      <th>...</th>\n",
       "      <td>...</td>\n",
       "      <td>...</td>\n",
       "      <td>...</td>\n",
       "      <td>...</td>\n",
       "      <td>...</td>\n",
       "      <td>...</td>\n",
       "      <td>...</td>\n",
       "      <td>...</td>\n",
       "      <td>...</td>\n",
       "      <td>...</td>\n",
       "      <td>...</td>\n",
       "      <td>...</td>\n",
       "      <td>...</td>\n",
       "      <td>...</td>\n",
       "      <td>...</td>\n",
       "      <td>...</td>\n",
       "      <td>...</td>\n",
       "      <td>...</td>\n",
       "      <td>...</td>\n",
       "      <td>...</td>\n",
       "      <td>...</td>\n",
       "    </tr>\n",
       "    <tr>\n",
       "      <th>495</th>\n",
       "      <td>1121</td>\n",
       "      <td>chinese</td>\n",
       "      <td>9</td>\n",
       "      <td>0</td>\n",
       "      <td>0</td>\n",
       "      <td>0</td>\n",
       "      <td>0</td>\n",
       "      <td>0</td>\n",
       "      <td>0</td>\n",
       "      <td>0</td>\n",
       "      <td>...</td>\n",
       "      <td>0</td>\n",
       "      <td>0</td>\n",
       "      <td>0</td>\n",
       "      <td>0</td>\n",
       "      <td>0</td>\n",
       "      <td>0</td>\n",
       "      <td>0</td>\n",
       "      <td>0</td>\n",
       "      <td>0</td>\n",
       "      <td>0</td>\n",
       "    </tr>\n",
       "    <tr>\n",
       "      <th>496</th>\n",
       "      <td>18376</td>\n",
       "      <td>italian</td>\n",
       "      <td>8</td>\n",
       "      <td>0</td>\n",
       "      <td>0</td>\n",
       "      <td>0</td>\n",
       "      <td>0</td>\n",
       "      <td>0</td>\n",
       "      <td>0</td>\n",
       "      <td>0</td>\n",
       "      <td>...</td>\n",
       "      <td>0</td>\n",
       "      <td>0</td>\n",
       "      <td>0</td>\n",
       "      <td>0</td>\n",
       "      <td>0</td>\n",
       "      <td>0</td>\n",
       "      <td>0</td>\n",
       "      <td>0</td>\n",
       "      <td>0</td>\n",
       "      <td>0</td>\n",
       "    </tr>\n",
       "    <tr>\n",
       "      <th>497</th>\n",
       "      <td>17815</td>\n",
       "      <td>italian</td>\n",
       "      <td>8</td>\n",
       "      <td>0</td>\n",
       "      <td>0</td>\n",
       "      <td>0</td>\n",
       "      <td>0</td>\n",
       "      <td>0</td>\n",
       "      <td>0</td>\n",
       "      <td>0</td>\n",
       "      <td>...</td>\n",
       "      <td>0</td>\n",
       "      <td>0</td>\n",
       "      <td>0</td>\n",
       "      <td>0</td>\n",
       "      <td>0</td>\n",
       "      <td>0</td>\n",
       "      <td>0</td>\n",
       "      <td>0</td>\n",
       "      <td>0</td>\n",
       "      <td>0</td>\n",
       "    </tr>\n",
       "    <tr>\n",
       "      <th>498</th>\n",
       "      <td>32878</td>\n",
       "      <td>southern_us</td>\n",
       "      <td>19</td>\n",
       "      <td>0</td>\n",
       "      <td>0</td>\n",
       "      <td>0</td>\n",
       "      <td>0</td>\n",
       "      <td>0</td>\n",
       "      <td>0</td>\n",
       "      <td>0</td>\n",
       "      <td>...</td>\n",
       "      <td>0</td>\n",
       "      <td>0</td>\n",
       "      <td>0</td>\n",
       "      <td>0</td>\n",
       "      <td>0</td>\n",
       "      <td>0</td>\n",
       "      <td>0</td>\n",
       "      <td>0</td>\n",
       "      <td>0</td>\n",
       "      <td>0</td>\n",
       "    </tr>\n",
       "    <tr>\n",
       "      <th>499</th>\n",
       "      <td>24410</td>\n",
       "      <td>british</td>\n",
       "      <td>17</td>\n",
       "      <td>0</td>\n",
       "      <td>0</td>\n",
       "      <td>0</td>\n",
       "      <td>0</td>\n",
       "      <td>0</td>\n",
       "      <td>0</td>\n",
       "      <td>0</td>\n",
       "      <td>...</td>\n",
       "      <td>0</td>\n",
       "      <td>0</td>\n",
       "      <td>0</td>\n",
       "      <td>0</td>\n",
       "      <td>0</td>\n",
       "      <td>0</td>\n",
       "      <td>0</td>\n",
       "      <td>0</td>\n",
       "      <td>0</td>\n",
       "      <td>0</td>\n",
       "    </tr>\n",
       "  </tbody>\n",
       "</table>\n",
       "<p>500 rows × 1321 columns</p>\n",
       "</div>"
      ],
      "text/plain": [
       "        id      cuisine  ingredients  white bread  fettuccine pasta  \\\n",
       "0    10259        greek            9            0                 0   \n",
       "1    25693  southern_us           11            0                 0   \n",
       "2    20130     filipino           12            0                 0   \n",
       "3    22213       indian            4            0                 0   \n",
       "4    13162       indian           20            0                 0   \n",
       "..     ...          ...          ...          ...               ...   \n",
       "495   1121      chinese            9            0                 0   \n",
       "496  18376      italian            8            0                 0   \n",
       "497  17815      italian            8            0                 0   \n",
       "498  32878  southern_us           19            0                 0   \n",
       "499  24410      british           17            0                 0   \n",
       "\n",
       "     dried chile  shiso  chestnuts  prepared horseradish  top round steak  \\\n",
       "0              0      0          0                     0                0   \n",
       "1              0      0          0                     0                0   \n",
       "2              0      0          0                     0                0   \n",
       "3              0      0          0                     0                0   \n",
       "4              0      0          0                     0                0   \n",
       "..           ...    ...        ...                   ...              ...   \n",
       "495            0      0          0                     0                0   \n",
       "496            0      0          0                     0                0   \n",
       "497            0      0          0                     0                0   \n",
       "498            0      0          0                     0                0   \n",
       "499            0      0          0                     0                0   \n",
       "\n",
       "     ...  wheat  chopped almonds  taco sauce  rice wine  fat-free mayonnaise  \\\n",
       "0    ...      0                0           0          0                    0   \n",
       "1    ...      0                0           0          0                    0   \n",
       "2    ...      0                0           0          0                    0   \n",
       "3    ...      1                0           0          0                    0   \n",
       "4    ...      0                0           0          0                    0   \n",
       "..   ...    ...              ...         ...        ...                  ...   \n",
       "495  ...      0                0           0          0                    0   \n",
       "496  ...      0                0           0          0                    0   \n",
       "497  ...      0                0           0          0                    0   \n",
       "498  ...      0                0           0          0                    0   \n",
       "499  ...      0                0           0          0                    0   \n",
       "\n",
       "     softened butter  basmati rice  queso fresco  flax seed meal  orange zest  \n",
       "0                  0             0             0               0            0  \n",
       "1                  0             0             0               0            0  \n",
       "2                  0             0             0               0            0  \n",
       "3                  0             0             0               0            0  \n",
       "4                  0             0             0               0            0  \n",
       "..               ...           ...           ...             ...          ...  \n",
       "495                0             0             0               0            0  \n",
       "496                0             0             0               0            0  \n",
       "497                0             0             0               0            0  \n",
       "498                0             0             0               0            0  \n",
       "499                0             0             0               0            0  \n",
       "\n",
       "[500 rows x 1321 columns]"
      ]
     },
     "metadata": {},
     "output_type": "display_data"
    }
   ],
   "source": [
    "# Заменяем список ингредиентов в рецепте на их количество \n",
    "df['ingredients'] = df['ingredients'].apply(len) \n",
    "# Выводим содержимое полученного DataFrame на экран\n",
    "display(df)"
   ]
  },
  {
   "cell_type": "markdown",
   "id": "3cf35cc8",
   "metadata": {},
   "source": [
    "#### СОХРАНЯЕМ DATAFRAME В CSV-ФАЙЛЕ\n",
    "\n",
    "Если мы планируем продолжать работать с DataFrame, созданными на основе данных, которые мы получили в JSON-формате, то полезно будет сохранить промежуточный DataFrame в виде CSV-файла. Для выполнения этой операции воспользуемся известной нам в Pandas функцией `to_csv()`:"
   ]
  },
  {
   "cell_type": "code",
   "execution_count": 51,
   "id": "3068092f",
   "metadata": {},
   "outputs": [],
   "source": [
    "df.to_csv('data/recipes.csv', index = False)"
   ]
  },
  {
   "cell_type": "markdown",
   "id": "fcf44c86",
   "metadata": {},
   "source": [
    "В качестве основного параметра мы указали имя файла, в котором необходимо сохранить данные. Также мы установили значение параметра `index` как `False`. Такая настройка позволит нам не сохранять индексы строк в виде отдельного столбца; в результате не будут загружаться «лишние» данные при открытии файла при помощи функции `read_csv()`."
   ]
  },
  {
   "cell_type": "markdown",
   "id": "839a5489",
   "metadata": {},
   "source": [
    "### ИЗ PANDAS В JSON\n",
    "\n",
    "Решим обратную задачу и создадим JSON-файл из сохранённого ранее CSV-файла, который получили в конце предыдущего этапа. \n",
    "\n",
    "Начнём с чтения файла и создания DataFrame на его основе:"
   ]
  },
  {
   "cell_type": "code",
   "execution_count": 53,
   "id": "23d78d52",
   "metadata": {},
   "outputs": [],
   "source": [
    "# Создаём DataFrame, читаем данные из файла в переменную df\n",
    "df = pd.read_csv('data/recipes.csv')"
   ]
  },
  {
   "cell_type": "markdown",
   "id": "8bd05064",
   "metadata": {},
   "source": [
    "Теперь, используя только данные из этого файла, нам нужно в точности воссоздать структуру исходного JSON-файла. Мы помним, что после десериализации данные представляли собой список, состоящий из словарей. В каждом словаре хранилась информация о рецепте одного блюда. Каждый словарь состоял из трёх пар \"ключ-значение\". Первая пара содержала название кухни, к которой относилось блюдо, вторая — id блюда, и третья — список ингредиентов входящих в состав блюда.\n",
    "\n",
    "✍️ Поскольку по условию задачи мы не можем использовать предыдущие наработки, давайте начнём с создания списка, содержащего перечень id всех блюд, а также списка ингредиентов, встречающихся в рецептах. Эти списки в дальнейшем мы будем использовать для заполнения JSON-структуры."
   ]
  },
  {
   "cell_type": "code",
   "execution_count": 55,
   "id": "7f34055f",
   "metadata": {},
   "outputs": [
    {
     "name": "stdout",
     "output_type": "stream",
     "text": [
      "[10259, 25693, 20130, 22213, 13162, 6602, 42779, 3735, 16903, 12734, 5875, 45887, 2698, 41995, 31908, 24717, 34466, 1420, 2941, 8152, 13121, 40523, 40989, 29630, 49136, 26705, 27976, 22087, 9197, 1299, 40429, 34419, 10276, 33465, 39250, 37963, 20051, 11300, 17610, 37405, 28302, 31634, 32304, 36341, 29369, 27564, 18515, 3335, 4499, 4906, 5767, 30748, 35930, 44902, 31119, 3535, 47028, 38112, 2646, 5206, 38233, 39267, 11913, 20591, 70, 43928, 8530, 275, 43769, 49111, 11886, 45839, 699, 24568, 8820, 16582, 9058, 4715, 29061, 2107, 22825, 13758, 6886, 14874, 43399, 38254, 41596, 33989, 17004, 4969, 31831, 46648, 36888, 34471, 25164, 39600, 46357, 46905, 8753, 37337, 17636, 8997, 28851, 4635, 7782, 8031, 49434, 31318, 31027, 47095, 4574, 19757, 35570, 44812, 27858, 18624, 9406, 35132, 33071, 8321, 20955, 45776, 6043, 336, 25751, 793, 34367, 7406, 7473, 7532, 5924, 5802, 41078, 20665, 39471, 9595, 27869, 44776, 17771, 43970, 27165, 11190, 21872, 29853, 1154, 9069, 46975, 4892, 21467, 20919, 42013, 17821, 44138, 5980, 41961, 27008, 31867, 34248, 13792, 38502, 7023, 7783, 2472, 45193, 7501, 34930, 42967, 14080, 45352, 46205, 47427, 40064, 9010, 18611, 35124, 45605, 16334, 32035, 16810, 3641, 43374, 9112, 14970, 41396, 4748, 41833, 18031, 29734, 26415, 29801, 24351, 8480, 27023, 10425, 37188, 24338, 3457, 1355, 40738, 42380, 16857, 2923, 7528, 15990, 27615, 26061, 23053, 5090, 36862, 873, 23726, 48576, 25118, 17586, 22678, 428, 6745, 31009, 20983, 19572, 15273, 14198, 18643, 17816, 46893, 1110, 21375, 42833, 5328, 17188, 19622, 26498, 27140, 32353, 37070, 2298, 15291, 8274, 23521, 28342, 8791, 242, 15347, 20981, 39391, 23147, 44020, 3245, 40403, 33603, 19691, 6862, 20123, 22712, 31428, 9373, 7666, 40617, 26676, 38067, 14778, 636, 35408, 22658, 44866, 18389, 40014, 20863, 35041, 30649, 14351, 14146, 48911, 4252, 46135, 20668, 4009, 40466, 32480, 8223, 4114, 3605, 41363, 23437, 9291, 45423, 31462, 45412, 33048, 42879, 6164, 37704, 29489, 6115, 9829, 36254, 23839, 40283, 11108, 42685, 23629, 36565, 42083, 26032, 19811, 30382, 49175, 41668, 9206, 7322, 23637, 43650, 45593, 38706, 38433, 47826, 7171, 18231, 34385, 12340, 33221, 43228, 3416, 23636, 22822, 801, 42007, 20792, 44500, 19004, 41301, 16712, 28250, 34209, 1667, 48571, 10074, 43711, 6440, 36583, 10003, 24738, 20039, 29446, 45711, 45039, 46417, 48080, 15882, 49263, 45956, 40509, 11665, 22997, 44271, 29887, 1764, 40300, 45296, 24365, 34996, 47623, 26464, 18329, 43437, 25375, 26631, 26172, 19747, 38346, 31903, 12099, 38717, 30335, 15171, 31425, 36118, 18190, 33717, 15460, 21052, 35729, 45841, 1182, 15229, 31209, 18271, 14202, 10111, 1128, 37109, 9952, 11164, 9852, 45574, 22581, 9082, 30985, 42612, 38754, 45037, 33197, 13005, 18203, 10210, 38581, 32489, 26647, 34240, 8579, 49639, 17120, 27213, 18621, 35302, 27648, 17658, 24029, 45990, 20692, 37593, 46635, 20149, 623, 12048, 48523, 16797, 23336, 15645, 39904, 35962, 9138, 47406, 30250, 26545, 13554, 44562, 3820, 49668, 27688, 31969, 33085, 20061, 24552, 27204, 8304, 28063, 38473, 84, 12152, 25201, 22633, 41282, 3040, 29033, 40224, 24640, 49262, 28657, 18842, 27019, 2982, 33222, 39361, 13489, 36461, 20757, 35136, 30327, 43455, 36947, 28056, 7530, 47505, 16520, 35311, 22833, 14398, 29168, 22461, 13615, 6360, 40360, 40182, 31438, 31798, 14342, 14385, 14308, 33841, 12830, 23096, 34026, 30835, 15072, 1121, 18376, 17815, 32878, 24410]\n"
     ]
    }
   ],
   "source": [
    "#import pandas as pd\n",
    "#df = pd.read_csv('data/recipes.csv')\n",
    "ids = []\n",
    "\n",
    "for row in df.itertuples():\n",
    "    if not row.id in ids:\n",
    "        ids.append(row.id)\n",
    "\n",
    "print(ids)\n",
    "\n"
   ]
  },
  {
   "cell_type": "code",
   "execution_count": 65,
   "id": "eab096e0",
   "metadata": {},
   "outputs": [
    {
     "name": "stdout",
     "output_type": "stream",
     "text": [
      "1318\n"
     ]
    }
   ],
   "source": [
    "ingredients = df.columns[3:].tolist()\n",
    "print(len(ingredients))"
   ]
  },
  {
   "cell_type": "markdown",
   "id": "0a6b6f6c",
   "metadata": {},
   "source": [
    "Отлично! Теперь мы можем использовать подготовленные списки ids и ingredients для непосредственного создания JSON-структуры.\n",
    "\n",
    "После десериализации JSON-файла мы получили структуру, представляющую собой список, состоящий из словарей. Каждый словарь состоял из трёх пар \"ключ-значение\", при этом в качестве значений выступали:\n",
    "- целое число (id блюда);\n",
    "- строковая величина (тип кухни);\n",
    "- список строковых величин (перечень ингредиентов).\n",
    "\n",
    "Сейчас нам предстоит воссоздать эту структуру, извлекая данные из DataFrame. Для этого необходимо создать:\n",
    "\n",
    "- пустой список **new_recipes** — для хранения итоговой структуры;\n",
    "- список **ids** — для хранения id всех блюд;\n",
    "- список **ingredients** — для хранения названий всех ингредиентов.\n",
    "\n",
    "✍️ Далее необходимо реализовать следующий алгоритм:\n",
    "\n",
    "1. Написать код функции `make_list()`, которая принимает на вход строку DataFrame df, содержащую полные данные об одном блюде (в виде Series), и возвращает перечень ингредиентов, входящих в состав этого блюда (в виде списка).\n",
    "2. Организовать цикл с параметром, в котором будут перебираться элементы списка ids. В результате в процессе прохождения цикла параметр должен принять значение id каждого блюда.\n",
    "3. На каждом шаге цикла создать словарь, содержащий три пары \"ключ-значение\":\n",
    "    - ключу \"id\" присвоить текущее значение параметра цикла как целого числа;\n",
    "    - ключу \"cuisine\" присвоить значение соответствующей кухни, которое мы получим, применив фильтр по текущему id к DataFrame df;\n",
    "    - ключу \"ingredients\" присвоить значение списка, воспользовавшись функцией make_list(), созданной на первом шаге алгоритма.\n",
    "\n",
    "    Каждый созданный словарь добавить к списку new_recipes:"
   ]
  },
  {
   "cell_type": "code",
   "execution_count": 91,
   "id": "ac58850f",
   "metadata": {},
   "outputs": [],
   "source": [
    "def make_list(row):\n",
    "    res_sps = []\n",
    "    for col in list(row.iloc[3:].index):\n",
    "        if row[col] == 1:\n",
    "            res_sps.append(col)\n",
    "    return res_sps\n",
    "   "
   ]
  },
  {
   "cell_type": "code",
   "execution_count": 94,
   "id": "09d8a7fe",
   "metadata": {},
   "outputs": [],
   "source": [
    "# Создаём пустой список для хранения итоговой структуры\n",
    "new_recipes = [] \n",
    "# Организуем цикл с параметром current_id\n",
    "for current_id in ids: \n",
    "    # Получаем значение соответствующей кухни, применив фильтр по текущему значению параметра цикла к DataFrame;\n",
    "    cuisine = df[df['id'] == current_id]['cuisine'].iloc[0] \n",
    "    # Получаем перечень ингредиентов, входящих в состав текущего блюда\n",
    "    current_ingredients = make_list(df[df['id'] == current_id]) \n",
    "    # Создаём текущий словарь\n",
    "    current_recipe = {'cuisine': cuisine, 'id': int(current_id), 'ingredients': current_ingredients} \n",
    "    # Добавляем созданный словарь к списку\n",
    "    new_recipes.append(current_recipe)"
   ]
  },
  {
   "cell_type": "markdown",
   "id": "72c50735",
   "metadata": {},
   "source": [
    "Осталось создать код функции  `make_list()`, выполнить сериализацию и записать результат в файл.\n",
    "\n",
    "Выполним сериализацию списка `new_recipes` и запишем полученные данные в файл.\n",
    "\n",
    "Для сериализации  используем функцию `dumps()`, которой в качестве параметра передадим список `new_recipes`. Запись в файл осуществляется с помощью метода `write()`. Предварительно файл необходимо открыть для записи с помощью функции `open()` c параметром `'w'` (от англ. write, рус. писать):"
   ]
  },
  {
   "cell_type": "code",
   "execution_count": 95,
   "id": "284ef87f",
   "metadata": {},
   "outputs": [],
   "source": [
    "# Импорт модуля json\n",
    "import json \n",
    "# Функция dumps() модуля json сериализирует объект Python в строку формата JSON. \n",
    "new_recipes = json.dumps(new_recipes) \n",
    "\n",
    "# Откроем файл new_recipes.json для записи\n",
    "with open(\"data/new_recipes.json\", \"w\") as write_file: \n",
    "    # Записываем содержимое подготовленные данные в файл\n",
    "    write_file.write(new_recipes)"
   ]
  },
  {
   "cell_type": "markdown",
   "id": "674495f4",
   "metadata": {},
   "source": [
    "Итак, задача по созданию JSON-файла из сохранённого ранее CSV-файла решена!"
   ]
  }
 ],
 "metadata": {
  "kernelspec": {
   "display_name": "myConda_env",
   "language": "python",
   "name": "python3"
  },
  "language_info": {
   "codemirror_mode": {
    "name": "ipython",
    "version": 3
   },
   "file_extension": ".py",
   "mimetype": "text/x-python",
   "name": "python",
   "nbconvert_exporter": "python",
   "pygments_lexer": "ipython3",
   "version": "3.13.2"
  }
 },
 "nbformat": 4,
 "nbformat_minor": 5
}
