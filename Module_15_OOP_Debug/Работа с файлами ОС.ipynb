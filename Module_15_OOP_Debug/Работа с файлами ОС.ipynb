{
 "cells": [
  {
   "cell_type": "markdown",
   "id": "5d113dc4",
   "metadata": {},
   "source": [
    "✍ В этом юните мы с вами поговорим об основных принципах работы с файлами в языке Python — какие встроенные методы используются для открытия, закрытия, чтения, построчного чтения и так далее.\n",
    "\n",
    "На самом деле файлы, как и всё в Python, являются объектами класса. Причём этот класс встроен в Python. У файлов есть свои атрибуты и методы.\n",
    "\n",
    "Давайте на примере работы с файлами разберём, как работают классы, реализованные «под капотом» в Python\n",
    "\n",
    "### Путь к файлу\n",
    "\n",
    "**Путь** (от англ. **path**) — набор символов, показывающий расположение файла или каталога в файловой системе.\n",
    "\n",
    "В операционных системах UNIX разделительным знаком при записи пути является «/» (слеш), в Windows — «\\» (обратный слеш). Эти знаки служат для разделения названия каталогов, составляющих путь к файлу. Все вы видели, например, такой путь на ОС Windows: C:\\Program Files. Это и есть путь до папки Program Files.\n",
    "\n",
    "Существует два типа пути:\n",
    "\n",
    "- **абсолютный**;\n",
    "- **относительный**.\n",
    "- \n",
    "Абсолютный путь всегда считается от «корня», той папки, откуда потом «вырастают» все остальные папки. Для Windows это диск С:, D: и т. д., для Unix это “/”. Абсолютный путь всегда уникальный.\n",
    "\n",
    "Абсолютный путь — это путь, который указывает на одно и то же место в файловой системе, вне зависимости от текущего рабочего каталога или других обстоятельств. Его ещё называют полным.\n",
    "\n",
    "<div align=\"center\">\n",
    "    <img src=img/FPW_C3.4._1.png width=\"50%\" height=\"50%\">\n",
    "</div>"
   ]
  },
  {
   "cell_type": "markdown",
   "id": "12cd3eec",
   "metadata": {},
   "source": [
    "Относительный путь — это путь по отношению к текущему рабочему каталогу пользователя.\n",
    "\n",
    "Чтобы поработать с путями, есть модуль **os**. \n",
    "\n",
    "Функция **os.chdir()** позволяет нам изменить директорию, которую мы в данный момент используем. Если вам нужно знать, какой путь вы в данный момент используете, для этого нужно вызвать **os.getcwd()**."
   ]
  },
  {
   "cell_type": "code",
   "execution_count": 3,
   "id": "d9206663",
   "metadata": {},
   "outputs": [
    {
     "name": "stdout",
     "output_type": "stream",
     "text": [
      "c:\\Users\\washe\\Documents\\SF_Training_DS\\Module_15_OOP_Debug\n"
     ]
    }
   ],
   "source": [
    "import os\n",
    "\n",
    "# получить текущий путь\n",
    "start_path = os.getcwd()\n",
    "print(start_path) "
   ]
  },
  {
   "cell_type": "code",
   "execution_count": 4,
   "id": "918136e7",
   "metadata": {},
   "outputs": [
    {
     "name": "stdout",
     "output_type": "stream",
     "text": [
      "c:\\Users\\washe\\Documents\\SF_Training_DS\n"
     ]
    }
   ],
   "source": [
    "#Далее попробуем подняться на директорию выше:\n",
    "\n",
    "os.chdir(\"..\") # подняться на один уровень выше\n",
    "print(os.getcwd()) # '/home/nbuser'"
   ]
  },
  {
   "cell_type": "code",
   "execution_count": 5,
   "id": "5ccd580e",
   "metadata": {},
   "outputs": [
    {
     "data": {
      "text/plain": [
       "'c:\\\\Users\\\\washe\\\\Documents\\\\SF_Training_DS\\\\Module_15_OOP_Debug'"
      ]
     },
     "execution_count": 5,
     "metadata": {},
     "output_type": "execute_result"
    }
   ],
   "source": [
    "#Теперь вернемся в ту директорию, из которой стартовали. Изначально мы сохраняли её в переменной start_path.\n",
    "os.chdir(start_path)\n",
    "os.getcwd() # '/home/nbuser/library'"
   ]
  },
  {
   "cell_type": "code",
   "execution_count": 6,
   "id": "52b6c83b",
   "metadata": {},
   "outputs": [
    {
     "name": "stdout",
     "output_type": "stream",
     "text": [
      "['archive', 'data', 'helpers', 'img', 'test.py', 'test.txt', 'Введение.ipynb', 'Объекты и Классы.ipynb', 'Принципы ООП.ipynb', 'Работа с файлами ОС.ipynb']\n",
      "Файл отсутствует в данной директории\n"
     ]
    }
   ],
   "source": [
    "# С помощью функции os.listdir() можно получить весь список файлов, находящихся в директории. \n",
    "# Если не указать никаких аргументов, то будет взята текущая директория.\n",
    "\n",
    "# список файлов и директорий в папке\n",
    "print(os.listdir())\n",
    "\n",
    "if 'tmp.py' not in os.listdir():\n",
    "    print(\"Файл отсутствует в данной директории\")"
   ]
  },
  {
   "cell_type": "markdown",
   "id": "31935745",
   "metadata": {},
   "source": [
    "Для того чтобы склеивать пути с учётом особенностей ОС, следует использовать функцию **os.path.join()**. Это связано с тем, что в разных операционных системах могут быть разные разделители каталогов, например в ОС Windows этим разделителем является «\\», а в Linux — «/», как мы и говорили в начале юнита. Поэтому, чтобы поиск файла проходил гладко в обеих системах (ведь ваш скрипт могут запускать на любой системе в связи с кросс-платформенностью Python), лучше всё-таки использовать **os.path.join()**."
   ]
  },
  {
   "cell_type": "code",
   "execution_count": 7,
   "id": "eaef2042",
   "metadata": {},
   "outputs": [
    {
     "name": "stdout",
     "output_type": "stream",
     "text": [
      "c:\\Users\\washe\\Documents\\SF_Training_DS\\Module_15_OOP_Debug\n",
      "c:\\Users\\washe\\Documents\\SF_Training_DS\\Module_15_OOP_Debug\\test\n"
     ]
    }
   ],
   "source": [
    "# соединяет пути с учётом особенностей операционной системы\n",
    "\n",
    "print(start_path)\n",
    "print(os.path.join(start_path, 'test'))\n",
    "\n",
    "# /home/nbuser/library\n",
    "# /home/nbuser/library/test"
   ]
  },
  {
   "cell_type": "code",
   "execution_count": 8,
   "id": "62822adf",
   "metadata": {},
   "outputs": [
    {
     "name": "stdout",
     "output_type": "stream",
     "text": [
      "Текущая директория c:\\Users\\washe\\Documents\\SF_Training_DS\\Module_15_OOP_Debug\n",
      "---\n",
      "Список папок ['archive', 'data', 'helpers', 'img']\n",
      "---\n",
      "Список файлов ['test.py', 'test.txt', 'Введение.ipynb', 'Объекты и Классы.ipynb', 'Принципы ООП.ipynb', 'Работа с файлами ОС.ipynb']\n",
      "---\n",
      "Все пути:\n",
      "Файл  c:\\Users\\washe\\Documents\\SF_Training_DS\\Module_15_OOP_Debug\\test.py\n",
      "Файл  c:\\Users\\washe\\Documents\\SF_Training_DS\\Module_15_OOP_Debug\\test.txt\n",
      "Файл  c:\\Users\\washe\\Documents\\SF_Training_DS\\Module_15_OOP_Debug\\Введение.ipynb\n",
      "Файл  c:\\Users\\washe\\Documents\\SF_Training_DS\\Module_15_OOP_Debug\\Объекты и Классы.ipynb\n",
      "Файл  c:\\Users\\washe\\Documents\\SF_Training_DS\\Module_15_OOP_Debug\\Принципы ООП.ipynb\n",
      "Файл  c:\\Users\\washe\\Documents\\SF_Training_DS\\Module_15_OOP_Debug\\Работа с файлами ОС.ipynb\n",
      "Папка  c:\\Users\\washe\\Documents\\SF_Training_DS\\Module_15_OOP_Debug\\archive\n",
      "Папка  c:\\Users\\washe\\Documents\\SF_Training_DS\\Module_15_OOP_Debug\\data\n",
      "Папка  c:\\Users\\washe\\Documents\\SF_Training_DS\\Module_15_OOP_Debug\\helpers\n",
      "Папка  c:\\Users\\washe\\Documents\\SF_Training_DS\\Module_15_OOP_Debug\\img\n",
      "===\n",
      "Текущая директория c:\\Users\\washe\\Documents\\SF_Training_DS\\Module_15_OOP_Debug\\archive\n",
      "---\n",
      "Папок нет\n",
      "---\n",
      "Список файлов ['25-04-29.pkl']\n",
      "---\n",
      "Файл  c:\\Users\\washe\\Documents\\SF_Training_DS\\Module_15_OOP_Debug\\archive\\25-04-29.pkl\n",
      "===\n",
      "Текущая директория c:\\Users\\washe\\Documents\\SF_Training_DS\\Module_15_OOP_Debug\\data\n",
      "---\n",
      "Папок нет\n",
      "---\n",
      "Список файлов ['input.txt', 'numbers.txt', 'output.txt']\n",
      "---\n",
      "Файл  c:\\Users\\washe\\Documents\\SF_Training_DS\\Module_15_OOP_Debug\\data\\input.txt\n",
      "Файл  c:\\Users\\washe\\Documents\\SF_Training_DS\\Module_15_OOP_Debug\\data\\numbers.txt\n",
      "Файл  c:\\Users\\washe\\Documents\\SF_Training_DS\\Module_15_OOP_Debug\\data\\output.txt\n",
      "===\n",
      "Текущая директория c:\\Users\\washe\\Documents\\SF_Training_DS\\Module_15_OOP_Debug\\helpers\n",
      "---\n",
      "Список папок ['__pycache__']\n",
      "---\n",
      "Список файлов ['client.py', 'data_frame.py', 'dumper.py', '__init__.py']\n",
      "---\n",
      "Все пути:\n",
      "Файл  c:\\Users\\washe\\Documents\\SF_Training_DS\\Module_15_OOP_Debug\\helpers\\client.py\n",
      "Файл  c:\\Users\\washe\\Documents\\SF_Training_DS\\Module_15_OOP_Debug\\helpers\\data_frame.py\n",
      "Файл  c:\\Users\\washe\\Documents\\SF_Training_DS\\Module_15_OOP_Debug\\helpers\\dumper.py\n",
      "Файл  c:\\Users\\washe\\Documents\\SF_Training_DS\\Module_15_OOP_Debug\\helpers\\__init__.py\n",
      "Папка  c:\\Users\\washe\\Documents\\SF_Training_DS\\Module_15_OOP_Debug\\helpers\\__pycache__\n",
      "===\n",
      "Текущая директория c:\\Users\\washe\\Documents\\SF_Training_DS\\Module_15_OOP_Debug\\helpers\\__pycache__\n",
      "---\n",
      "Папок нет\n",
      "---\n",
      "Список файлов ['client.cpython-313.pyc', 'data_frame.cpython-313.pyc', 'dumper.cpython-313.pyc', '__init__.cpython-313.pyc']\n",
      "---\n",
      "Файл  c:\\Users\\washe\\Documents\\SF_Training_DS\\Module_15_OOP_Debug\\helpers\\__pycache__\\client.cpython-313.pyc\n",
      "Файл  c:\\Users\\washe\\Documents\\SF_Training_DS\\Module_15_OOP_Debug\\helpers\\__pycache__\\data_frame.cpython-313.pyc\n",
      "Файл  c:\\Users\\washe\\Documents\\SF_Training_DS\\Module_15_OOP_Debug\\helpers\\__pycache__\\dumper.cpython-313.pyc\n",
      "Файл  c:\\Users\\washe\\Documents\\SF_Training_DS\\Module_15_OOP_Debug\\helpers\\__pycache__\\__init__.cpython-313.pyc\n",
      "===\n",
      "Текущая директория c:\\Users\\washe\\Documents\\SF_Training_DS\\Module_15_OOP_Debug\\img\n",
      "---\n",
      "Папок нет\n",
      "---\n",
      "Список файлов ['dst-3-unit-1-15-1.png', 'dst-3-unit-1-15-2.png', 'dst-3-unit-1-15-3.png', 'dst-3-unit-1-15-4.png', 'dst-3-unit-1-15-5.png', 'FPW_C3.4._1.png']\n",
      "---\n",
      "Файл  c:\\Users\\washe\\Documents\\SF_Training_DS\\Module_15_OOP_Debug\\img\\dst-3-unit-1-15-1.png\n",
      "Файл  c:\\Users\\washe\\Documents\\SF_Training_DS\\Module_15_OOP_Debug\\img\\dst-3-unit-1-15-2.png\n",
      "Файл  c:\\Users\\washe\\Documents\\SF_Training_DS\\Module_15_OOP_Debug\\img\\dst-3-unit-1-15-3.png\n",
      "Файл  c:\\Users\\washe\\Documents\\SF_Training_DS\\Module_15_OOP_Debug\\img\\dst-3-unit-1-15-4.png\n",
      "Файл  c:\\Users\\washe\\Documents\\SF_Training_DS\\Module_15_OOP_Debug\\img\\dst-3-unit-1-15-5.png\n",
      "Файл  c:\\Users\\washe\\Documents\\SF_Training_DS\\Module_15_OOP_Debug\\img\\FPW_C3.4._1.png\n",
      "===\n"
     ]
    }
   ],
   "source": [
    "# Сделайте функцию, которая принимает от пользователя путь и выводит всю информацию о содержимом этой папки. \n",
    "# Для реализации используйте функцию встроенного модуля os.walk(). \n",
    "# Если путь не указан, то сравнение начинается с текущей директории.\n",
    "\n",
    "import os\n",
    "\n",
    "def walk_desc(path=None):\n",
    "    start_path = path if path is not None else os.getcwd()\n",
    "\n",
    "    for root, dirs, files in os.walk(start_path):\n",
    "        print(\"Текущая директория\", root)\n",
    "        print(\"---\")\n",
    "\n",
    "        if dirs:\n",
    "            print(\"Список папок\", dirs)\n",
    "        else:\n",
    "            print(\"Папок нет\")\n",
    "        print(\"---\")\n",
    "\n",
    "        if files:\n",
    "            print(\"Список файлов\", files)\n",
    "        else:\n",
    "            print(\"Файлов нет\")\n",
    "        print(\"---\")\n",
    "\n",
    "        if files and dirs:\n",
    "            print(\"Все пути:\")\n",
    "        for f in files:\n",
    "            print(\"Файл \", os.path.join(root, f))\n",
    "        for d in dirs:\n",
    "            print(\"Папка \", os.path.join(root, d))\n",
    "        print(\"===\")\n",
    "\n",
    "walk_desc()"
   ]
  },
  {
   "cell_type": "markdown",
   "id": "94ede199",
   "metadata": {},
   "source": [
    "### Работа с файлами\n",
    "\n",
    "Python «из коробки» располагает достаточно широким набором инструментов для работы с файлами. Для того чтобы начать работать с файлом, надо его открыть с помощью команды специальной функции open.\n",
    "```python\n",
    "f = open('path/to/file', 'filemode', encoding='utf8')\n",
    "```\n",
    "Результатом этой операции будет файл, в котором указатель текущей позиции поставлен на начало или конец файла.\n",
    "\n",
    "Перед тем, как мы начнём разбирать аргументы, хотелось бы заранее отметить, что указателем называется скорее метка, которая указывает на определённое место в файле. Указателей в классическом понимании программиста, как, например, в C или C++ в Python нет!\n",
    "\n",
    "Давайте по порядку разберём все аргументы:\n",
    "\n",
    "1. **path/to/file** — путь к файлу может быть относительным или абсолютным. Можно указывать в Unix-стиле (path/to/file) или в Windows-стиле (path\\to\\file).\n",
    "\n",
    "2. **filemode** — режим, в котором файл нужно открывать.\n",
    "Записывается в виде строки, может принимать следующие значения:\n",
    "- **r** — открыть на чтение (по умолчанию);\n",
    "- **w** — перезаписать и открыть на запись (если файла нет, то он создастся);\n",
    "- **x** — создать и открыть на запись (если уже есть — исключение);\n",
    "- **a** — открыть на дозапись (указатель будет поставлен в конец);\n",
    "- **t** — открыть в текстовом виде (по умолчанию);\n",
    "- **b** — открыть в бинарном виде.\n",
    "\n",
    "3. **encoding** — указание, в какой кодировке файл записан (utf8, cp1251 и т. д.) По умолчанию стоит utf-8. При этом можно записывать кодировку как через дефис, так и без: utf-8 или utf8.\n",
    "\n",
    "Открытие файла на запись является блокирующей операцией, то есть она останавливает работу нашей программы до того, пока файл не откроется."
   ]
  },
  {
   "cell_type": "markdown",
   "id": "fa35bf0f",
   "metadata": {},
   "source": [
    "#### Теперь давайте поговорим про то, как записывать какую-либо информацию в файл.\n",
    "\n",
    "При открытии файла внутри него ставится указатель текущей позиции для чтения. При открытии в режиме чтения ('r') или записи ('w') указатель ставится на начало, в режиме 'a' (добавление новых записей в конец файла) — в конец.\n",
    "\n",
    "Откроем файл на запись и с помощью метода write запишем в него строку. В качестве результата метод write возвращает количество записанных символов."
   ]
  },
  {
   "cell_type": "code",
   "execution_count": 9,
   "id": "e2e897e1",
   "metadata": {},
   "outputs": [
    {
     "data": {
      "text/plain": [
       "21"
      ]
     },
     "execution_count": 9,
     "metadata": {},
     "output_type": "execute_result"
    }
   ],
   "source": [
    "f = open('test.txt', 'w', encoding='utf8')\n",
    "\n",
    "# Запишем в файл строку\n",
    "f.write(\"This is a test string\\n\")\n",
    "f.write(\"This is a new string\\n\")"
   ]
  },
  {
   "cell_type": "markdown",
   "id": "4cabd354",
   "metadata": {},
   "source": [
    "После вызова команды write ваши данные не сразу попадут и сохранятся в файл. Связано это с особенностями внутренней работы операционных систем. Если для вас критично своевременное попадание информации на жесткий диск компьютера, то после записи вызывайте f.flush() или закрывайте файл. Закрыть файл можно с помощью метода close()."
   ]
  },
  {
   "cell_type": "code",
   "execution_count": 10,
   "id": "3c74264c",
   "metadata": {},
   "outputs": [],
   "source": [
    "# обязательно нужно закрыть файл иначе он будет заблокирован ОС\n",
    "f.close()"
   ]
  },
  {
   "cell_type": "code",
   "execution_count": 11,
   "id": "a939f652",
   "metadata": {},
   "outputs": [],
   "source": [
    "# Теперь давайте посмотрим, как читать данные из файла.\n",
    "#Откроем файл для чтения, в который только что записали две строки:\n",
    "f = open('test.txt', 'r', encoding='utf8')"
   ]
  },
  {
   "cell_type": "markdown",
   "id": "db7c4f58",
   "metadata": {},
   "source": [
    "После того, как файл открыт для чтения, мы можем читать из него данные.\n",
    "\n",
    "f.read(n) — операция, читающая с текущего места n символов, если файл открыт в t режиме, или n байт, если файл открыт в b режиме, и возвращающая прочитанную информацию."
   ]
  },
  {
   "cell_type": "code",
   "execution_count": 12,
   "id": "a45c0c61",
   "metadata": {},
   "outputs": [
    {
     "name": "stdout",
     "output_type": "stream",
     "text": [
      "This is a \n"
     ]
    }
   ],
   "source": [
    "print(f.read(10)) # This is a "
   ]
  },
  {
   "cell_type": "markdown",
   "id": "939f0d9c",
   "metadata": {},
   "source": [
    "После прочтения указатель на содержимое остается на той позиции, где чтение закончилось. Если n не указать, будет прочитано «от печки», то есть от текущего места указателя и до самого конца файла."
   ]
  },
  {
   "cell_type": "code",
   "execution_count": 13,
   "id": "be0be90c",
   "metadata": {},
   "outputs": [
    {
     "data": {
      "text/plain": [
       "'test string\\nThis is a new string\\n'"
      ]
     },
     "execution_count": 13,
     "metadata": {},
     "output_type": "execute_result"
    }
   ],
   "source": [
    "# считали остаток файла\n",
    "f.read() # test string\\nThis is a new string\\n"
   ]
  },
  {
   "cell_type": "code",
   "execution_count": 14,
   "id": "0e5e60cc",
   "metadata": {},
   "outputs": [],
   "source": [
    "#После работы обязательно закрываем файл:\n",
    "\n",
    "# обязательно закрываем файл\n",
    "f.close()"
   ]
  },
  {
   "cell_type": "markdown",
   "id": "d153f92b",
   "metadata": {},
   "source": [
    "### Чтение и запись построчно\n",
    "\n",
    "Зачастую с файлами удобнее работать построчно, поэтому для этого есть отдельные методы:\n",
    "\n",
    "- **writelines** — записывает список строк в файл;\n",
    "- **readline** — считывает из файла одну строку и возвращает её;\n",
    "- **readlines** — считывает из файла все строки в список и возвращает их.\n",
    "-  Метод **f.writelines(sequence)** не будет сам за вас дописывать символ конца строки ('\\n'), поэтому при необходимости его нужно прописать вручную."
   ]
  },
  {
   "cell_type": "code",
   "execution_count": 15,
   "id": "6347aa17",
   "metadata": {},
   "outputs": [],
   "source": [
    "f = open('test.txt', 'a', encoding='utf8') # открываем файл на дозапись\n",
    "\n",
    "sequence = [\"other string\\n\", \"123\\n\", \"test test\\n\"]\n",
    "f.writelines(sequence) # берет строки из sequence и записывает в файл (без переносов)\n",
    "\n",
    "f.close()"
   ]
  },
  {
   "cell_type": "code",
   "execution_count": 16,
   "id": "5d33c177",
   "metadata": {},
   "outputs": [
    {
     "name": "stdout",
     "output_type": "stream",
     "text": [
      "['This is a test string\\n', 'This is a new string\\n', 'other string\\n', '123\\n', 'test test\\n']\n"
     ]
    }
   ],
   "source": [
    "#Попробуем теперь построчно считать файл с помощью readlines:\n",
    "\n",
    "f = open('test.txt', 'r', encoding='utf8')\n",
    "\n",
    "print(f.readlines()) # считывает все строки в список и возвращает список\n",
    "\n",
    "f.close()"
   ]
  },
  {
   "cell_type": "markdown",
   "id": "ebac6d64",
   "metadata": {},
   "source": [
    "Метод **f.readline()** возвращает строку (символы от текущей позиции до символа переноса строки \\n, который остаётся в конце строки и опускается только в последней строке файла, если файл не заканчивается новой строкой):"
   ]
  },
  {
   "cell_type": "code",
   "execution_count": 17,
   "id": "dfaefea5",
   "metadata": {},
   "outputs": [
    {
     "name": "stdout",
     "output_type": "stream",
     "text": [
      "This is a test string\n",
      "\n",
      "This\n",
      " is a new string\n",
      "\n"
     ]
    }
   ],
   "source": [
    "f = open('test.txt', 'r', encoding='utf8')\n",
    "\n",
    "print(f.readline()) # This is a test string\n",
    "print(f.read(4)) # This\n",
    "print(f.readline()) # is a new string\n",
    "\n",
    "f.close()"
   ]
  },
  {
   "cell_type": "markdown",
   "id": "b2dc3f02",
   "metadata": {},
   "source": [
    "### Файл как итератор\n",
    "\n",
    "Объект файл является итератором, поэтому его можно использовать в цикле for.\n",
    "\n",
    "?Для чего это нужно?\n",
    "\n",
    "Итераторы представляют собой такой объект, который вычисляет какие-то действия на каждом шаге, а не все сразу. На примере файла это выглядит примерно так. Предположим, у вас есть огромный текстовый файл, который весит несколько гигабайт. Если попытаться разом считать его полностью с помощью f.readlines(), то он будет загружен в вашу программу, в то время как переменная, в которую будет записан файл, станет весить столько же, сколько и объём считанного файла.\n",
    "\n",
    "В большинстве задач с обработкой текста он весь сразу не нужен, поэтому мы можем, например, считывать его построчно, обрабатывать строку и забывать из нашей программы, чтобы считать новую. Тогда весь файл огромного объема не будет «висеть» в памяти компьютера.\n",
    "\n",
    "Не стоит считывать файл полностью — в большинстве задач с обработкой текста весь файл разом читать не требуется. В таком случае с файлом работают построчно."
   ]
  },
  {
   "cell_type": "code",
   "execution_count": 18,
   "id": "cdabbb77",
   "metadata": {},
   "outputs": [
    {
     "name": "stdout",
     "output_type": "stream",
     "text": [
      "This is a test string\n",
      "This is a new string\n",
      "other string\n",
      "123\n",
      "test test\n"
     ]
    }
   ],
   "source": [
    "f = open('test.txt')  # можно перечислять строки в файле\n",
    "for line in f:\n",
    "    print(line, end='')\n",
    "\n",
    "# This is a test string\n",
    "# This is a new string\n",
    "# other string\n",
    "# 123\n",
    "# test test\n",
    "\n",
    "f.close()\n",
    "\n",
    "# Цикл for, как мы помним, — это цикл, который перебирает по очереди."
   ]
  },
  {
   "cell_type": "markdown",
   "id": "b1aa9d37",
   "metadata": {},
   "source": [
    "### Менеджер контекста with\n",
    "\n",
    "После работы с файлом его необходимо закрыть с помощью метода close(). Файл освобождается для операционной системы (если он был открыт для записи), и другие приложения могут получать к нему доступ. Если не закрыть файл явно, то информация, записываемая в него, может быть утеряна, или файл может повредиться.\n",
    "\n",
    "Для явного указания места работы с файлом, а также чтобы не забывать закрывать файл после обработки, существует менеджер контекста with."
   ]
  },
  {
   "cell_type": "code",
   "execution_count": 19,
   "id": "e384b617",
   "metadata": {},
   "outputs": [
    {
     "ename": "ValueError",
     "evalue": "read of closed file",
     "output_type": "error",
     "traceback": [
      "\u001b[31m---------------------------------------------------------------------------\u001b[39m",
      "\u001b[31mValueError\u001b[39m                                Traceback (most recent call last)",
      "\u001b[36mCell\u001b[39m\u001b[36m \u001b[39m\u001b[32mIn[19]\u001b[39m\u001b[32m, line 6\u001b[39m\n\u001b[32m      3\u001b[39m     a = f.read(\u001b[32m10\u001b[39m)\n\u001b[32m      4\u001b[39m     b = f.read(\u001b[32m23\u001b[39m)\n\u001b[32m----> \u001b[39m\u001b[32m6\u001b[39m \u001b[43mf\u001b[49m\u001b[43m.\u001b[49m\u001b[43mread\u001b[49m\u001b[43m(\u001b[49m\u001b[32;43m3\u001b[39;49m\u001b[43m)\u001b[49m \u001b[38;5;66;03m# Error!\u001b[39;00m\n",
      "\u001b[31mValueError\u001b[39m: read of closed file"
     ]
    }
   ],
   "source": [
    "# В блоке менеджера контекста открытый файл «жив» и с ним можно работать, при выходе из блока - файл закрывается.\n",
    "with open(\"test.txt\", 'rb') as f:\n",
    "    a = f.read(10)\n",
    "    b = f.read(23)\n",
    "\n",
    "f.read(3) # Error!"
   ]
  },
  {
   "cell_type": "markdown",
   "id": "cbe2f5f5",
   "metadata": {},
   "source": [
    "Тело менеджера контекста определяется одним отступом вправо относительно отступов ключевого слова with. Менеджер контекста неявно вызывает закрытие файла после работы, что освобождает вас от забот о том, закрыли ли вы файл или нет. Закрытие файла происходит при любом стечении обстоятельств, даже если внутри with будет ошибка. \n",
    "\n",
    "В дальнейшем мы научимся писать собственные структуры, работающие похожим образом."
   ]
  },
  {
   "cell_type": "code",
   "execution_count": null,
   "id": "532519bd",
   "metadata": {},
   "outputs": [],
   "source": [
    "#Задание 7.4\n",
    "#Создайте любой файл на операционной системе под название input.txt и построчно перепишите его в файл output.txt.\n",
    "\n",
    "with open('data/input.txt', 'r', encoding='cp1251') as f_in:\n",
    "    with open('data/output.txt','w', encoding='cp1251') as f_out:\n",
    "        for str_in in f_in:\n",
    "            f_out.writelines(str_in)"
   ]
  },
  {
   "cell_type": "code",
   "execution_count": null,
   "id": "2ddbc844",
   "metadata": {},
   "outputs": [],
   "source": [
    "#Задание 7.5\n",
    "#Дан файл numbers.txt, компоненты которого являются действительными числами (файл создайте самостоятельно и заполните любыми числам, в одной строке одно число). \n",
    "# Найдите сумму наибольшего и наименьшего из значений и запишите результат в файл output.txt.\n",
    "\n",
    "with open('data/numbers.txt','r',encoding='cp1251') as num_in:\n",
    "    l_numbers = num_in.readlines()\n",
    "    l_numbers = list(map(lambda x: int(x),l_numbers))\n",
    "    \n",
    "    res_value = min(l_numbers) + max(l_numbers)\n",
    "    with open('data/output.txt','w',encoding='cp1251') as num_out:\n",
    "        num_out.write(str(res_value))\n",
    "\n",
    "#Решение от SkilBox\n",
    "\n",
    "filename = 'numbers.txt'\n",
    "output = 'output.txt'\n",
    "\n",
    "with open(filename) as f:\n",
    "    min_ = max_ = float(f.readline())  # считали первое число\n",
    "    for line in f:\n",
    "        num =  float(line)\n",
    "        if num > max_:\n",
    "            max_ = num\n",
    "        elif num < min_:\n",
    "            min_ = num\n",
    "\n",
    "    sum_ = min_ + max_\n",
    "\n",
    "with open(output, 'w') as f:\n",
    "    f.write(str(sum_))\n",
    "    f.write('\\n')"
   ]
  },
  {
   "cell_type": "code",
   "execution_count": null,
   "id": "e61676a2",
   "metadata": {},
   "outputs": [
    {
     "name": "stdout",
     "output_type": "stream",
     "text": [
      "4\n"
     ]
    }
   ],
   "source": [
    "# Задание 7.6\n",
    "#В текстовый файл построчно записаны фамилии и имена учащихся класса и их оценки за контрольную. \n",
    "# Подсчитайте количество учащихся, чья оценка меньше 3 баллов. Cодержание файла:\n",
    "\n",
    "#import os\n",
    "#os.chdir('C:/Users/washe/Documents/SF_Training_DS/Module_15_OOP_Debug')\n",
    "res_value = 0\n",
    "\n",
    "with open('data/res_balls.txt','r',encoding='cp1251') as balls:\n",
    "    for line in balls:\n",
    "        cur_data = line\n",
    "        cur_ball = int(cur_data.replace('\\n','')[-1])\n",
    "        if cur_ball < 3:\n",
    "            res_value += 1\n",
    "\n",
    "print(res_value)\n",
    "\n",
    "\n",
    "#Вариант SkillBox\n",
    "\n",
    "count = 0\n",
    "for line in open('data/res_balls.txt','r',encoding='cp1251'):\n",
    "    points = int(line.split()[-1])\n",
    "    if points < 3:\n",
    "        count += 1"
   ]
  },
  {
   "cell_type": "code",
   "execution_count": null,
   "id": "7897221b",
   "metadata": {},
   "outputs": [],
   "source": [
    "#Задание 7.7\n",
    "#Выполните реверсирование строк файла (перестановку строк файла в обратном порядке).\n",
    "\n",
    "with open(\"input.txt\", \"r\") as input_file:\n",
    "    with open(\"output.txt\", \"w\") as output_file:\n",
    "        for line in reversed(input_file.readlines()):\n",
    "            output_file.write(line)"
   ]
  }
 ],
 "metadata": {
  "kernelspec": {
   "display_name": "myConda_env",
   "language": "python",
   "name": "python3"
  },
  "language_info": {
   "codemirror_mode": {
    "name": "ipython",
    "version": 3
   },
   "file_extension": ".py",
   "mimetype": "text/x-python",
   "name": "python",
   "nbconvert_exporter": "python",
   "pygments_lexer": "ipython3",
   "version": "3.13.2"
  }
 },
 "nbformat": 4,
 "nbformat_minor": 5
}
