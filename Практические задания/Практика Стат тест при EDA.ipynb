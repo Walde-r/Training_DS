{
 "cells": [
  {
   "cell_type": "markdown",
   "id": "d35e4f01",
   "metadata": {},
   "source": [
    "### ИССЛЕДОВАНИЕ ДАННЫХ HR-АГЕНТСТВА\n",
    "\n",
    "#### Постановка задачи\n",
    "\n",
    "HR-агентство изучает тренды на рынке труда в IT. Компания хочет провести исследование на основе данных о зарплатах в сфере Data Science за 2020–2022 годы и получить некоторые выводы.\n",
    "\n",
    "1. Выяснить, какие факторы влияют на зарплату специалиста Data Scientist.\n",
    "2. А также ответить на ключевые вопросы HR-агентства:\n",
    "    - Наблюдается ли ежегодный рост зарплат у специалистов Data Scientist?\n",
    "    - Как соотносятся зарплаты Data Scientist и Data Engineer в 2022 году?\n",
    "    - Как соотносятся зарплаты специалистов Data Scientist в компаниях различных размеров?\n",
    "    - Есть ли связь между наличием должностей Data Scientist и Data Engineer и размером компании?\n",
    "\n",
    "При выявлении интересных закономерностей, отметьте их в своём анализе."
   ]
  },
  {
   "cell_type": "markdown",
   "id": "9b6544f1",
   "metadata": {},
   "source": [
    "#### Загрузка данных "
   ]
  },
  {
   "cell_type": "code",
   "execution_count": 80,
   "id": "60f0bac8",
   "metadata": {},
   "outputs": [
    {
     "data": {
      "text/html": [
       "<div>\n",
       "<style scoped>\n",
       "    .dataframe tbody tr th:only-of-type {\n",
       "        vertical-align: middle;\n",
       "    }\n",
       "\n",
       "    .dataframe tbody tr th {\n",
       "        vertical-align: top;\n",
       "    }\n",
       "\n",
       "    .dataframe thead th {\n",
       "        text-align: right;\n",
       "    }\n",
       "</style>\n",
       "<table border=\"1\" class=\"dataframe\">\n",
       "  <thead>\n",
       "    <tr style=\"text-align: right;\">\n",
       "      <th></th>\n",
       "      <th>Unnamed: 0</th>\n",
       "      <th>work_year</th>\n",
       "      <th>experience_level</th>\n",
       "      <th>employment_type</th>\n",
       "      <th>job_title</th>\n",
       "      <th>salary</th>\n",
       "      <th>salary_currency</th>\n",
       "      <th>salary_in_usd</th>\n",
       "      <th>employee_residence</th>\n",
       "      <th>remote_ratio</th>\n",
       "      <th>company_location</th>\n",
       "      <th>company_size</th>\n",
       "    </tr>\n",
       "  </thead>\n",
       "  <tbody>\n",
       "    <tr>\n",
       "      <th>0</th>\n",
       "      <td>0</td>\n",
       "      <td>2020</td>\n",
       "      <td>MI</td>\n",
       "      <td>FT</td>\n",
       "      <td>Data Scientist</td>\n",
       "      <td>70000</td>\n",
       "      <td>EUR</td>\n",
       "      <td>79833</td>\n",
       "      <td>DE</td>\n",
       "      <td>0</td>\n",
       "      <td>DE</td>\n",
       "      <td>L</td>\n",
       "    </tr>\n",
       "    <tr>\n",
       "      <th>1</th>\n",
       "      <td>1</td>\n",
       "      <td>2020</td>\n",
       "      <td>SE</td>\n",
       "      <td>FT</td>\n",
       "      <td>Machine Learning Scientist</td>\n",
       "      <td>260000</td>\n",
       "      <td>USD</td>\n",
       "      <td>260000</td>\n",
       "      <td>JP</td>\n",
       "      <td>0</td>\n",
       "      <td>JP</td>\n",
       "      <td>S</td>\n",
       "    </tr>\n",
       "    <tr>\n",
       "      <th>2</th>\n",
       "      <td>2</td>\n",
       "      <td>2020</td>\n",
       "      <td>SE</td>\n",
       "      <td>FT</td>\n",
       "      <td>Big Data Engineer</td>\n",
       "      <td>85000</td>\n",
       "      <td>GBP</td>\n",
       "      <td>109024</td>\n",
       "      <td>GB</td>\n",
       "      <td>50</td>\n",
       "      <td>GB</td>\n",
       "      <td>M</td>\n",
       "    </tr>\n",
       "    <tr>\n",
       "      <th>3</th>\n",
       "      <td>3</td>\n",
       "      <td>2020</td>\n",
       "      <td>MI</td>\n",
       "      <td>FT</td>\n",
       "      <td>Product Data Analyst</td>\n",
       "      <td>20000</td>\n",
       "      <td>USD</td>\n",
       "      <td>20000</td>\n",
       "      <td>HN</td>\n",
       "      <td>0</td>\n",
       "      <td>HN</td>\n",
       "      <td>S</td>\n",
       "    </tr>\n",
       "    <tr>\n",
       "      <th>4</th>\n",
       "      <td>4</td>\n",
       "      <td>2020</td>\n",
       "      <td>SE</td>\n",
       "      <td>FT</td>\n",
       "      <td>Machine Learning Engineer</td>\n",
       "      <td>150000</td>\n",
       "      <td>USD</td>\n",
       "      <td>150000</td>\n",
       "      <td>US</td>\n",
       "      <td>50</td>\n",
       "      <td>US</td>\n",
       "      <td>L</td>\n",
       "    </tr>\n",
       "  </tbody>\n",
       "</table>\n",
       "</div>"
      ],
      "text/plain": [
       "   Unnamed: 0  work_year experience_level employment_type  \\\n",
       "0           0       2020               MI              FT   \n",
       "1           1       2020               SE              FT   \n",
       "2           2       2020               SE              FT   \n",
       "3           3       2020               MI              FT   \n",
       "4           4       2020               SE              FT   \n",
       "\n",
       "                    job_title  salary salary_currency  salary_in_usd  \\\n",
       "0              Data Scientist   70000             EUR          79833   \n",
       "1  Machine Learning Scientist  260000             USD         260000   \n",
       "2           Big Data Engineer   85000             GBP         109024   \n",
       "3        Product Data Analyst   20000             USD          20000   \n",
       "4   Machine Learning Engineer  150000             USD         150000   \n",
       "\n",
       "  employee_residence  remote_ratio company_location company_size  \n",
       "0                 DE             0               DE            L  \n",
       "1                 JP             0               JP            S  \n",
       "2                 GB            50               GB            M  \n",
       "3                 HN             0               HN            S  \n",
       "4                 US            50               US            L  "
      ]
     },
     "metadata": {},
     "output_type": "display_data"
    },
    {
     "name": "stdout",
     "output_type": "stream",
     "text": [
      "Уровень значимости alpha = 0.05\n"
     ]
    }
   ],
   "source": [
    "# загружаем необходимые библиотеки\n",
    "import pandas as pd\n",
    "#import numpy as np\n",
    "\n",
    "from scipy import stats\n",
    "import statsmodels.api as sm\n",
    "from statsmodels import stats as sms\n",
    "\n",
    "import matplotlib.pyplot as plt\n",
    "import seaborn as sns\n",
    "\n",
    "# делаем визуальную настройку графиков\n",
    "sns.set_theme(\"notebook\")\n",
    "sns.set_palette(\"Set2\")\n",
    "\n",
    "# загружаем датасет\n",
    "data = pd.read_csv('data/ds_salaries.zip')\n",
    "display(data.head())\n",
    "\n",
    "# задаём уровень значимости\n",
    "alpha = 0.05\n",
    "print(\"Уровень значимости alpha = {:.2f}\".format(alpha))"
   ]
  },
  {
   "cell_type": "markdown",
   "id": "0cf9796e",
   "metadata": {},
   "source": [
    "#### Описательный анализ данных"
   ]
  },
  {
   "cell_type": "code",
   "execution_count": 81,
   "id": "02ed0f2b",
   "metadata": {},
   "outputs": [
    {
     "name": "stdout",
     "output_type": "stream",
     "text": [
      "<class 'pandas.core.frame.DataFrame'>\n",
      "RangeIndex: 607 entries, 0 to 606\n",
      "Data columns (total 12 columns):\n",
      " #   Column              Non-Null Count  Dtype \n",
      "---  ------              --------------  ----- \n",
      " 0   Unnamed: 0          607 non-null    int64 \n",
      " 1   work_year           607 non-null    int64 \n",
      " 2   experience_level    607 non-null    object\n",
      " 3   employment_type     607 non-null    object\n",
      " 4   job_title           607 non-null    object\n",
      " 5   salary              607 non-null    int64 \n",
      " 6   salary_currency     607 non-null    object\n",
      " 7   salary_in_usd       607 non-null    int64 \n",
      " 8   employee_residence  607 non-null    object\n",
      " 9   remote_ratio        607 non-null    int64 \n",
      " 10  company_location    607 non-null    object\n",
      " 11  company_size        607 non-null    object\n",
      "dtypes: int64(5), object(7)\n",
      "memory usage: 57.0+ KB\n"
     ]
    }
   ],
   "source": [
    "data.info()"
   ]
  },
  {
   "cell_type": "markdown",
   "id": "e2eeed1f",
   "metadata": {},
   "source": [
    "Удаляем не информативные столбцы."
   ]
  },
  {
   "cell_type": "code",
   "execution_count": 82,
   "id": "9fdf8f82",
   "metadata": {},
   "outputs": [],
   "source": [
    "#удаляем не информативный столбец\n",
    "data = data.drop('Unnamed: 0', axis=1)\n",
    "#столбец salary предоставляет сведения в разных валютах, поэтому после создания salary_in_usd, его можно удалить\n",
    "data = data.drop('salary', axis=1)"
   ]
  },
  {
   "cell_type": "markdown",
   "id": "eac11428",
   "metadata": {},
   "source": [
    "В наборе данных 607 записей (без пропусков)\n",
    "Проверим на наличие дубликатов записей:"
   ]
  },
  {
   "cell_type": "code",
   "execution_count": 83,
   "id": "fd128dfc",
   "metadata": {},
   "outputs": [
    {
     "name": "stdout",
     "output_type": "stream",
     "text": [
      "Количество дубликатов: 42\n",
      "Размер таблицы после удаления дубликатов: (565, 10)\n"
     ]
    }
   ],
   "source": [
    "print('Количество дубликатов: {}'.format(data[data.duplicated()].shape[0]))\n",
    "\n",
    "# Удаляем дубликаты:\n",
    "data = data.drop_duplicates()\n",
    "print('Размер таблицы после удаления дубликатов: {}'.format(data.shape))"
   ]
  },
  {
   "cell_type": "markdown",
   "id": "9526956c",
   "metadata": {},
   "source": [
    "Корректируем тип данных для категорий, которые определились как числовые."
   ]
  },
  {
   "cell_type": "code",
   "execution_count": 84,
   "id": "c74c5fac",
   "metadata": {},
   "outputs": [
    {
     "name": "stdout",
     "output_type": "stream",
     "text": [
      "<class 'pandas.core.frame.DataFrame'>\n",
      "Index: 565 entries, 0 to 606\n",
      "Data columns (total 10 columns):\n",
      " #   Column              Non-Null Count  Dtype \n",
      "---  ------              --------------  ----- \n",
      " 0   work_year           565 non-null    object\n",
      " 1   experience_level    565 non-null    object\n",
      " 2   employment_type     565 non-null    object\n",
      " 3   job_title           565 non-null    object\n",
      " 4   salary_currency     565 non-null    object\n",
      " 5   salary_in_usd       565 non-null    int64 \n",
      " 6   employee_residence  565 non-null    object\n",
      " 7   remote_ratio        565 non-null    object\n",
      " 8   company_location    565 non-null    object\n",
      " 9   company_size        565 non-null    object\n",
      "dtypes: int64(1), object(9)\n",
      "memory usage: 48.6+ KB\n"
     ]
    }
   ],
   "source": [
    "#столбцы work_year и remote_ratio является категориальным, поэтому меняем его тип на object\n",
    "data['remote_ratio'] = data['remote_ratio'].astype('object')\n",
    "data['work_year'] = data['work_year'].astype('object')\n",
    "data.info()"
   ]
  },
  {
   "cell_type": "markdown",
   "id": "88f8c68a",
   "metadata": {},
   "source": [
    "Все (оставшиеся) признаки классифицированы правильно:\n",
    "- 9 Категориальных\n",
    "- 1 Числовое"
   ]
  },
  {
   "cell_type": "code",
   "execution_count": 85,
   "id": "fd350e81",
   "metadata": {},
   "outputs": [
    {
     "data": {
      "text/html": [
       "<div>\n",
       "<style scoped>\n",
       "    .dataframe tbody tr th:only-of-type {\n",
       "        vertical-align: middle;\n",
       "    }\n",
       "\n",
       "    .dataframe tbody tr th {\n",
       "        vertical-align: top;\n",
       "    }\n",
       "\n",
       "    .dataframe thead th {\n",
       "        text-align: right;\n",
       "    }\n",
       "</style>\n",
       "<table border=\"1\" class=\"dataframe\">\n",
       "  <thead>\n",
       "    <tr style=\"text-align: right;\">\n",
       "      <th></th>\n",
       "      <th>work_year</th>\n",
       "      <th>experience_level</th>\n",
       "      <th>employment_type</th>\n",
       "      <th>job_title</th>\n",
       "      <th>salary_currency</th>\n",
       "      <th>salary_in_usd</th>\n",
       "      <th>employee_residence</th>\n",
       "      <th>remote_ratio</th>\n",
       "      <th>company_location</th>\n",
       "      <th>company_size</th>\n",
       "    </tr>\n",
       "  </thead>\n",
       "  <tbody>\n",
       "    <tr>\n",
       "      <th>count</th>\n",
       "      <td>565.0</td>\n",
       "      <td>565</td>\n",
       "      <td>565</td>\n",
       "      <td>565</td>\n",
       "      <td>565</td>\n",
       "      <td>565.000000</td>\n",
       "      <td>565</td>\n",
       "      <td>565.0</td>\n",
       "      <td>565</td>\n",
       "      <td>565</td>\n",
       "    </tr>\n",
       "    <tr>\n",
       "      <th>unique</th>\n",
       "      <td>3.0</td>\n",
       "      <td>4</td>\n",
       "      <td>4</td>\n",
       "      <td>50</td>\n",
       "      <td>17</td>\n",
       "      <td>NaN</td>\n",
       "      <td>57</td>\n",
       "      <td>3.0</td>\n",
       "      <td>50</td>\n",
       "      <td>3</td>\n",
       "    </tr>\n",
       "    <tr>\n",
       "      <th>top</th>\n",
       "      <td>2022.0</td>\n",
       "      <td>SE</td>\n",
       "      <td>FT</td>\n",
       "      <td>Data Scientist</td>\n",
       "      <td>USD</td>\n",
       "      <td>NaN</td>\n",
       "      <td>US</td>\n",
       "      <td>100.0</td>\n",
       "      <td>US</td>\n",
       "      <td>M</td>\n",
       "    </tr>\n",
       "    <tr>\n",
       "      <th>freq</th>\n",
       "      <td>278.0</td>\n",
       "      <td>243</td>\n",
       "      <td>546</td>\n",
       "      <td>130</td>\n",
       "      <td>359</td>\n",
       "      <td>NaN</td>\n",
       "      <td>295</td>\n",
       "      <td>346.0</td>\n",
       "      <td>318</td>\n",
       "      <td>290</td>\n",
       "    </tr>\n",
       "    <tr>\n",
       "      <th>mean</th>\n",
       "      <td>NaN</td>\n",
       "      <td>NaN</td>\n",
       "      <td>NaN</td>\n",
       "      <td>NaN</td>\n",
       "      <td>NaN</td>\n",
       "      <td>110610.343363</td>\n",
       "      <td>NaN</td>\n",
       "      <td>NaN</td>\n",
       "      <td>NaN</td>\n",
       "      <td>NaN</td>\n",
       "    </tr>\n",
       "    <tr>\n",
       "      <th>std</th>\n",
       "      <td>NaN</td>\n",
       "      <td>NaN</td>\n",
       "      <td>NaN</td>\n",
       "      <td>NaN</td>\n",
       "      <td>NaN</td>\n",
       "      <td>72280.702792</td>\n",
       "      <td>NaN</td>\n",
       "      <td>NaN</td>\n",
       "      <td>NaN</td>\n",
       "      <td>NaN</td>\n",
       "    </tr>\n",
       "    <tr>\n",
       "      <th>min</th>\n",
       "      <td>NaN</td>\n",
       "      <td>NaN</td>\n",
       "      <td>NaN</td>\n",
       "      <td>NaN</td>\n",
       "      <td>NaN</td>\n",
       "      <td>2859.000000</td>\n",
       "      <td>NaN</td>\n",
       "      <td>NaN</td>\n",
       "      <td>NaN</td>\n",
       "      <td>NaN</td>\n",
       "    </tr>\n",
       "    <tr>\n",
       "      <th>25%</th>\n",
       "      <td>NaN</td>\n",
       "      <td>NaN</td>\n",
       "      <td>NaN</td>\n",
       "      <td>NaN</td>\n",
       "      <td>NaN</td>\n",
       "      <td>60757.000000</td>\n",
       "      <td>NaN</td>\n",
       "      <td>NaN</td>\n",
       "      <td>NaN</td>\n",
       "      <td>NaN</td>\n",
       "    </tr>\n",
       "    <tr>\n",
       "      <th>50%</th>\n",
       "      <td>NaN</td>\n",
       "      <td>NaN</td>\n",
       "      <td>NaN</td>\n",
       "      <td>NaN</td>\n",
       "      <td>NaN</td>\n",
       "      <td>100000.000000</td>\n",
       "      <td>NaN</td>\n",
       "      <td>NaN</td>\n",
       "      <td>NaN</td>\n",
       "      <td>NaN</td>\n",
       "    </tr>\n",
       "    <tr>\n",
       "      <th>75%</th>\n",
       "      <td>NaN</td>\n",
       "      <td>NaN</td>\n",
       "      <td>NaN</td>\n",
       "      <td>NaN</td>\n",
       "      <td>NaN</td>\n",
       "      <td>150000.000000</td>\n",
       "      <td>NaN</td>\n",
       "      <td>NaN</td>\n",
       "      <td>NaN</td>\n",
       "      <td>NaN</td>\n",
       "    </tr>\n",
       "    <tr>\n",
       "      <th>max</th>\n",
       "      <td>NaN</td>\n",
       "      <td>NaN</td>\n",
       "      <td>NaN</td>\n",
       "      <td>NaN</td>\n",
       "      <td>NaN</td>\n",
       "      <td>600000.000000</td>\n",
       "      <td>NaN</td>\n",
       "      <td>NaN</td>\n",
       "      <td>NaN</td>\n",
       "      <td>NaN</td>\n",
       "    </tr>\n",
       "  </tbody>\n",
       "</table>\n",
       "</div>"
      ],
      "text/plain": [
       "        work_year experience_level employment_type       job_title  \\\n",
       "count       565.0              565             565             565   \n",
       "unique        3.0                4               4              50   \n",
       "top        2022.0               SE              FT  Data Scientist   \n",
       "freq        278.0              243             546             130   \n",
       "mean          NaN              NaN             NaN             NaN   \n",
       "std           NaN              NaN             NaN             NaN   \n",
       "min           NaN              NaN             NaN             NaN   \n",
       "25%           NaN              NaN             NaN             NaN   \n",
       "50%           NaN              NaN             NaN             NaN   \n",
       "75%           NaN              NaN             NaN             NaN   \n",
       "max           NaN              NaN             NaN             NaN   \n",
       "\n",
       "       salary_currency  salary_in_usd employee_residence  remote_ratio  \\\n",
       "count              565     565.000000                565         565.0   \n",
       "unique              17            NaN                 57           3.0   \n",
       "top                USD            NaN                 US         100.0   \n",
       "freq               359            NaN                295         346.0   \n",
       "mean               NaN  110610.343363                NaN           NaN   \n",
       "std                NaN   72280.702792                NaN           NaN   \n",
       "min                NaN    2859.000000                NaN           NaN   \n",
       "25%                NaN   60757.000000                NaN           NaN   \n",
       "50%                NaN  100000.000000                NaN           NaN   \n",
       "75%                NaN  150000.000000                NaN           NaN   \n",
       "max                NaN  600000.000000                NaN           NaN   \n",
       "\n",
       "       company_location company_size  \n",
       "count               565          565  \n",
       "unique               50            3  \n",
       "top                  US            M  \n",
       "freq                318          290  \n",
       "mean                NaN          NaN  \n",
       "std                 NaN          NaN  \n",
       "min                 NaN          NaN  \n",
       "25%                 NaN          NaN  \n",
       "50%                 NaN          NaN  \n",
       "75%                 NaN          NaN  \n",
       "max                 NaN          NaN  "
      ]
     },
     "execution_count": 85,
     "metadata": {},
     "output_type": "execute_result"
    }
   ],
   "source": [
    "#Основные статистические характеристики признаков\n",
    "data.describe(include='all')"
   ]
  },
  {
   "cell_type": "markdown",
   "id": "090a2cb6",
   "metadata": {},
   "source": [
    "### Визуальный анализ"
   ]
  },
  {
   "cell_type": "code",
   "execution_count": null,
   "id": "700e4b97",
   "metadata": {},
   "outputs": [],
   "source": [
    "fig, axes = plt.subplots(1, 2, figsize=(15, 7))\n",
    "fig.subplots_adjust(hspace=0.4)\n",
    "\n",
    "sns.histplot(data['salary_in_usd'], bins=30, kde=True, ax=axes[0])\n",
    "\n",
    "axes[0].axvline(data['salary_in_usd'].mean(), color='red', linestyle='--', linewidth=0.8)\n",
    "\n",
    "sns.boxplot(data['salary_in_usd'], ax=axes[1], orient='h', medianprops={\"color\": \"red\", \"linestyle\": '--'})\n",
    "axes[1].set(ylabel='Заработная плата')\n",
    "axes[1].set_title('Распределение заработной платы')\n",
    "\n",
    "plt.show()"
   ]
  },
  {
   "cell_type": "markdown",
   "id": "06c24a48",
   "metadata": {},
   "source": [
    "<img src='img/Stats_EDA/output_1.png'>"
   ]
  },
  {
   "cell_type": "code",
   "execution_count": 87,
   "id": "dfe6e7ae",
   "metadata": {},
   "outputs": [
    {
     "data": {
      "text/html": [
       "<div>\n",
       "<style scoped>\n",
       "    .dataframe tbody tr th:only-of-type {\n",
       "        vertical-align: middle;\n",
       "    }\n",
       "\n",
       "    .dataframe tbody tr th {\n",
       "        vertical-align: top;\n",
       "    }\n",
       "\n",
       "    .dataframe thead th {\n",
       "        text-align: right;\n",
       "    }\n",
       "</style>\n",
       "<table border=\"1\" class=\"dataframe\">\n",
       "  <thead>\n",
       "    <tr style=\"text-align: right;\">\n",
       "      <th></th>\n",
       "      <th>Заработная плата</th>\n",
       "    </tr>\n",
       "  </thead>\n",
       "  <tbody>\n",
       "    <tr>\n",
       "      <th>count</th>\n",
       "      <td>565.00</td>\n",
       "    </tr>\n",
       "    <tr>\n",
       "      <th>mean</th>\n",
       "      <td>110610.34</td>\n",
       "    </tr>\n",
       "    <tr>\n",
       "      <th>std</th>\n",
       "      <td>72280.70</td>\n",
       "    </tr>\n",
       "    <tr>\n",
       "      <th>min</th>\n",
       "      <td>2859.00</td>\n",
       "    </tr>\n",
       "    <tr>\n",
       "      <th>25%</th>\n",
       "      <td>60757.00</td>\n",
       "    </tr>\n",
       "    <tr>\n",
       "      <th>50%</th>\n",
       "      <td>100000.00</td>\n",
       "    </tr>\n",
       "    <tr>\n",
       "      <th>75%</th>\n",
       "      <td>150000.00</td>\n",
       "    </tr>\n",
       "    <tr>\n",
       "      <th>max</th>\n",
       "      <td>600000.00</td>\n",
       "    </tr>\n",
       "  </tbody>\n",
       "</table>\n",
       "</div>"
      ],
      "text/plain": [
       "       Заработная плата\n",
       "count            565.00\n",
       "mean          110610.34\n",
       "std            72280.70\n",
       "min             2859.00\n",
       "25%            60757.00\n",
       "50%           100000.00\n",
       "75%           150000.00\n",
       "max           600000.00"
      ]
     },
     "execution_count": 87,
     "metadata": {},
     "output_type": "execute_result"
    }
   ],
   "source": [
    "data_agg = data['salary_in_usd'].describe().round(2).to_frame()\n",
    "data_agg.columns = ['Заработная плата']\n",
    "data_agg"
   ]
  },
  {
   "cell_type": "markdown",
   "id": "3472f64a",
   "metadata": {},
   "source": [
    "Распределение заработной платы отличается от нормального, при этом отмечаются выбросы в виде редких выплат в размерах общей выплаченной валовой суммы заработной платы свыше 300 тыс. долларов."
   ]
  },
  {
   "cell_type": "code",
   "execution_count": null,
   "id": "98329dff",
   "metadata": {},
   "outputs": [],
   "source": [
    "import matplotlib.gridspec as gridspec\n",
    "\n",
    "x_name = 'Кол-во'\n",
    "\n",
    "fig, axes = plt.subplots(figsize=(15,7))\n",
    "\n",
    "gs = gridspec.GridSpec(3, 3, figure=fig, hspace=0.9, wspace=0.5)\n",
    "\n",
    "#первая строка графиков\n",
    "ax1 = fig.add_subplot(gs[0, 0])\n",
    "ax2 = fig.add_subplot(gs[0, 1])\n",
    "ax3 = fig.add_subplot(gs[0, 2])\n",
    "\n",
    "sns.countplot(data, x='work_year', ax=ax1)\n",
    "ax1.set_title('Распределение по году выплаты')\n",
    "ax1.set(xlabel='Год выплаты', ylabel=x_name)\n",
    "\n",
    "sns.countplot(data, x='experience_level', ax=ax2)\n",
    "ax2.set_title('Распределение по опыту работы')\n",
    "ax2.set(xlabel='Валюта выплаты', ylabel='')\n",
    "\n",
    "sns.countplot(data, x='employment_type', ax=ax3)\n",
    "ax3.set_title('Распределение по типу трудоустройства')\n",
    "ax3.set(xlabel='Тип трудоустройства', ylabel='')\n",
    "\n",
    "#вторая строка\n",
    "ax4 = fig.add_subplot(gs[1, 0])\n",
    "ax5 = fig.add_subplot(gs[1, 1])\n",
    "ax6 = fig.add_subplot(gs[1,2])\n",
    "\n",
    "sns.countplot(data, x='remote_ratio', ax=ax4)\n",
    "ax4.set_title('Распределение по объему удаленки')\n",
    "ax4.set(xlabel='Объем удаленки', ylabel=x_name)\n",
    "\n",
    "sns.countplot(data, x='company_size', ax=ax5)\n",
    "ax5.set_title('Распределение по размеру компании')\n",
    "ax5.set(xlabel='Размер компании', ylabel='')\n",
    "\n",
    "order_currency = data['salary_currency'].value_counts().index\n",
    "sns.countplot(data, x='salary_currency', order = order_currency, ax=ax6)\n",
    "ax6.set_title('Распределение по валюте выплаты')\n",
    "ax6.set(xlabel='Валюта выплаты', ylabel=x_name)\n",
    "\n",
    "#третья строка\n",
    "ax7 = fig.add_subplot(gs[2,0])\n",
    "ax8 = fig.add_subplot(gs[2,1])\n",
    "ax9 = fig.add_subplot(gs[2,2])\n",
    "\n",
    "#сортировка по количеству\n",
    "order_location = data['company_location'].value_counts().index\n",
    "sns.countplot(data, x='company_location', order = order_location, ax=ax7)\n",
    "ax7.set_title('Распределение по стране гравного офиса')\n",
    "ax7.set(xlabel='Страна главного офиса', ylabel='')\n",
    "plt.xticks(rotation=90)  # Повернуть подписи, если длинные\n",
    "\n",
    "order_residence = data['employee_residence'].value_counts().index\n",
    "sns.countplot(data, x='employee_residence', order=order_residence, ax=ax8)\n",
    "ax8.set_title('Распределение по стране проживания')\n",
    "ax8.set(xlabel='Страна проживания', ylabel=x_name)\n",
    "plt.xticks(rotation=90)  # Повернуть подписи, если длинные\n",
    "\n",
    "#сортировка по количеству\n",
    "order_job_title = data['job_title'].value_counts().index\n",
    "#формируем график\n",
    "sns.countplot(data, x='job_title', order = order_job_title, ax=ax9)\n",
    "ax9.set_title('Распределение по специальности')\n",
    "ax9.set(xlabel='Cециальность', ylabel=x_name)\n",
    "plt.xticks(rotation=90)  # Повернуть подписи, если длинные\n",
    "\n",
    "plt.show()\n"
   ]
  },
  {
   "cell_type": "markdown",
   "id": "0339e877",
   "metadata": {},
   "source": [
    "<img src='img/Stats_EDA/output_2.png'>"
   ]
  },
  {
   "cell_type": "code",
   "execution_count": 89,
   "id": "3dece222",
   "metadata": {},
   "outputs": [],
   "source": [
    "#Функция вывода диаграммы распределения заработной платы в зависимости от заданного показателя\n",
    "def show_boxplot(job_DF, category, category_name, p_axes, p_title = True):\n",
    "\n",
    "    box = sns.boxplot(job_DF, y=category, x='salary_in_usd', ax = p_axes, orient='h', medianprops={\"color\": \"red\", \"linestyle\": '--'})\n",
    "    box.set(xlabel='', ylabel=category_name)\n",
    "    if p_title:\n",
    "        box.set_title('Распределение заработной')\n",
    "    else:\n",
    "        box.set_title('')"
   ]
  },
  {
   "cell_type": "code",
   "execution_count": null,
   "id": "3d911d8e",
   "metadata": {},
   "outputs": [],
   "source": [
    "fig, axes = plt.subplots(2,2, figsize=(13, 5))\n",
    "fig.subplots_adjust(hspace=0.5)\n",
    "\n",
    "show_boxplot(data, 'work_year', 'Год выплаты', axes[0,0])\n",
    "show_boxplot(data, 'experience_level', 'Опыт работы', axes[0,1])\n",
    "show_boxplot(data, 'remote_ratio', 'Удаленка', axes[1,0], False)\n",
    "show_boxplot(data, 'employment_type', 'Тип трудоустройства', axes[1,1], False)\n",
    "plt.show()"
   ]
  },
  {
   "cell_type": "markdown",
   "id": "66e3d79c",
   "metadata": {},
   "source": [
    "<img src='img/Stats_EDA/output_3.png'>"
   ]
  },
  {
   "cell_type": "code",
   "execution_count": null,
   "id": "0963b1c3",
   "metadata": {},
   "outputs": [],
   "source": [
    "fig, axes = plt.subplots(1,2, figsize=(13, 8))\n",
    "fig.subplots_adjust(hspace=0.5)\n",
    "\n",
    "show_boxplot(data, 'company_size', 'Размер компании', axes[0], False)\n",
    "show_boxplot(data, 'salary_currency', 'Валюта выплаты', axes[1], False)"
   ]
  },
  {
   "cell_type": "markdown",
   "id": "86a6fdd2",
   "metadata": {},
   "source": [
    "<img src='img/Stats_EDA/output_4.png'>"
   ]
  },
  {
   "cell_type": "code",
   "execution_count": null,
   "id": "f2356cf2",
   "metadata": {},
   "outputs": [],
   "source": [
    "fig, axes = plt.subplots(1,2, figsize=(13, 10))\n",
    "fig.subplots_adjust(hspace=0.5)\n",
    "\n",
    "show_boxplot(data, 'employee_residence', 'Страна проживания', axes[0], False)\n",
    "show_boxplot(data, 'company_location', 'Страна гл. офиса', axes[1])"
   ]
  },
  {
   "cell_type": "markdown",
   "id": "516390b4",
   "metadata": {},
   "source": [
    "<img src='img/Stats_EDA/output_5.png'>"
   ]
  },
  {
   "cell_type": "code",
   "execution_count": null,
   "id": "05dc4308",
   "metadata": {},
   "outputs": [],
   "source": [
    "fig, axes = plt.subplots(figsize=(13, 13))\n",
    "show_boxplot(data,'job_title', 'Роль соискателя', axes)"
   ]
  },
  {
   "cell_type": "markdown",
   "id": "ce2bba05",
   "metadata": {},
   "source": [
    "<img src='img/Stats_EDA/output_6.png'>"
   ]
  },
  {
   "cell_type": "markdown",
   "id": "ecf956e1",
   "metadata": {},
   "source": [
    "Общий визуальный анализ данных показывает, что все признаки, так или иначе могут влиять на размер заработной платы соискателей, по всем должностям. \n",
    "\n",
    "Для предварительного ответа на первый вопрос задания, проведем визуальный анализ влияния показателий на заработную плату Data Scientist.\n",
    "\n",
    "Для этого формируем набор данных с фильтром по заданной специальности."
   ]
  },
  {
   "cell_type": "code",
   "execution_count": 94,
   "id": "7d7edefb",
   "metadata": {},
   "outputs": [
    {
     "data": {
      "text/html": [
       "<div>\n",
       "<style scoped>\n",
       "    .dataframe tbody tr th:only-of-type {\n",
       "        vertical-align: middle;\n",
       "    }\n",
       "\n",
       "    .dataframe tbody tr th {\n",
       "        vertical-align: top;\n",
       "    }\n",
       "\n",
       "    .dataframe thead th {\n",
       "        text-align: right;\n",
       "    }\n",
       "</style>\n",
       "<table border=\"1\" class=\"dataframe\">\n",
       "  <thead>\n",
       "    <tr style=\"text-align: right;\">\n",
       "      <th></th>\n",
       "      <th>work_year</th>\n",
       "      <th>experience_level</th>\n",
       "      <th>employment_type</th>\n",
       "      <th>job_title</th>\n",
       "      <th>salary_currency</th>\n",
       "      <th>salary_in_usd</th>\n",
       "      <th>employee_residence</th>\n",
       "      <th>remote_ratio</th>\n",
       "      <th>company_location</th>\n",
       "      <th>company_size</th>\n",
       "    </tr>\n",
       "  </thead>\n",
       "  <tbody>\n",
       "    <tr>\n",
       "      <th>0</th>\n",
       "      <td>2020</td>\n",
       "      <td>MI</td>\n",
       "      <td>FT</td>\n",
       "      <td>Data Scientist</td>\n",
       "      <td>EUR</td>\n",
       "      <td>79833</td>\n",
       "      <td>DE</td>\n",
       "      <td>0</td>\n",
       "      <td>DE</td>\n",
       "      <td>L</td>\n",
       "    </tr>\n",
       "    <tr>\n",
       "      <th>7</th>\n",
       "      <td>2020</td>\n",
       "      <td>MI</td>\n",
       "      <td>FT</td>\n",
       "      <td>Data Scientist</td>\n",
       "      <td>HUF</td>\n",
       "      <td>35735</td>\n",
       "      <td>HU</td>\n",
       "      <td>50</td>\n",
       "      <td>HU</td>\n",
       "      <td>L</td>\n",
       "    </tr>\n",
       "    <tr>\n",
       "      <th>10</th>\n",
       "      <td>2020</td>\n",
       "      <td>EN</td>\n",
       "      <td>FT</td>\n",
       "      <td>Data Scientist</td>\n",
       "      <td>EUR</td>\n",
       "      <td>51321</td>\n",
       "      <td>FR</td>\n",
       "      <td>0</td>\n",
       "      <td>FR</td>\n",
       "      <td>S</td>\n",
       "    </tr>\n",
       "  </tbody>\n",
       "</table>\n",
       "</div>"
      ],
      "text/plain": [
       "   work_year experience_level employment_type       job_title salary_currency  \\\n",
       "0       2020               MI              FT  Data Scientist             EUR   \n",
       "7       2020               MI              FT  Data Scientist             HUF   \n",
       "10      2020               EN              FT  Data Scientist             EUR   \n",
       "\n",
       "    salary_in_usd employee_residence remote_ratio company_location  \\\n",
       "0           79833                 DE            0               DE   \n",
       "7           35735                 HU           50               HU   \n",
       "10          51321                 FR            0               FR   \n",
       "\n",
       "   company_size  \n",
       "0             L  \n",
       "7             L  \n",
       "10            S  "
      ]
     },
     "metadata": {},
     "output_type": "display_data"
    },
    {
     "name": "stdout",
     "output_type": "stream",
     "text": [
      "<class 'pandas.core.frame.DataFrame'>\n",
      "Index: 130 entries, 0 to 599\n",
      "Data columns (total 10 columns):\n",
      " #   Column              Non-Null Count  Dtype \n",
      "---  ------              --------------  ----- \n",
      " 0   work_year           130 non-null    object\n",
      " 1   experience_level    130 non-null    object\n",
      " 2   employment_type     130 non-null    object\n",
      " 3   job_title           130 non-null    object\n",
      " 4   salary_currency     130 non-null    object\n",
      " 5   salary_in_usd       130 non-null    int64 \n",
      " 6   employee_residence  130 non-null    object\n",
      " 7   remote_ratio        130 non-null    object\n",
      " 8   company_location    130 non-null    object\n",
      " 9   company_size        130 non-null    object\n",
      "dtypes: int64(1), object(9)\n",
      "memory usage: 11.2+ KB\n"
     ]
    }
   ],
   "source": [
    "mask = data['job_title']=='Data Scientist'\n",
    "data_DS = data[mask]\n",
    "display(data_DS.head(3))\n",
    "data_DS.info()"
   ]
  },
  {
   "cell_type": "code",
   "execution_count": null,
   "id": "393d8893",
   "metadata": {},
   "outputs": [],
   "source": [
    "fig, axes = plt.subplots(2,2, figsize=(13, 5))\n",
    "fig.subplots_adjust(hspace=0.5)\n",
    "\n",
    "show_boxplot(data_DS, 'work_year', 'Год выплаты', axes[0,0])\n",
    "show_boxplot(data_DS, 'experience_level', 'Опыт работы', axes[0,1])\n",
    "show_boxplot(data_DS, 'remote_ratio', 'Удаленка', axes[1,0], False)\n",
    "show_boxplot(data_DS, 'employment_type', 'Тип трудоустройства', axes[1,1], False)\n",
    "plt.show()"
   ]
  },
  {
   "cell_type": "markdown",
   "id": "04bbe9e8",
   "metadata": {},
   "source": [
    "<img src='img/Stats_EDA/output_7.png'>"
   ]
  },
  {
   "cell_type": "code",
   "execution_count": 96,
   "id": "2eb85241",
   "metadata": {},
   "outputs": [
    {
     "data": {
      "text/plain": [
       "employment_type\n",
       "FT    127\n",
       "PT      2\n",
       "FL      1\n",
       "Name: count, dtype: int64"
      ]
     },
     "execution_count": 96,
     "metadata": {},
     "output_type": "execute_result"
    }
   ],
   "source": [
    "data_DS['employment_type'].value_counts()"
   ]
  },
  {
   "cell_type": "markdown",
   "id": "40aaafea",
   "metadata": {},
   "source": [
    "В 2022 году зарплата по профессии Data Sсientist, по сравнению с предшествующими двумя годами, значительно выросла. \n",
    "\n",
    "Что может `указывать на ежегодный рост заработной платы специалистов Data Scientist`\n",
    "\n",
    "На заработную плату данной категории работников, влияют:\n",
    "- опыт работы, \n",
    "- объем работ, проведенных удаленно\n",
    "\n",
    "Фактор тип трудоустройства для специальности Data Scientist является не информативным, в силу того,, что из 130 значений 127 являются уникальными, поэтому далее он не будет рассматриваться"
   ]
  },
  {
   "cell_type": "code",
   "execution_count": null,
   "id": "a86a29c2",
   "metadata": {},
   "outputs": [],
   "source": [
    "fig, axes = plt.subplots(1,2, figsize=(13, 8))\n",
    "fig.subplots_adjust(hspace=0.5)\n",
    "\n",
    "show_boxplot(data, 'company_size', 'Размер компании', axes[0], False)\n",
    "show_boxplot(data, 'salary_currency', 'Валюта выплаты', axes[1], False)"
   ]
  },
  {
   "cell_type": "markdown",
   "id": "03071d68",
   "metadata": {},
   "source": [
    "<img src='img/Stats_EDA/output_8.png'>"
   ]
  },
  {
   "cell_type": "markdown",
   "id": "99684620",
   "metadata": {},
   "source": [
    "Так же на заработную плату влияет валюта выплаты, но очевидно этот показатель имеет прямую связь со страной проживания соискателя, и может быть исключен из дальнейшего анализа. \n",
    "\n",
    "`Размер компании не сильно влияет` на заработную плату специалистов Data Scientist"
   ]
  },
  {
   "cell_type": "code",
   "execution_count": null,
   "id": "0ed8ce53",
   "metadata": {},
   "outputs": [],
   "source": [
    "fig, axes = plt.subplots(1,2, figsize=(13, 10))\n",
    "fig.subplots_adjust(hspace=0.5)\n",
    "\n",
    "show_boxplot(data_DS, 'employee_residence', 'Страна проживания', axes[0], False)\n",
    "show_boxplot(data_DS, 'company_location', 'Страна гл. офиса', axes[1])"
   ]
  },
  {
   "cell_type": "markdown",
   "id": "554bb574",
   "metadata": {},
   "source": [
    "<img src='img/Stats_EDA/output_9.png'>"
   ]
  },
  {
   "cell_type": "markdown",
   "id": "41b4b887",
   "metadata": {},
   "source": [
    "Уровень зарплаты аналитиков, так же зависит от страны проживания, размещения главного офиса и вылюты используемой при выплате зарплаты.\n",
    "\n",
    "Визуальный анализ показал что практически все визуализированные факторы `могут оказывать влияние на уровень заработной платы`"
   ]
  },
  {
   "cell_type": "code",
   "execution_count": 99,
   "id": "fb4f4b1d",
   "metadata": {},
   "outputs": [
    {
     "data": {
      "text/html": [
       "<div>\n",
       "<style scoped>\n",
       "    .dataframe tbody tr th:only-of-type {\n",
       "        vertical-align: middle;\n",
       "    }\n",
       "\n",
       "    .dataframe tbody tr th {\n",
       "        vertical-align: top;\n",
       "    }\n",
       "\n",
       "    .dataframe thead th {\n",
       "        text-align: right;\n",
       "    }\n",
       "</style>\n",
       "<table border=\"1\" class=\"dataframe\">\n",
       "  <thead>\n",
       "    <tr style=\"text-align: right;\">\n",
       "      <th></th>\n",
       "      <th>work_year</th>\n",
       "      <th>experience_level</th>\n",
       "      <th>employment_type</th>\n",
       "      <th>job_title</th>\n",
       "      <th>salary_currency</th>\n",
       "      <th>salary_in_usd</th>\n",
       "      <th>employee_residence</th>\n",
       "      <th>remote_ratio</th>\n",
       "      <th>company_location</th>\n",
       "      <th>company_size</th>\n",
       "    </tr>\n",
       "  </thead>\n",
       "  <tbody>\n",
       "    <tr>\n",
       "      <th>0</th>\n",
       "      <td>2020</td>\n",
       "      <td>MI</td>\n",
       "      <td>FT</td>\n",
       "      <td>Data Scientist</td>\n",
       "      <td>EUR</td>\n",
       "      <td>79833</td>\n",
       "      <td>DE</td>\n",
       "      <td>0</td>\n",
       "      <td>DE</td>\n",
       "      <td>L</td>\n",
       "    </tr>\n",
       "    <tr>\n",
       "      <th>7</th>\n",
       "      <td>2020</td>\n",
       "      <td>MI</td>\n",
       "      <td>FT</td>\n",
       "      <td>Data Scientist</td>\n",
       "      <td>HUF</td>\n",
       "      <td>35735</td>\n",
       "      <td>HU</td>\n",
       "      <td>50</td>\n",
       "      <td>HU</td>\n",
       "      <td>L</td>\n",
       "    </tr>\n",
       "    <tr>\n",
       "      <th>10</th>\n",
       "      <td>2020</td>\n",
       "      <td>EN</td>\n",
       "      <td>FT</td>\n",
       "      <td>Data Scientist</td>\n",
       "      <td>EUR</td>\n",
       "      <td>51321</td>\n",
       "      <td>FR</td>\n",
       "      <td>0</td>\n",
       "      <td>FR</td>\n",
       "      <td>S</td>\n",
       "    </tr>\n",
       "  </tbody>\n",
       "</table>\n",
       "</div>"
      ],
      "text/plain": [
       "   work_year experience_level employment_type       job_title salary_currency  \\\n",
       "0       2020               MI              FT  Data Scientist             EUR   \n",
       "7       2020               MI              FT  Data Scientist             HUF   \n",
       "10      2020               EN              FT  Data Scientist             EUR   \n",
       "\n",
       "    salary_in_usd employee_residence remote_ratio company_location  \\\n",
       "0           79833                 DE            0               DE   \n",
       "7           35735                 HU           50               HU   \n",
       "10          51321                 FR            0               FR   \n",
       "\n",
       "   company_size  \n",
       "0             L  \n",
       "7             L  \n",
       "10            S  "
      ]
     },
     "metadata": {},
     "output_type": "display_data"
    },
    {
     "name": "stdout",
     "output_type": "stream",
     "text": [
      "<class 'pandas.core.frame.DataFrame'>\n",
      "Index: 251 entries, 0 to 603\n",
      "Data columns (total 10 columns):\n",
      " #   Column              Non-Null Count  Dtype \n",
      "---  ------              --------------  ----- \n",
      " 0   work_year           251 non-null    object\n",
      " 1   experience_level    251 non-null    object\n",
      " 2   employment_type     251 non-null    object\n",
      " 3   job_title           251 non-null    object\n",
      " 4   salary_currency     251 non-null    object\n",
      " 5   salary_in_usd       251 non-null    int64 \n",
      " 6   employee_residence  251 non-null    object\n",
      " 7   remote_ratio        251 non-null    object\n",
      " 8   company_location    251 non-null    object\n",
      " 9   company_size        251 non-null    object\n",
      "dtypes: int64(1), object(9)\n",
      "memory usage: 21.6+ KB\n"
     ]
    }
   ],
   "source": [
    "mask = data['job_title'].isin(['Data Scientist','Data Engineer'])\n",
    "data_DS_plus = data[mask]\n",
    "display(data_DS_plus.head(3))\n",
    "data_DS_plus.info()"
   ]
  },
  {
   "cell_type": "code",
   "execution_count": null,
   "id": "a4c2c587",
   "metadata": {},
   "outputs": [],
   "source": [
    "fig, axes = plt.subplots(figsize=(13, 3))\n",
    "show_boxplot(data_DS_plus,'job_title', 'Роль соискателя', axes)"
   ]
  },
  {
   "cell_type": "markdown",
   "id": "4a65e0de",
   "metadata": {},
   "source": [
    "<img src='img/Stats_EDA/output_10.png'>"
   ]
  },
  {
   "cell_type": "markdown",
   "id": "0af442b3",
   "metadata": {},
   "source": [
    "В `среднем, уровень зарплаты Data Scientist и Data Engineer находятся на одном уровне`, однако зарплата Data Scientist имееть чуть больший разброс и максимальные значения (в качестве выбросов), что указывает, на незначительный но все таки потенциал заработной платы Data Scientist больше чем Data Engineer."
   ]
  },
  {
   "cell_type": "code",
   "execution_count": null,
   "id": "975fc792",
   "metadata": {},
   "outputs": [],
   "source": [
    "mask = data_DS_plus['work_year'] == 2022\n",
    "fig, axes = plt.subplots(figsize=(13, 3))\n",
    "show_boxplot(data_DS_plus[mask],'job_title', 'Роль соискателя', axes)"
   ]
  },
  {
   "cell_type": "markdown",
   "id": "8d9112e0",
   "metadata": {},
   "source": [
    "<img src='img/Stats_EDA/output_11.png'>"
   ]
  },
  {
   "cell_type": "markdown",
   "id": "ecb7573c",
   "metadata": {},
   "source": [
    "В 2022 году разность между уровнями зарплаты специалистов Data Scientist увеличилась Data Engineer и уже можно предполагать что Data Scientist является более оплачиваемой специальностью чем Data Engineer"
   ]
  },
  {
   "cell_type": "code",
   "execution_count": null,
   "id": "6f772dff",
   "metadata": {},
   "outputs": [],
   "source": [
    "cross_tab = pd.crosstab(index=data_DS_plus['job_title'], columns=data_DS_plus['company_size'])\n",
    "ax = sns.heatmap(cross_tab, annot=True, linewidth=.5, fmt='.0f', cmap=\"coolwarm\")\n",
    "ax.set(xlabel='Размер компании', ylabel='Специальность')\n",
    "plt.title('Таблица сопряженности')\n",
    "plt.show()"
   ]
  },
  {
   "cell_type": "markdown",
   "id": "7eb6bdc4",
   "metadata": {},
   "source": [
    "<img src='img/Stats_EDA/output_12.png'>"
   ]
  },
  {
   "cell_type": "markdown",
   "id": "ab7cb531",
   "metadata": {},
   "source": [
    "Таблица сопряженности показывает что `наличие должностей Data Scientist и Data Engineer не влияет на размер компании`, так мы видим что в крупных и мелких компаниях Data Scientist больше чем Data Engineer, однако в средних компаниях картина обратная."
   ]
  },
  {
   "cell_type": "markdown",
   "id": "618f25b5",
   "metadata": {},
   "source": [
    "#### Ответы по результатам визуального анализа\n",
    "В целях ответа на заданные вопросы, в рамках визуального анализа данных подготовлены предварительные ответы:\n",
    "\n",
    "1. Выяснить, какие факторы влияют на зарплату специалистов Data Scientist.\n",
    "    - Ключевыми факторами, влияющими на заработную плату специалистов Data Scientist влияют:\n",
    "        - Опыт работы;\n",
    "        - Объем работ выполненных на удаленке\n",
    "\n",
    "2. А также ответить на ключевые вопросы HR-агентства:\n",
    "    - Наблюдается ли ежегодный рост зарплат у специалистов Data Scientist?\n",
    "        - Отмечен ежегодный рост зарплат у специалистов Data Scientist\n",
    "    - Как соотносятся зарплаты Data Scientist и Data Engineer в 2022 году?\n",
    "        - в 2022 году средний уровень заработной платы у Data Scientist выше чем у специалистов Data Engineer\n",
    "    - Как соотносятся зарплаты специалистов Data Scientist в компаниях различных размеров?\n",
    "        - Уровень заработной платы Data Scientist практически не зависит от размера компании\n",
    "    - Есть ли связь между наличием должностей Data Scientist и Data Engineer и размером компании?\n",
    "        - Наличие должностей не зависит Data Scientist и Data Engineer не зависит от размера копании\n",
    "\n",
    "### Статистический анализ\n",
    "\n",
    "Далее проверим статистическую значимость выводов полученных при визуальном анализе.\n"
   ]
  },
  {
   "cell_type": "code",
   "execution_count": 103,
   "id": "76d3301d",
   "metadata": {},
   "outputs": [],
   "source": [
    "# функция для принятия решения о нормальности\n",
    "def decision_normality(p):\n",
    "    print('p-value = {:.3f}'.format(p))\n",
    "    if p <= alpha:\n",
    "        print('p-значение меньше, чем заданный уровень значимости {:.2f}. Распределение отлично от нормального'.format(alpha))\n",
    "    else:\n",
    "        print('p-значение больше, чем заданный уровень значимости {:.2f}. Распределение является нормальным'.format(alpha))\n",
    "\n",
    "\n",
    "# функция для принятия решения об отклонении нулевой гипотезы\n",
    "def decision_hypothesis(p):\n",
    "    print('p-value = {:.3f}'.format(p))\n",
    "    if p <= alpha:\n",
    "        print('p-значение меньше, чем заданный уровень значимости {:.2f}. Отвергаем нулевую гипотезу в пользу альтернативной.'.format(alpha))\n",
    "    else:\n",
    "        print('p-значение больше, чем заданный уровень значимости {:.2f}. У нас нет оснований отвергнуть нулевую гипотезу.'.format(alpha))\n",
    "\n",
    "\n",
    "# функция для принятия решения о равенстве дисперсий\n",
    "def decision_dispersion(p):\n",
    "    print('p-value = {:.3f}'.format(p))\n",
    "    # интерпретируем результат\n",
    "    if p <= alpha:\n",
    "        print('Дисперсии не одинаковы, в stats.ttest_ind нужно использовать параметр equal_var=False.')\n",
    "    else:\n",
    "        print('Дисперсии одинаковы, в stats.ttest_ind нужно использовать параметр equal_var=True.')"
   ]
  },
  {
   "cell_type": "code",
   "execution_count": 104,
   "id": "60a40229",
   "metadata": {},
   "outputs": [],
   "source": [
    "# Функция подсказа по выбору статистического теста\n",
    "def Select_STest(p_typeData, p_cntGroup, p_addictGroup=False, p_normData = False):\n",
    "    # p_typeData - тип данных: 0 - Количественные; 1 - Категориальные\n",
    "    # p_cntGroup - количество групп\n",
    "    # p_addictGroup - зависимость групп: True - зависимые; False - независимые\n",
    "    # p_normData - нормальность распредеоение данных: True - нормальное распределение; False - не нормальное распределение\n",
    "    res_STest = None\n",
    "    res_Example = None\n",
    "\n",
    "    if p_typeData == 0:\n",
    "        if p_cntGroup == 1:\n",
    "            res_Example = 'Равно ли среднее время выполнения задания студентами 20 минутам?'\n",
    "            if p_normData:\n",
    "                res_STest = 'Одновыборочный t-критерий: scipy.stats.ttest_1samp()'\n",
    "            else:\n",
    "                res_STest = 'Критерий знаков (для одной выборки): statsmodels.stats.descriptivestats.sign_test()'\n",
    "\n",
    "        if p_cntGroup == 2:\n",
    "            if not p_addictGroup:\n",
    "                res_Example = 'Различен ли средний балл в конце первого полугодия у учеников двух разных классов?'\n",
    "                if p_normData:\n",
    "                    res_STest = 'Двухвыборочный t-критерий: scipy.stats.ttest_ind()'\n",
    "                else:\n",
    "                    res_STest = 'U-критерий Манна-Уитни: scipy.stats.mannwhitneyu()'\n",
    "            else:\n",
    "                res_Example = 'Различен ли средний балл у учеников в конце первого и второго полугодия?'\n",
    "                if p_normData:\n",
    "                    res_STest = 'Парный t-критерий: scipy.stats.ttest_rel()'\n",
    "                else:\n",
    "                    res_STest = 'Критерий Уилкоксона: scipy.stats.wilcoxon()'\n",
    "\n",
    "        if p_cntGroup >= 3:\n",
    "            if not p_addictGroup:\n",
    "                res_Example = 'Различно ли время восстановления у спортсменов трех различных школ?'\n",
    "                if p_normData:\n",
    "                    res_STest = 'Однофакторный дисперсионный анализ (ANOVA): scipy.stats.f_oneway()'\n",
    "                else:\n",
    "                    res_STest = 'Критерий Краскела-Уоллиса: scipy.stats.kruskal()'\n",
    "            else:\n",
    "                res_Example = 'Различно ли время восстановленя спортсменов одной школы в начале, середине и конце сезона?'\n",
    "                if p_normData:\n",
    "                    res_STest = 'Однофакторный дисперсионный анализ (ANOVA) с повторными измерениями: statsmodels.stats.anova.AnovaRM()'\n",
    "                else:\n",
    "                    res_STest = 'Критерий Фридмана: scipy.stats.fridmanchisquare()'\n",
    "\n",
    "    else:\n",
    "        if not p_addictGroup:\n",
    "            res_Example = 'Есть ли связь между тарифом сотового оператора, и наличием детей у абонента?'\n",
    "            res_STest = 'Критерий хи-квадрат (поиск связи): scipy.stats.chi2_contingency()'\n",
    "        else:\n",
    "            res_Example = 'Изменилась ли доля клиентов, после проведения рекламной компании?'\n",
    "            res_STest = 'Критерий Мак-Немара: statsmodels.stats.contingency_tables.mcnemar()'\n",
    "\n",
    "\n",
    "    return res_STest + chr(10) + res_Example\n"
   ]
  },
  {
   "cell_type": "markdown",
   "id": "ad233bec",
   "metadata": {},
   "source": [
    "### 1. Опыт работы влияет на уровень заработной платы специалистов Data Scientist\n",
    "\n",
    "`Нулевая гипотеза`: Опыт работы не влияет на уровень заработной платы\n",
    "\n",
    "$H_0: \\mu_\\text{EN} = \\mu_\\text{MI} = \\mu_\\text{SE}$\n",
    "\n",
    "`Альтернативная гипотеза`: Опыт работы влияет на уровень заработной платы специалиста Data Scientist\n",
    "\n",
    "$H_1: \\mu_\\text{EN} \\neq \\mu_\\text{MI} \\neq \\mu_\\text{SE}$\n",
    "\n",
    "\n",
    "> Опыт работы в должности EX — Executive-level/Director для специалистов Data Scientist не уктуален\n",
    "\n",
    "формируем выборки:"
   ]
  },
  {
   "cell_type": "code",
   "execution_count": 105,
   "id": "adfce5a0",
   "metadata": {},
   "outputs": [],
   "source": [
    "data_DS_EN = data_DS[data_DS['experience_level'] == 'EN']['salary_in_usd']\n",
    "data_DS_MI = data_DS[data_DS['experience_level'] == 'MI']['salary_in_usd']\n",
    "data_DS_SE = data_DS[data_DS['experience_level'] == 'SE']['salary_in_usd']"
   ]
  },
  {
   "cell_type": "markdown",
   "id": "40ab2258",
   "metadata": {},
   "source": [
    "**Проверка на нормальность**\n",
    "\n",
    "С помощью теста Шапиро-Уилка проверим, распределены ли признаки нормально. \n",
    "\n",
    "Согласно теста Шапиро-Уилка:\n",
    "\n",
    "- *Нулевая гипотеза* ($H_0$): распределение данные является нормальным.\n",
    "\n",
    "- *Альтернативная гипотеза* ($H_1$): распределение данных отлично от нормального."
   ]
  },
  {
   "cell_type": "code",
   "execution_count": 106,
   "id": "4e7da7c3",
   "metadata": {},
   "outputs": [
    {
     "name": "stdout",
     "output_type": "stream",
     "text": [
      "Для EN — Entry-level/Junior:\n",
      "p-value = 0.174\n",
      "p-значение больше, чем заданный уровень значимости 0.05. Распределение является нормальным\n",
      "Для MI — Mid-level/Intermediate:\n",
      "p-value = 0.146\n",
      "p-значение больше, чем заданный уровень значимости 0.05. Распределение является нормальным\n",
      "Для SE — Senior-level/Expert:\n",
      "p-value = 0.002\n",
      "p-значение меньше, чем заданный уровень значимости 0.05. Распределение отлично от нормального\n"
     ]
    }
   ],
   "source": [
    "# проводим тест Шапиро-Уилка\n",
    "print('Для EN — Entry-level/Junior:')\n",
    "result = stats.shapiro(data_DS_EN)\n",
    "decision_normality(result[1])\n",
    "\n",
    "print('Для MI — Mid-level/Intermediate:')\n",
    "result = stats.shapiro(data_DS_MI)\n",
    "decision_normality(result[1])\n",
    "\n",
    "print('Для SE — Senior-level/Expert:')\n",
    "result = stats.shapiro(data_DS_SE)\n",
    "decision_normality(result[1])"
   ]
  },
  {
   "cell_type": "markdown",
   "id": "a2c6b303",
   "metadata": {},
   "source": [
    "**Выберем подходящий статистический тест**\n",
    "\n",
    "Для выбора нужного теста воспользуемся алгоритмом выбора теста. Для этого ответим на следующие вопросы:\n",
    "* Какой тип у признака «Зарплата в долларах США»? — Количественный.\n",
    "* Сколько сравниваемых групп? — Три.\n",
    "* Группы зависимы? — Нет.\n",
    "* Признак распределён по нормальному закону? — Нет (одна из трех групп отлична от нормального распределения).\n",
    "* Вид альтернативной гипотезы (двусторонняя)"
   ]
  },
  {
   "cell_type": "code",
   "execution_count": 107,
   "id": "72000e70",
   "metadata": {},
   "outputs": [
    {
     "name": "stdout",
     "output_type": "stream",
     "text": [
      "Критерий Краскела-Уоллиса: scipy.stats.kruskal()\n",
      "Различно ли время восстановления у спортсменов трех различных школ?\n"
     ]
    }
   ],
   "source": [
    "print(Select_STest(p_typeData = 0,\n",
    "                   p_cntGroup = 3,\n",
    "                   p_addictGroup=False,\n",
    "                   p_normData = False)\n",
    "                   )"
   ]
  },
  {
   "cell_type": "markdown",
   "id": "61c001be",
   "metadata": {},
   "source": [
    "Чтобы проверить нашу гипотезу, можно использовать критерий КРАСКЕЛА — УОЛЛИСА (однофакторный дисперсионный анализ на рангах).\n",
    "\n",
    "**Проведём тест**"
   ]
  },
  {
   "cell_type": "code",
   "execution_count": 108,
   "id": "7ac63e0a",
   "metadata": {},
   "outputs": [
    {
     "name": "stdout",
     "output_type": "stream",
     "text": [
      "p-value = 0.000\n",
      "p-значение меньше, чем заданный уровень значимости 0.05. Отвергаем нулевую гипотезу в пользу альтернативной.\n"
     ]
    }
   ],
   "source": [
    "# проводим тест\n",
    "_, p = stats.kruskal(data_DS_EN, data_DS_MI, data_DS_SE)\n",
    "decision_hypothesis(p)"
   ]
  },
  {
   "cell_type": "markdown",
   "id": "129bf1ef",
   "metadata": {},
   "source": [
    "#### Вывод\n",
    "\n",
    "Статистически подтверждено, что `Опыт работы влияет на уровень заработной платы специалиста Data Scientist`"
   ]
  },
  {
   "cell_type": "markdown",
   "id": "600f23c3",
   "metadata": {},
   "source": [
    "### 2. Объем работ выполненных на удаленке влияет на уровень заработной платы специалистов Data Scientist\n",
    "\n",
    "`Нулевая гипотеза`: Объем работ выполненных на удаленке не влияет на уровень заработной платы\n",
    "\n",
    "$H_0: \\mu_\\text{0} = \\mu_\\text{50} = \\mu_\\text{100}$\n",
    "\n",
    "`Альтернативная гипотеза`: Объем работ выполненных на удаленке влияет на уровень заработной платы специалиста Data Scientist\n",
    "\n",
    "$H_1: \\mu_\\text{0} \\neq \\mu_\\text{50} \\neq \\mu_\\text{100}$\n",
    "\n",
    "\n",
    "формируем выборки:"
   ]
  },
  {
   "cell_type": "code",
   "execution_count": 109,
   "id": "853d668a",
   "metadata": {},
   "outputs": [
    {
     "name": "stdout",
     "output_type": "stream",
     "text": [
      "Для FT — полный рабочий день:\n",
      "p-value = 0.331\n",
      "p-значение больше, чем заданный уровень значимости 0.05. Распределение является нормальным\n",
      "Для PT — неполный рабочий день:\n",
      "p-value = 0.387\n",
      "p-значение больше, чем заданный уровень значимости 0.05. Распределение является нормальным\n",
      "Для 100 — полностью удалённая работа (более 80 %):\n",
      "p-value = 0.001\n",
      "p-значение меньше, чем заданный уровень значимости 0.05. Распределение отлично от нормального\n"
     ]
    }
   ],
   "source": [
    "data_DS_0 = data_DS[data_DS['remote_ratio'] == 0]['salary_in_usd']\n",
    "data_DS_50 = data_DS[data_DS['remote_ratio'] == 50]['salary_in_usd']\n",
    "data_DS_100 = data_DS[data_DS['remote_ratio'] == 100]['salary_in_usd']\n",
    "\n",
    "#Проверка на нормальность\n",
    "# проводим тест Шапиро-Уилка\n",
    "print('Для FT — полный рабочий день:')\n",
    "result = stats.shapiro(data_DS_0)\n",
    "decision_normality(result[1])\n",
    "\n",
    "print('Для PT — неполный рабочий день:')\n",
    "result = stats.shapiro(data_DS_50)\n",
    "decision_normality(result[1])\n",
    "\n",
    "print('Для 100 — полностью удалённая работа (более 80 %):')\n",
    "result = stats.shapiro(data_DS_100)\n",
    "decision_normality(result[1])"
   ]
  },
  {
   "cell_type": "markdown",
   "id": "e36d715c",
   "metadata": {},
   "source": [
    "**Выберем подходящий статистический тест**\n",
    "\n",
    "Для выбора нужного теста воспользуемся алгоритмом выбора теста. Для этого ответим на следующие вопросы:\n",
    "* Какой тип у признака «Зарплата в долларах США»? — Количественный.\n",
    "* Сколько сравниваемых групп? — Три.\n",
    "* Группы зависимы? — Нет.\n",
    "* Признак распределён по нормальному закону? — Нет (одна из трех групп отлична от нормального распределения)."
   ]
  },
  {
   "cell_type": "code",
   "execution_count": 110,
   "id": "e3fd5192",
   "metadata": {},
   "outputs": [
    {
     "name": "stdout",
     "output_type": "stream",
     "text": [
      "Критерий Краскела-Уоллиса: scipy.stats.kruskal()\n",
      "Различно ли время восстановления у спортсменов трех различных школ?\n"
     ]
    }
   ],
   "source": [
    "print(Select_STest(p_typeData = 0,\n",
    "                   p_cntGroup = 3,\n",
    "                   p_addictGroup=False,\n",
    "                   p_normData = False)\n",
    "                   )"
   ]
  },
  {
   "cell_type": "markdown",
   "id": "01af4cd2",
   "metadata": {},
   "source": [
    "#### Проведем тест"
   ]
  },
  {
   "cell_type": "code",
   "execution_count": 111,
   "id": "c70276c9",
   "metadata": {},
   "outputs": [
    {
     "name": "stdout",
     "output_type": "stream",
     "text": [
      "p-value = 0.020\n",
      "p-значение меньше, чем заданный уровень значимости 0.05. Отвергаем нулевую гипотезу в пользу альтернативной.\n"
     ]
    }
   ],
   "source": [
    "# проводим тест\n",
    "_, p = stats.kruskal(data_DS_0, data_DS_50, data_DS_100)\n",
    "decision_hypothesis(p)"
   ]
  },
  {
   "cell_type": "markdown",
   "id": "c6da2ef7",
   "metadata": {},
   "source": [
    "Вывод: Статистически подтверждено, что `объем выполненных работ в удаленном режиме влияет на уровень заработной платы специалистов Data Scientist`"
   ]
  },
  {
   "cell_type": "markdown",
   "id": "007ba304",
   "metadata": {},
   "source": [
    "### 3. Наблюдается ли ежегодный рост зарплат у специалистов Data Scientist?\n",
    "\n",
    "Для начала проверим не равны ли ежегодные уровни зарплаты:\n",
    " \n",
    "`Нулевая гипотеза`: Ежегодный уровень зарплаты не изменяется\n",
    "\n",
    "$H_0: \\mu_\\text{2020} = \\mu_\\text{2021} = \\mu_\\text{2021}$\n",
    "\n",
    "`Альтернативная гипотеза`: Ежегодные уровни заработной платы не равны\n",
    "\n",
    "$H_1: \\mu_\\text{2020} \\neq \\mu_\\text{2021} \\neq \\mu_\\text{2021}$\n",
    "\n",
    "\n",
    "формируем выборки и проверяем их на нормальность:"
   ]
  },
  {
   "cell_type": "code",
   "execution_count": 112,
   "id": "293bbc9e",
   "metadata": {},
   "outputs": [
    {
     "name": "stdout",
     "output_type": "stream",
     "text": [
      "Для 2020 года:\n",
      "p-value = 0.000\n",
      "p-значение меньше, чем заданный уровень значимости 0.05. Распределение отлично от нормального\n",
      "Для 2021 года:\n",
      "p-value = 0.107\n",
      "p-значение больше, чем заданный уровень значимости 0.05. Распределение является нормальным\n",
      "Для 2022 года:\n",
      "p-value = 0.676\n",
      "p-значение больше, чем заданный уровень значимости 0.05. Распределение является нормальным\n"
     ]
    }
   ],
   "source": [
    "data_DS_2020 = data_DS[data_DS['work_year'] == 2020]['salary_in_usd']\n",
    "data_DS_2021 = data_DS[data_DS['work_year'] == 2021]['salary_in_usd']\n",
    "data_DS_2022 = data_DS[data_DS['work_year'] == 2022]['salary_in_usd']\n",
    "\n",
    "#Проверка на нормальность\n",
    "# проводим тест Шапиро-Уилка\n",
    "print('Для 2020 года:')\n",
    "result = stats.shapiro(data_DS_2020)\n",
    "decision_normality(result[1])\n",
    "\n",
    "print('Для 2021 года:')\n",
    "result = stats.shapiro(data_DS_2021)\n",
    "decision_normality(result[1])\n",
    "\n",
    "print('Для 2022 года:')\n",
    "result = stats.shapiro(data_DS_2022)\n",
    "decision_normality(result[1])"
   ]
  },
  {
   "cell_type": "markdown",
   "id": "91f043d4",
   "metadata": {},
   "source": [
    "**Выберем подходящий статистический тест**\n",
    "\n",
    "* Какой тип у признака «Зарплата в долларах США»? — Количественный.\n",
    "* Сколько сравниваемых групп? — Три.\n",
    "* Группы зависимы? — Нет.\n",
    "* Признак распределён по нормальному закону? — Нет (одна из трех групп отлична от нормального распределения)."
   ]
  },
  {
   "cell_type": "code",
   "execution_count": 113,
   "id": "7c6676e4",
   "metadata": {},
   "outputs": [
    {
     "name": "stdout",
     "output_type": "stream",
     "text": [
      "Критерий Краскела-Уоллиса: scipy.stats.kruskal()\n",
      "Различно ли время восстановления у спортсменов трех различных школ?\n"
     ]
    }
   ],
   "source": [
    "print(Select_STest(p_typeData = 0,\n",
    "                   p_cntGroup = 3,\n",
    "                   p_addictGroup=False,\n",
    "                   p_normData = False)\n",
    "                   )"
   ]
  },
  {
   "cell_type": "markdown",
   "id": "49c63daf",
   "metadata": {},
   "source": [
    "##### Проведем тест:"
   ]
  },
  {
   "cell_type": "code",
   "execution_count": 114,
   "id": "4c9e5fb3",
   "metadata": {},
   "outputs": [
    {
     "name": "stdout",
     "output_type": "stream",
     "text": [
      "p-value = 0.000\n",
      "p-значение меньше, чем заданный уровень значимости 0.05. Отвергаем нулевую гипотезу в пользу альтернативной.\n"
     ]
    }
   ],
   "source": [
    "# проводим тест\n",
    "_, p = stats.kruskal(data_DS_2020, data_DS_2021, data_DS_2022)\n",
    "decision_hypothesis(p)"
   ]
  },
  {
   "cell_type": "markdown",
   "id": "45986d21",
   "metadata": {},
   "source": [
    "Вывод: Ежегодный уровень заработной платы специалистов Data Scientist различен.\n",
    "\n",
    "Теперь профедем дополнительно два теста на выяснение увеличивается ли ежегоднаый уровень заработной платы?\n",
    "Теперь нужно выяснить: \n",
    "\n",
    "Средний уровень заработной платы в 2021 году больше аналогичного показателя в 2020 году? \n",
    "`Нулевая гипотеза`: Уровень заработной платы в 2021 году меньше или равен уровню заработной платы в 2020 году\n",
    "\n",
    "$H_0: \\mu_\\text{2021} \\leq \\mu_\\text{2020}$\n",
    "\n",
    "`Альтернативная гипотеза`: Уровень заработной платы в 2021 году больше уровня заработной платы в 2020 году\n",
    "\n",
    "$H_0:\\mu_\\text{2021} > \\mu_\\text{2020}$\n",
    "\n",
    "**Выберем подходящий статистический тест**\n",
    "\n",
    "Для выбора нужного теста воспользуемся алгоритмом выбора теста. Для этого ответим на следующие вопросы:\n",
    "* Какой тип у признака «Зарплата в долларах США»? — Количественный.\n",
    "* Сколько сравниваемых групп? — Две.\n",
    "* Группы зависимы? — Нет.\n",
    "* Признак распределён по нормальному закону? — Нет (одна из трех групп отлична от нормального распределения)."
   ]
  },
  {
   "cell_type": "code",
   "execution_count": 115,
   "id": "45d2baf3",
   "metadata": {},
   "outputs": [
    {
     "name": "stdout",
     "output_type": "stream",
     "text": [
      "U-критерий Манна-Уитни: scipy.stats.mannwhitneyu()\n",
      "Различен ли средний балл в конце первого полугодия у учеников двух разных классов?\n"
     ]
    }
   ],
   "source": [
    "print(Select_STest(p_typeData = 0,\n",
    "                   p_cntGroup = 2,\n",
    "                   p_addictGroup=False,\n",
    "                   p_normData = False)\n",
    "                   )"
   ]
  },
  {
   "cell_type": "markdown",
   "id": "000e2637",
   "metadata": {},
   "source": [
    "##### Проведем тест"
   ]
  },
  {
   "cell_type": "code",
   "execution_count": 116,
   "id": "e2027c9a",
   "metadata": {},
   "outputs": [
    {
     "name": "stdout",
     "output_type": "stream",
     "text": [
      "p-value = 0.705\n",
      "p-значение больше, чем заданный уровень значимости 0.05. У нас нет оснований отвергнуть нулевую гипотезу.\n"
     ]
    }
   ],
   "source": [
    "# проводим тест\n",
    "_, p = stats.mannwhitneyu(data_DS_2021, data_DS_2020, alternative='greater')\n",
    "decision_hypothesis(p)"
   ]
  },
  {
   "cell_type": "markdown",
   "id": "4ae4e225",
   "metadata": {},
   "source": [
    "Вывод: Согласно результатам теста, нет оснований утверждать о росте заработной платы в 2021 году, относительно 2020 года, а значить `нет оснований утверждать о ежегодном росте заработной платы специалистов Data Scientist` \n",
    "\n",
    "### 4. Как соотносятся зарплаты Data Scientist и Data Engineer в 2022 году?\n",
    "\n",
    "Формулируем гипотезы:\n",
    "`Нулевая гипотеза`: Уровни заработной Data Scientist и Data Engineer равны \n",
    "\n",
    "$H_0: \\mu_\\text{DS} = \\mu_\\text{DE}$\n",
    "\n",
    "`Альтернативная гипотеза`: Уровни заработной Data Scientist и Data Engineer не равны \n",
    "\n",
    "$H_0:\\mu_\\text{DS} > \\mu_\\text{DE}$\n",
    "\n",
    "Формируем выборки и проверяем их на нормальность:"
   ]
  },
  {
   "cell_type": "code",
   "execution_count": 117,
   "id": "d0e6819e",
   "metadata": {},
   "outputs": [
    {
     "name": "stdout",
     "output_type": "stream",
     "text": [
      "Для Data Scientist:\n",
      "p-value = 0.676\n",
      "p-значение больше, чем заданный уровень значимости 0.05. Распределение является нормальным\n",
      "Для Data Engineer:\n",
      "p-value = 0.007\n",
      "p-значение меньше, чем заданный уровень значимости 0.05. Распределение отлично от нормального\n"
     ]
    }
   ],
   "source": [
    "mask_Year = data['work_year'] == 2022\n",
    "mask_DS = data['job_title'] == 'Data Scientist'\n",
    "mask_DE = data['job_title'] == 'Data Engineer'\n",
    "\n",
    "data_DS = data[mask_DS & mask_Year]['salary_in_usd']\n",
    "data_DE = data[mask_DE & mask_Year]['salary_in_usd']\n",
    "\n",
    "#Проверка на нормальность\n",
    "# проводим тест Шапиро-Уилка\n",
    "print('Для Data Scientist:')\n",
    "result = stats.shapiro(data_DS)\n",
    "decision_normality(result[1])\n",
    "\n",
    "print('Для Data Engineer:')\n",
    "result = stats.shapiro(data_DE)\n",
    "decision_normality(result[1])"
   ]
  },
  {
   "cell_type": "markdown",
   "id": "0b7628d2",
   "metadata": {},
   "source": [
    "**Выберем подходящий статистический тест**\n",
    "\n",
    "* Какой тип у признака «Зарплата в долларах США»? — Количественный.\n",
    "* Сколько сравниваемых групп? — Две.\n",
    "* Группы зависимы? — Нет.\n",
    "* Признак распределён по нормальному закону? — Нет."
   ]
  },
  {
   "cell_type": "code",
   "execution_count": 118,
   "id": "ab9a8582",
   "metadata": {},
   "outputs": [
    {
     "name": "stdout",
     "output_type": "stream",
     "text": [
      "U-критерий Манна-Уитни: scipy.stats.mannwhitneyu()\n",
      "Различен ли средний балл в конце первого полугодия у учеников двух разных классов?\n"
     ]
    }
   ],
   "source": [
    "print(Select_STest(p_typeData = 0,\n",
    "                   p_cntGroup = 2,\n",
    "                   p_addictGroup=False,\n",
    "                   p_normData = False)\n",
    "                   )"
   ]
  },
  {
   "cell_type": "markdown",
   "id": "f205ae07",
   "metadata": {},
   "source": [
    "##### Проведем тест"
   ]
  },
  {
   "cell_type": "code",
   "execution_count": 119,
   "id": "d793e3d5",
   "metadata": {},
   "outputs": [
    {
     "name": "stdout",
     "output_type": "stream",
     "text": [
      "p-value = 0.319\n",
      "p-значение больше, чем заданный уровень значимости 0.05. У нас нет оснований отвергнуть нулевую гипотезу.\n"
     ]
    }
   ],
   "source": [
    "# проводим тест\n",
    "_, p = stats.mannwhitneyu(data_DS, data_DE)\n",
    "decision_hypothesis(p)"
   ]
  },
  {
   "cell_type": "markdown",
   "id": "8182a6bd",
   "metadata": {},
   "source": [
    "Вывод: `уровни заработной платы специалистов Data Scientist и Data Engineer в 2022 году равны`.\n",
    "\n",
    "### 5. Как соотносятся зарплаты специалистов Data Scientist в компаниях различных размеров\n",
    "\n",
    "`Нулевая гипотеза`: Уровень заработной платы специалистов Data Scientist в компаниях разного размера **одинаков**\n",
    "\n",
    "$H_0: \\mu_\\text{S} = \\mu_\\text{M} = \\mu_\\text{L}$\n",
    "\n",
    "`Альтернативная гипотеза`: Уровень заработной платы специалистов Data Scientist в компаниях разного размера **не одинаков**\n",
    "\n",
    "$H_1: \\mu_\\text{S} \\neq \\mu_\\text{M} \\neq \\mu_\\text{L}$\n",
    "\n",
    "Формируем выборки и проверяем их на нормальность:\n",
    "\n",
    "<!-- company_size\tСреднее количество людей, работавших в компании в течение года:\n",
    "S — менее 50 сотрудников (небольшая компания);\n",
    "M — от 50 до 250 сотрудников (средняя компания);\n",
    "L — более 250 сотрудников (крупная компания). -->"
   ]
  },
  {
   "cell_type": "code",
   "execution_count": 120,
   "id": "11cb6a0e",
   "metadata": {},
   "outputs": [
    {
     "name": "stdout",
     "output_type": "stream",
     "text": [
      "Для S — менее 50 сотрудников (небольшая компания):\n",
      "p-value = 0.189\n",
      "p-значение больше, чем заданный уровень значимости 0.05. Распределение является нормальным\n",
      "Для M — от 50 до 250 сотрудников (средняя компания):\n",
      "p-value = 0.897\n",
      "p-значение больше, чем заданный уровень значимости 0.05. Распределение является нормальным\n",
      "Для L — более 250 сотрудников (крупная компания):\n",
      "p-value = 0.000\n",
      "p-значение меньше, чем заданный уровень значимости 0.05. Распределение отлично от нормального\n"
     ]
    }
   ],
   "source": [
    "mask_DS = data['job_title'] == 'Data Scientist'\n",
    "\n",
    "mask_S = data['company_size'] == 'S'\n",
    "mask_M = data['company_size'] == 'M'\n",
    "mask_L = data['company_size'] == 'L'\n",
    "\n",
    "data_DS_S = data[mask_DS & mask_S]['salary_in_usd']\n",
    "data_DS_M = data[mask_DS & mask_M]['salary_in_usd']\n",
    "data_DS_L = data[mask_DS & mask_L]['salary_in_usd']\n",
    "\n",
    "#Проверка на нормальность\n",
    "# проводим тест Шапиро-Уилка\n",
    "print('Для S — менее 50 сотрудников (небольшая компания):')\n",
    "result = stats.shapiro(data_DS_S)\n",
    "decision_normality(result[1])\n",
    "\n",
    "print('Для M — от 50 до 250 сотрудников (средняя компания):')\n",
    "result = stats.shapiro(data_DS_M)\n",
    "decision_normality(result[1])\n",
    "\n",
    "print('Для L — более 250 сотрудников (крупная компания):')\n",
    "result = stats.shapiro(data_DS_L)\n",
    "decision_normality(result[1])"
   ]
  },
  {
   "cell_type": "markdown",
   "id": "5b986e1d",
   "metadata": {},
   "source": [
    "**Выберем подходящий статистический тест**\n",
    "\n",
    "* Какой тип у признака «Зарплата в долларах США»? — Количественный.\n",
    "* Сколько сравниваемых групп? — Три.\n",
    "* Группы зависимы? — Нет.\n",
    "* Признак распределён по нормальному закону? — Нет."
   ]
  },
  {
   "cell_type": "code",
   "execution_count": 121,
   "id": "e0ac7fde",
   "metadata": {},
   "outputs": [
    {
     "name": "stdout",
     "output_type": "stream",
     "text": [
      "Критерий Краскела-Уоллиса: scipy.stats.kruskal()\n",
      "Различно ли время восстановления у спортсменов трех различных школ?\n"
     ]
    }
   ],
   "source": [
    "print(Select_STest(p_typeData = 0,\n",
    "                   p_cntGroup = 3,\n",
    "                   p_addictGroup=False,\n",
    "                   p_normData = False)\n",
    "                   )"
   ]
  },
  {
   "cell_type": "markdown",
   "id": "19dc345e",
   "metadata": {},
   "source": [
    "##### Проводим тест"
   ]
  },
  {
   "cell_type": "code",
   "execution_count": 122,
   "id": "833a9702",
   "metadata": {},
   "outputs": [
    {
     "name": "stdout",
     "output_type": "stream",
     "text": [
      "p-value = 0.000\n",
      "p-значение меньше, чем заданный уровень значимости 0.05. Отвергаем нулевую гипотезу в пользу альтернативной.\n"
     ]
    }
   ],
   "source": [
    "# проводим тест\n",
    "_, p = stats.kruskal(data_DS_S, data_DS_M, data_DS_L)\n",
    "decision_hypothesis(p)"
   ]
  },
  {
   "cell_type": "markdown",
   "id": "45cff752",
   "metadata": {},
   "source": [
    "Вывод: Уровень заработной платы в организациях различного размера не одинаков.\n",
    "\n",
    "Сравним уровни заработной платы в компаниях малого и среднего размера.\n",
    "\n",
    "`Нулевая гипотеза`: Уровень заработной платы специалистов Data Scientist в компаниях среднего размера не превышает уровня заработной платы компаний малого размера\n",
    "\n",
    "$H_0: \\mu_\\text{M} \\leq \\mu_\\text{S}$\n",
    "\n",
    "`Альтернативная гипотеза`: Уровень заработной платы специалистов Data Scientist в компаниях среднего размера выше уровня заработной платы компаний малого размера\n",
    "\n",
    "$H_1: \\mu_\\text{M} > \\mu_\\text{S}$\n",
    "\n",
    "**Выберем подходящий статистический тест**\n",
    "\n",
    "* Какой тип у признака «Зарплата в долларах США»? — Количественный.\n",
    "* Сколько сравниваемых групп? — Две.\n",
    "* Группы зависимы? — Нет.\n",
    "* Признак распределён по нормальному закону? — Да."
   ]
  },
  {
   "cell_type": "code",
   "execution_count": 123,
   "id": "2f59166a",
   "metadata": {},
   "outputs": [
    {
     "name": "stdout",
     "output_type": "stream",
     "text": [
      "Двухвыборочный t-критерий: scipy.stats.ttest_ind()\n",
      "Различен ли средний балл в конце первого полугодия у учеников двух разных классов?\n"
     ]
    }
   ],
   "source": [
    "print(Select_STest(p_typeData = 0,\n",
    "                   p_cntGroup = 2,\n",
    "                   p_addictGroup=False,\n",
    "                   p_normData = True)\n",
    "                   )"
   ]
  },
  {
   "cell_type": "code",
   "execution_count": 124,
   "id": "6af8117f",
   "metadata": {},
   "outputs": [
    {
     "name": "stdout",
     "output_type": "stream",
     "text": [
      "Тест на равенство дисперсий\n",
      "p-value = 0.018\n",
      "Дисперсии не одинаковы, в stats.ttest_ind нужно использовать параметр equal_var=False.\n"
     ]
    }
   ],
   "source": [
    "# проводим тест Левена на равенство дисперсий\n",
    "print('Тест на равенство дисперсий')\n",
    "result = stats.levene(data_DS_M, data_DS_S)\n",
    "decision_dispersion(result[1])"
   ]
  },
  {
   "cell_type": "markdown",
   "id": "ceee9659",
   "metadata": {},
   "source": [
    "##### Проведение теста"
   ]
  },
  {
   "cell_type": "code",
   "execution_count": 125,
   "id": "94bbf2ef",
   "metadata": {},
   "outputs": [
    {
     "name": "stdout",
     "output_type": "stream",
     "text": [
      "p-value = 0.000\n",
      "p-значение меньше, чем заданный уровень значимости 0.05. Отвергаем нулевую гипотезу в пользу альтернативной.\n"
     ]
    }
   ],
   "source": [
    "_, p = stats.ttest_ind(data_DS_M, data_DS_S, alternative='greater', equal_var=True)\n",
    "decision_hypothesis(p)"
   ]
  },
  {
   "cell_type": "markdown",
   "id": "977a37b5",
   "metadata": {},
   "source": [
    "Вывод: Уровень заработной платы в средней компании выше уровня заработной платы в малой компании.\n",
    "\n",
    "Теперь сравним уровни заработной платы в компаниях среднего и большого размера.\n",
    "\n",
    "`Нулевая гипотеза`: Уровень заработной платы специалистов Data Scientist в компаниях большого размера не превышает уровня заработной платы компаний среднего размера\n",
    "\n",
    "$H_0: \\mu_\\text{L} \\leq \\mu_\\text{M}$\n",
    "\n",
    "`Альтернативная гипотеза`: Уровень заработной платы специалистов Data Scientist в компаниях большого размера выше уровня заработной платы компаний среднего размера\n",
    "\n",
    "$H_1: \\mu_\\text{L} > \\mu_\\text{M}$\n",
    "\n",
    "**Выберем подходящий статистический тест**\n",
    "\n",
    "* Какой тип у признака «Зарплата в долларах США»? — Количественный.\n",
    "* Сколько сравниваемых групп? — Две.\n",
    "* Группы зависимы? — Нет.\n",
    "* Признак распределён по нормальному закону? — Нет."
   ]
  },
  {
   "cell_type": "code",
   "execution_count": 126,
   "id": "14860771",
   "metadata": {},
   "outputs": [
    {
     "name": "stdout",
     "output_type": "stream",
     "text": [
      "U-критерий Манна-Уитни: scipy.stats.mannwhitneyu()\n",
      "Различен ли средний балл в конце первого полугодия у учеников двух разных классов?\n"
     ]
    }
   ],
   "source": [
    "print(Select_STest(p_typeData = 0,\n",
    "                   p_cntGroup = 2,\n",
    "                   p_addictGroup=False,\n",
    "                   p_normData = False)\n",
    "                   )"
   ]
  },
  {
   "cell_type": "markdown",
   "id": "254fc8e6",
   "metadata": {},
   "source": [
    "#### Проведем тест"
   ]
  },
  {
   "cell_type": "code",
   "execution_count": 127,
   "id": "0355a392",
   "metadata": {},
   "outputs": [
    {
     "name": "stdout",
     "output_type": "stream",
     "text": [
      "p-value = 0.976\n",
      "p-значение больше, чем заданный уровень значимости 0.05. У нас нет оснований отвергнуть нулевую гипотезу.\n"
     ]
    }
   ],
   "source": [
    "# проводим тест\n",
    "_, p = stats.mannwhitneyu(data_DS_L, data_DS_M, alternative='greater')\n",
    "decision_hypothesis(p)"
   ]
  },
  {
   "cell_type": "markdown",
   "id": "81ff46ef",
   "metadata": {},
   "source": [
    "Вывод: нет оснований полагать, что в компаниях большого размера уровень заработной платы выше чем в компаниях среднего размера.\n",
    "\n",
    "Общий вывод: `нет оснований полагать, что уровень заработной платы специалистов Data Scientist зависит от размера компании`\n",
    "\n",
    "### 6. Есть ли связь между наличием должностей Data Scientist и Data Engineer и размером компании?\n",
    "\n",
    "`Нулевая нипотеза`: отсутствуе связь между наличием должностей Data Scientist и Data Engineer и размером компании\n",
    "`Альтернативная гипотеза`: имеется связь между наличием должностей Data Scientist и Data Engineer и размером компании\n",
    "\n",
    "**Выберем подходящий статистический тест**\n",
    "\n",
    "* Какой тип у признаков ? — Категория.\n",
    "* Сколько сравниваемых групп? — Две.\n",
    "* Группы зависимы? — Нет."
   ]
  },
  {
   "cell_type": "code",
   "execution_count": 128,
   "id": "d9319034",
   "metadata": {},
   "outputs": [
    {
     "name": "stdout",
     "output_type": "stream",
     "text": [
      "Критерий хи-квадрат (поиск связи): scipy.stats.chi2_contingency()\n",
      "Есть ли связь между тарифом сотового оператора, и наличием детей у абонента?\n"
     ]
    }
   ],
   "source": [
    "print(Select_STest(p_typeData = 1,\n",
    "                   p_cntGroup = 2,\n",
    "                   p_addictGroup=False)\n",
    ")\n"
   ]
  },
  {
   "cell_type": "code",
   "execution_count": 129,
   "id": "e8bfb598",
   "metadata": {},
   "outputs": [
    {
     "name": "stdout",
     "output_type": "stream",
     "text": [
      "p-value = 0.005\n",
      "p-значение меньше, чем заданный уровень значимости 0.05. Отвергаем нулевую гипотезу в пользу альтернативной.\n"
     ]
    }
   ],
   "source": [
    "# выбираем данные по специальностям\n",
    "mask = data['job_title'].isin(['Data Scientist','Data Engineer'])\n",
    "data_DS_plus = data[mask]\n",
    "\n",
    "# вычисляем таблицу сопряжённости\n",
    "table = pd.crosstab(data_DS_plus['job_title'], data['company_size'])\n",
    "\n",
    "# проводим тест\n",
    "_, p, _, _ = stats.chi2_contingency(table)\n",
    "\n",
    "decision_hypothesis(p)"
   ]
  },
  {
   "cell_type": "markdown",
   "id": "1fd61507",
   "metadata": {},
   "source": [
    "Вывод: `имеются основания утверждать о наличии связи между должностями Data Scientist и Data Engineer и размером компании`"
   ]
  },
  {
   "cell_type": "markdown",
   "id": "10d5ad56",
   "metadata": {},
   "source": [
    "В ходе визуального анализы отмечено что наибольшие количество вакансий и размеры заработной платы у соискателей проживающих в Америке (US), в связи с этим можно сформулировать дополнительную бизнесс гипотезу:\n",
    "1. Различается ли уровень заработной платы для америакнцев и соискателей из других стран, в американских компаниях (страна гавного оффиса US)"
   ]
  },
  {
   "cell_type": "code",
   "execution_count": 130,
   "id": "985494fd",
   "metadata": {},
   "outputs": [],
   "source": [
    "#перед преобразованием данных, сделаем копию исходного набора\n",
    "data_popular = data"
   ]
  },
  {
   "cell_type": "code",
   "execution_count": 131,
   "id": "296dd464",
   "metadata": {},
   "outputs": [],
   "source": [
    "data_popular['company_location'] = data_popular['company_location'].apply(lambda x: x if x == 'US' else 'OTH' )\n",
    "data_popular['employee_residence'] = data_popular['employee_residence'].apply(lambda x: x if x == 'US' else 'OTH' )"
   ]
  },
  {
   "cell_type": "code",
   "execution_count": null,
   "id": "d4491e07",
   "metadata": {},
   "outputs": [],
   "source": [
    "fig, axes = plt.subplots(1,2, figsize=(10, 3))\n",
    "fig.subplots_adjust(hspace=0.5)\n",
    "#Отбор американских компаний\n",
    "data_US_company = data_popular[data_popular['company_location'] == 'US']\n",
    "\n",
    "order_residence = data_US_company['employee_residence'].value_counts().index\n",
    "sns.countplot(data_US_company, x='employee_residence', order=order_residence, ax=axes[0])\n",
    "axes[0].set_title('Распределение по стране проживания')\n",
    "axes[0].set(xlabel='Страна проживания', ylabel=x_name)\n",
    "#plt.xticks(rotation=90);  # Повернуть подписи, если длинные\n",
    "\n",
    "\n",
    "show_boxplot(data_US_company, 'employee_residence', 'Страна проживания', axes[1], False)\n",
    "axes[1].set_title('Распределение по стране проживания');\n"
   ]
  },
  {
   "cell_type": "markdown",
   "id": "c5506534",
   "metadata": {},
   "source": [
    "<img src='img/Stats_EDA/output_13.png'>"
   ]
  },
  {
   "cell_type": "markdown",
   "id": "7bc2aae5",
   "metadata": {},
   "source": [
    "Визуальный анализ данных указывает на различие в уровнях заработной платы американских команияй для американцев и работников из других страны. У американцев средний уровень заработной платы выше, чем у прочих работников. \n",
    "\n",
    "Формулируем статистическую гипотезу.\n",
    "\n",
    "### 7. Как соотносятся заработные платы американских и иностранных работников при работе в американских компаниях\n",
    "\n",
    "`Нулеввя гипотеза`: В американских компаниях, уровень заработной платы американцев ($\\mu_\\text{US}$) равен заработной плате работников из других стран ($\\mu_\\text{OTH}$).\n",
    "\n",
    "$H_0: \\mu_\\text{US} = \\mu_\\text{OTH}$\n",
    "\n",
    "`Альтернативная гипотеза`: В америаканских компаниях уровень заработной платы американцев ($\\mu_\\text{US}$) не равен уровню заработной платы работников из других стран ($\\mu_\\text{OTH}$)\n",
    "\n",
    "$H_1: \\mu_\\text{US} \\neq \\mu_\\text{OTH}$"
   ]
  },
  {
   "cell_type": "code",
   "execution_count": 133,
   "id": "c20278ad",
   "metadata": {},
   "outputs": [
    {
     "name": "stdout",
     "output_type": "stream",
     "text": [
      "Для Американских работников:\n",
      "p-value = 0.000\n",
      "p-значение меньше, чем заданный уровень значимости 0.05. Распределение отлично от нормального\n",
      "Для иностранных работников:\n",
      "p-value = 0.031\n",
      "p-значение меньше, чем заданный уровень значимости 0.05. Распределение отлично от нормального\n"
     ]
    }
   ],
   "source": [
    "#выбор данных и проверка на нормальность\n",
    "data_US_company_US = data_US_company[data_US_company['employee_residence'] == 'US']['salary_in_usd']\n",
    "data_US_company_OTH = data_US_company[data_US_company['employee_residence'] == 'OTH']['salary_in_usd']\n",
    "\n",
    "#Проверка на нормальность\n",
    "# проводим тест Шапиро-Уилка\n",
    "print('Для Американских работников:')\n",
    "result = stats.shapiro(data_US_company_US)\n",
    "decision_normality(result[1])\n",
    "\n",
    "print('Для иностранных работников:')\n",
    "result = stats.shapiro(data_US_company_OTH)\n",
    "decision_normality(result[1])"
   ]
  },
  {
   "cell_type": "markdown",
   "id": "4d9dbe4c",
   "metadata": {},
   "source": [
    "**Выберем подходящий статистический тест**\n",
    "\n",
    "* Какой тип у признака «Зарплата в долларах США»? — Количественный.\n",
    "* Сколько сравниваемых групп? — Две.\n",
    "* Группы зависимы? — Нет.\n",
    "* Признак распределён по нормальному закону? — Нет."
   ]
  },
  {
   "cell_type": "code",
   "execution_count": 134,
   "id": "06ce05a0",
   "metadata": {},
   "outputs": [
    {
     "name": "stdout",
     "output_type": "stream",
     "text": [
      "U-критерий Манна-Уитни: scipy.stats.mannwhitneyu()\n",
      "Различен ли средний балл в конце первого полугодия у учеников двух разных классов?\n"
     ]
    }
   ],
   "source": [
    "print(Select_STest(p_typeData = 0,\n",
    "                   p_cntGroup = 2,\n",
    "                   p_addictGroup=False,\n",
    "                   p_normData = False)\n",
    "                   )"
   ]
  },
  {
   "cell_type": "code",
   "execution_count": 135,
   "id": "2507ec21",
   "metadata": {},
   "outputs": [
    {
     "name": "stdout",
     "output_type": "stream",
     "text": [
      "p-value = 0.000\n",
      "p-значение меньше, чем заданный уровень значимости 0.05. Отвергаем нулевую гипотезу в пользу альтернативной.\n"
     ]
    }
   ],
   "source": [
    "# проводим тест\n",
    "_, p = stats.mannwhitneyu(data_US_company_US, data_US_company_OTH, alternative='two-sided')\n",
    "decision_hypothesis(p)"
   ]
  },
  {
   "cell_type": "markdown",
   "id": "ddf6d90b",
   "metadata": {},
   "source": [
    "Вывод: в американских компаниях, уровень заработной платы американцев отличается от уровня заработной платы иностранных работников\n",
    "\n",
    "Следующим шагом выясним превышает уровень заработной платы американцев, в аиериканских компаниях, уровень заработной платы инстранных работников или нет\n",
    "\n",
    "`Нулевая гипотеза`: Уровень заработной платы американцев ($\\mu_\\text{US}$) не превышает уровень заработной платы иностранных работников ($\\mu_ \\text{OTH}$)\n",
    "\n",
    "$H_0: \\mu_\\text{US} \\leq \\mu_\\text{OTH}$\n",
    "\n",
    "`Альтернативная гипотеза`: Уровень заработной платы американцев ($\\mu_\\text{US}$) выше уровня заработной платы иностранных работников ($\\mu_ \\text{OTH}$) \n",
    "\n",
    "$H_1: \\mu_\\text{US} > \\mu_\\text{OTH}$\n",
    "\n",
    "Используем тот же тест U-критерий Манна-Уитни, но с уточнением вида альтернативной гипотезы"
   ]
  },
  {
   "cell_type": "code",
   "execution_count": 136,
   "id": "e3c479f5",
   "metadata": {},
   "outputs": [
    {
     "name": "stdout",
     "output_type": "stream",
     "text": [
      "p-value = 0.000\n",
      "p-значение меньше, чем заданный уровень значимости 0.05. Отвергаем нулевую гипотезу в пользу альтернативной.\n"
     ]
    }
   ],
   "source": [
    "# проводим тест\n",
    "_, p = stats.mannwhitneyu(data_US_company_US, data_US_company_OTH, alternative='greater')\n",
    "decision_hypothesis(p)"
   ]
  },
  {
   "cell_type": "markdown",
   "id": "51a27e3a",
   "metadata": {},
   "source": [
    "`Вывод: В американских компаниях, уровень заработной платы выше, чем у их иностранных коллег.`\n",
    "\n",
    "### 8 Имеется ли зависимость между размером компании и объемом работ выполняемых удаленно {id: 8}"
   ]
  },
  {
   "cell_type": "code",
   "execution_count": null,
   "id": "0e023b50",
   "metadata": {},
   "outputs": [],
   "source": [
    "cross_tab = pd.crosstab(index=data['company_size'], columns=data['company_size'])\n",
    "ax = sns.heatmap(cross_tab, annot=True, linewidth=.5, fmt='.0f', cmap=\"coolwarm\")\n",
    "ax.set(xlabel='Объем удаленки', ylabel='Размер компании')\n",
    "plt.title('Таблица сопряженности')\n",
    "plt.show()"
   ]
  },
  {
   "cell_type": "markdown",
   "id": "b96dd951",
   "metadata": {},
   "source": [
    "<img src='img/Stats_EDA/output_14.png'>"
   ]
  },
  {
   "cell_type": "markdown",
   "id": "bf4a20c5",
   "metadata": {},
   "source": [
    "`Нулевая нипотеза`: отсутствуе связь между размером компании и объемом работ на удаленке\n",
    "`Альтернативная гипотеза`: имеется связь между размером компании и объемом работ на удаленке\n",
    "\n",
    "**Выберем подходящий статистический тест**\n",
    "\n",
    "* Какой тип у признаков ? — Категория.\n",
    "* Сколько сравниваемых групп? — Две.\n",
    "* Группы зависимы? — Нет."
   ]
  },
  {
   "cell_type": "code",
   "execution_count": 138,
   "id": "6179b874",
   "metadata": {},
   "outputs": [
    {
     "name": "stdout",
     "output_type": "stream",
     "text": [
      "Критерий хи-квадрат (поиск связи): scipy.stats.chi2_contingency()\n",
      "Есть ли связь между тарифом сотового оператора, и наличием детей у абонента?\n"
     ]
    }
   ],
   "source": [
    "print(Select_STest(p_typeData = 1,\n",
    "                   p_cntGroup = 2,\n",
    "                   p_addictGroup=False)\n",
    ")"
   ]
  },
  {
   "cell_type": "code",
   "execution_count": 139,
   "id": "2a9afd15",
   "metadata": {},
   "outputs": [
    {
     "name": "stdout",
     "output_type": "stream",
     "text": [
      "p-value = 0.000\n",
      "p-значение меньше, чем заданный уровень значимости 0.05. Отвергаем нулевую гипотезу в пользу альтернативной.\n"
     ]
    }
   ],
   "source": [
    "# вычисляем таблицу сопряжённости\n",
    "cross_tab = pd.crosstab(index=data['company_size'], columns=data['company_size'])\n",
    "\n",
    "# проводим тест\n",
    "_, p, _, _ = stats.chi2_contingency(cross_tab)\n",
    "\n",
    "decision_hypothesis(p)"
   ]
  },
  {
   "cell_type": "markdown",
   "id": "9910a71d",
   "metadata": {},
   "source": [
    "`Вывод: Имеется связь между размером компании и объемом работ выполняемых удаленно`"
   ]
  }
 ],
 "metadata": {
  "kernelspec": {
   "display_name": "myConda_env_312",
   "language": "python",
   "name": "python3"
  },
  "language_info": {
   "codemirror_mode": {
    "name": "ipython",
    "version": 3
   },
   "file_extension": ".py",
   "mimetype": "text/x-python",
   "name": "python",
   "nbconvert_exporter": "python",
   "pygments_lexer": "ipython3",
   "version": "3.12.11"
  }
 },
 "nbformat": 4,
 "nbformat_minor": 5
}
