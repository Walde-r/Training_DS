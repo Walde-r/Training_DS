{
 "cells": [
  {
   "cell_type": "markdown",
   "metadata": {},
   "source": [
    "Данные, с которыми мы будем работать — это обработанный датасет об объектах недвижимости в Мельбурне (Австралия) и его пригородах.\n",
    "[Исходный датасет и более детальное описание к нему находятся](https://www.kaggle.com/datasets/dansbecker/melbourne-housing-snapshot)"
   ]
  },
  {
   "cell_type": "markdown",
   "metadata": {},
   "source": [
    "Данные представляют собой таблицу, в которой содержится 23 столбца:\n",
    "- 0  **index** — номер строки\n",
    "- 1  **Suburb** — наименование пригорода\n",
    "- 2  **Address** — адрес\n",
    "- 3  **Rooms** — количество комнат в помещении\n",
    "- 4  **Type** — тип здания (h — дом, коттедж, вилла, терраса; u — блочный, дуплексный дом; t — таунхаус)\n",
    "- 5  **Price** — цена помещения\n",
    "- 6  **Method** — метод продажи \n",
    "- 7  **SellerG** — риэлторская компания\n",
    "- 8  **Date** — дата продажи (в формате день/месяц/год)\n",
    "- 9  **Distance** — расстояния до объекта от центра Мельбурна \n",
    "- 10 **Postcode** — почтовый индекс\n",
    "- 11 **Bedroom** — количество спален\n",
    "- 12 **Bathroom** — количество ванных комнат\n",
    "- 13 **Car** — количество парковочных мест\n",
    "- 14 **Landsize** — площадь прилегающей территории\n",
    "- 15 **BuildingArea** — площадь здания\n",
    "- 16 **YearBuilt** — год постройки\n",
    "- 17 **CouncilArea** — региональное управление\n",
    "- 18 **Lattitude** — географическая широта\n",
    "- 19 **Longitude** — географическая долгота\n",
    "- 20 **Regionname** — наименование района Мельбурна\n",
    "- 21 **Propertycount** — количество объектов недвижимости в районе, выставленных на продажу\n",
    "- 22 **Coordinates** — широта и долгота, объединённые в кортеж"
   ]
  },
  {
   "cell_type": "code",
   "execution_count": 1,
   "metadata": {},
   "outputs": [],
   "source": [
    "#Прочитаем наши данные о недвижимости из csv-файла и запишем результирующий DataFrame в переменную melb_data:\n",
    "import pandas as pd\n",
    "\n",
    "melb_data = pd.read_csv('data/melb_data.csv', sep=',')"
   ]
  },
  {
   "cell_type": "code",
   "execution_count": 12,
   "metadata": {},
   "outputs": [
    {
     "name": "stdout",
     "output_type": "stream",
     "text": [
      "1310000.0\n",
      "10/09/2016\n",
      "3\n"
     ]
    }
   ],
   "source": [
    "print(melb_data.iloc[15, 5]) #Какова цена объекта недвижимости под индексом 15?\n",
    "print(melb_data.iloc[90, 8]) #Когда был продан объект под индексом 90?\n",
    "\n",
    "#Во сколько раз площадь прилегающей территории, на которой находится здание с индексом 3521, \n",
    "#больше площади участка, на котором находится здание с индексом 1690? Ответ округлите до целого числа\n",
    "print(round(melb_data.iloc[3521,14]/melb_data.iloc[1690,14]))\n"
   ]
  }
 ],
 "metadata": {
  "kernelspec": {
   "display_name": "myConda_env",
   "language": "python",
   "name": "python3"
  },
  "language_info": {
   "codemirror_mode": {
    "name": "ipython",
    "version": 3
   },
   "file_extension": ".py",
   "mimetype": "text/x-python",
   "name": "python",
   "nbconvert_exporter": "python",
   "pygments_lexer": "ipython3",
   "version": "3.13.2"
  }
 },
 "nbformat": 4,
 "nbformat_minor": 2
}
