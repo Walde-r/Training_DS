{
 "cells": [
  {
   "cell_type": "markdown",
   "metadata": {},
   "source": [
    "**Pandas** является наиболее продвинутой и быстроразвивающейся библиотекой для анализа данных и их предобработки.\n",
    "\n",
    "Среди основных возможностей библиотеки, необходимых специалисту в Data Science, можно выделить следующие:\n",
    "- Работа с различными форматами данных (csv, excel, json, sql и т. д.).\n",
    "- Фильтрация данных (извлечение данных по условиям).\n",
    "- Быстрые математические операции с таблицами и их столбцами.\n",
    "- Использование методов статистического анализа.\n",
    "- Группировка данных и построение сводных таблиц.\n",
    "- Объединение нескольких таблиц.\n",
    "- Встроенная визуализация (возможность построения графиков по данным)."
   ]
  },
  {
   "cell_type": "code",
   "execution_count": 4,
   "metadata": {},
   "outputs": [
    {
     "name": "stdout",
     "output_type": "stream",
     "text": [
      "pandas : 2.2.3\n"
     ]
    }
   ],
   "source": [
    "import pandas as pd\n",
    "\n",
    "print(pd.__name__,':',pd.__version__)"
   ]
  }
 ],
 "metadata": {
  "kernelspec": {
   "display_name": "myConda_env",
   "language": "python",
   "name": "python3"
  },
  "language_info": {
   "codemirror_mode": {
    "name": "ipython",
    "version": 3
   },
   "file_extension": ".py",
   "mimetype": "text/x-python",
   "name": "python",
   "nbconvert_exporter": "python",
   "pygments_lexer": "ipython3",
   "version": "3.13.2"
  }
 },
 "nbformat": 4,
 "nbformat_minor": 2
}
