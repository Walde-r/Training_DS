{
 "cells": [
  {
   "cell_type": "markdown",
   "id": "ce1fcf6e",
   "metadata": {},
   "source": [
    "> Вы уже познакомились с такими разделами разведывательного анализа данных, как визуализация данных, постановка и проверка гипотез о данных, A/B-тестирование. А ведь всё это можно отнести ещё только к началу работы над проектом по машинному обучению! \n",
    "\n",
    "`Машинное обучение (ML)` — это область компьютерных наук, которая использует алгоритмы для создания и обучения моделей для выполнения рутинных задач.\n",
    "\n",
    "Типичный подход к управлению проектами машинного обучения основан на проектировании моделей машинного обучения вручную. И обычно он представлен следующими этапами:\n",
    "\n",
    "<img src='img/dst-eda-6-1.png'>\n",
    "\n",
    "> Например, вы хотите сделать анализ спроса людей на определённое лекарство. Вы собираете данные о клиентах и информацию о том, купил ли конкретный клиент лекарство. Затем вы анализируете доступные данные, создаёте и обучаете модель машинного обучения, потом используете готовую модель на новых данных такого же формата, что и предыдущие.\n",
    "\n",
    "Этот процесс предполагает, что обученная модель должна быть конечным результатом проекта машинного обучения. Однако такой подход ошибочен по нескольким причинам.\n",
    "\n",
    "Мир постоянно развивается, стимулируемый прорывными технологиями, что приводит к постоянному увеличению объёма данных. Следовательно, данные, которые инженеры машинного обучения должны обрабатывать для обучения моделей, также постоянно меняются. Обученная модель может удовлетворить непосредственные потребности заказчика только на основе данных, которые ей были предоставлены, но в долгосрочной перспективе она может оказаться неэффективной, поскольку она не приспосабливается автоматически к изменениям в наборах данных. \n",
    "\n",
    "> Например, если вы хотите использовать готовую модель анализа спроса на лекарства, которая была обучена на данных покупателей (регион проживания, цвет глаз, возраст), но о новых покупателях нет возможности собрать подобные данные (в анкетах больше не указывались цвет глаз и регион проживания)\n",
    "\n",
    "Обновления в фиксированных наборах данных, используемых для обучения, приводят к изменениям в модели, что снижает её точность. В примере выше столбцы регион и цвет глаз будут иметь пропуски для новых клиентов, а следовательно, прогноз модели, который является суммой признаков, умноженных на обученные коэффициенты, не будет достоверным.\n",
    "\n",
    "> Это особенно важно для проектов в сфере здравоохранения. Чем выше точность показывает модель при классификации медицинских изображений, тем выше шансы, что она сможет соперничать с профессиональными медиками в постановке точных диагнозов, исключая риск человеческой ошибки.\n",
    "\n",
    "> **Точность модели (accuracy)** машинного обучения определяется как процент правильных прогнозов для тестовых данных и рассчитывается путём деления количества правильных прогнозов на общее количество прогнозов. Обычно это определяющий фактор при оценке успеха проекта машинного обучения — чем выше точность, тем лучше работает модель машинного обучения. \n",
    "\n",
    "`Например`, вы оцениваете спрос на товар. Ваша цель — узнать, купит ли клиент продукт. Вы строите модель на основе данных и реальных ответов, а затем сравниваете свои предсказания и реальные ответы. Если предсказания совпадают с реальными ответами чаще, чем в 90 % случаях, то обычно говорят, что модель надёжна, и её можно использовать для предсказаний спроса уже других клиентов.\n",
    "\n",
    "<img src='img/dst-eda-6-2.png' width=\"70%\" height=\"70%\">\n",
    "\n",
    "### Как добиться лучшей точности модели ML?\n",
    "\n",
    "Чтобы оптимизировать метрики для тестовых данных, необходимо пространство для многочисленных экспериментов. Экспериментирование с различными архитектурами моделей, кодом предварительной обработки и параметрами модели, определяющими успех процесса обучения, несколько раз приводит к повторному обучению модели. Всё это вы будете изучать в будущих модулях, посвящённых моделированию в ML.  \n",
    "\n",
    "Возникает необходимость отслеживания экспериментов, то есть сохранения всей важной информации, связанной с каждым запускаемым экспериментом, например сохранение параметров запуска, влияющих на производительность модели. Выполнять эту задачу вручную обременительно, поэтому имеет смысл поставить для процесса автоматизированную инфраструктуру — пайплайн (`pipeline`) машинного обучения.\n",
    "\n",
    "Пайплайном (`pipeline`) в `ML` называется **способ систематизации и автоматизации рабочего процесса**, необходимого для создания модели машинного обучения. Пайплайны состоят из нескольких последовательных шагов, которые выполняют всё — от извлечения и предварительной обработки данных до обучения и проверки моделей.\n",
    "\n",
    "\n",
    "Пайплайн машинного обучения состоит из следующих шагов:\n",
    "\n",
    "<img src='img/dst-eda-6-3.png' width=\"70%\" height=\"70%\">\n",
    "\n",
    "Этот рабочий процесс позволяет осуществлять непрерывную настройку существующих моделей наряду с постоянной оценкой производительности. Самым большим преимуществом этого процесса является то, что его можно автоматизировать с помощью доступных инструментов.\n",
    "\n",
    "Для медицинских стартапов это означает, что они могут получить модель машинного обучения для конкретного проекта, которая будет постоянно обновляться по мере поступления новых данных о пациентах, что приведёт к более высокой точности полученных результатов.\n",
    "\n",
    "> Давайте на примере подробно разберём проектирование экспериментов и построение пайплайна. \n",
    "\n",
    "**Представьте**, что вы специалист по данным, а ваша компания сотрудничает с медицинскими учреждениями. Перед вами стоит задача выяснить, почему люди, получившие инструкции по лечению, не приходят на следующий приём. В качестве набора данных вы используете информацию о посещениях и характеристики пациентов.\n",
    "\n",
    "Каждая история болезни характеризуется следующими признаками:\n",
    "\n",
    "- `No_show` — пациент не пришёл на приём;\n",
    "- `Gender` — пол пациента;\n",
    "- `ScheduledDay` — день, когда планируется встреча;\n",
    "- `AppointmentDay` — реальная дата встречи;\n",
    "- `Age` — возраст пациента;\n",
    "- `Neighbourhood` — район проживания каждого пациента;\n",
    "- `Scholarship` — получает ли пациент стипендию;\n",
    "- …и несколько других признаков.\n",
    "\n",
    "1. Первым этапом данных является загрузка [данных](https://www.kaggle.com/joniarroba/noshowappointments):"
   ]
  },
  {
   "cell_type": "code",
   "execution_count": 2,
   "id": "cdbf9f6f",
   "metadata": {},
   "outputs": [],
   "source": [
    "import pandas as pd\n",
    "\n",
    "df = pd.read_csv('data/KaggleV2-May-2016.zip')"
   ]
  },
  {
   "cell_type": "markdown",
   "id": "2ad48bc4",
   "metadata": {},
   "source": [
    "`Основная цель проекта` — выделить факторы, способствующие пропуску встреч с врачом. Однако это долгосрочная цель. Прежде чем копнуть глубже, необходимо попытаться ответить на следующие вопросы:\n",
    "\n",
    "- Каково соотношение людей, которые пропускают встречи, к тем, кто этого не делает?\n",
    "- Кто не появляется чаще — мужчины или женщины?\n",
    "\n",
    "2. Для ответа на эти и другие подобные вопросы используется EDA.\n",
    "\n",
    "Найти соотношение людей, которые пропускают приёмы, к тем, кто этого не делает, можно с помощью гистограммы:"
   ]
  },
  {
   "cell_type": "code",
   "execution_count": 3,
   "id": "acb6acb7",
   "metadata": {},
   "outputs": [
    {
     "data": {
      "image/png": "[encoded data removed]",
      "text/plain": [
       "<Figure size 800x400 with 1 Axes>"
      ]
     },
     "metadata": {},
     "output_type": "display_data"
    }
   ],
   "source": [
    "import matplotlib.pyplot as plt\n",
    "\n",
    "plt.figure(figsize=(8,4))\n",
    "df['No-show'].hist()\n",
    "plt.title('Соотношение людей, которые пропускают приемы, к тем, кто этого не делает');"
   ]
  },
  {
   "cell_type": "markdown",
   "id": "8009c6aa",
   "metadata": {},
   "source": [
    "Или, если мы хотим получить точную пропорцию, — с помощью метода `value_counts()`:"
   ]
  },
  {
   "cell_type": "code",
   "execution_count": 4,
   "id": "6d4d589a",
   "metadata": {},
   "outputs": [
    {
     "data": {
      "text/plain": [
       "No-show\n",
       "No     0.798067\n",
       "Yes    0.201933\n",
       "Name: proportion, dtype: float64"
      ]
     },
     "execution_count": 4,
     "metadata": {},
     "output_type": "execute_result"
    }
   ],
   "source": [
    "df['No-show'].value_counts(True)"
   ]
  },
  {
   "cell_type": "markdown",
   "id": "298d52e8",
   "metadata": {},
   "source": [
    "Данный метод также может помочь оценить, кто не появляется чаще — мужчины или женщины:"
   ]
  },
  {
   "cell_type": "code",
   "execution_count": 5,
   "id": "eec074a8",
   "metadata": {},
   "outputs": [
    {
     "data": {
      "text/plain": [
       "Gender\n",
       "F    0.653882\n",
       "M    0.346118\n",
       "Name: proportion, dtype: float64"
      ]
     },
     "execution_count": 5,
     "metadata": {},
     "output_type": "execute_result"
    }
   ],
   "source": [
    "df[df['No-show']=='Yes']['Gender'].value_counts(True)"
   ]
  },
  {
   "cell_type": "markdown",
   "id": "fe1d2126",
   "metadata": {},
   "source": [
    "Итак, мы видим, что людей, пропускающих приём, примерно 20 %.\n",
    "\n",
    "3. После того, как выполнен разведывательный анализ данных, переходим к предобработке данных. Некоторые столбцы, например `Gender` и `Neighbourhood`, представлены **в текстовом виде**, а модели машинного обучения работают с числовыми признаками. Необходимо закодировать такие данные. Для one-hot кодировки можно воспользоваться методом `get_dummies()` библиотеки pandas:"
   ]
  },
  {
   "cell_type": "code",
   "execution_count": 6,
   "id": "d3bc2a94",
   "metadata": {},
   "outputs": [],
   "source": [
    "categorical_columns_names = ['Gender', 'Neighbourhood']\n",
    "encoded_columns = pd.get_dummies(df, columns = categorical_columns_names)"
   ]
  },
  {
   "cell_type": "markdown",
   "id": "f094f039",
   "metadata": {},
   "source": [
    "4. После этих этапов можно переходить к созданию предсказания, придёт ли пациент на приём, обучению и оптимизации модели, а также выделению наиболее важных признаков, способствующих высокой производительности модели. Об этом вы узнаете в будущих модулях! \n",
    "\n",
    "**Предположим**, вы несколько раз обучили модель с разными параметрами, подобрали наилучшие и достигли $\\text{accuracy} > 0.9$. То есть доля верных предсказаний превышает 90 %. Также вы узнали, что наибольший вклад в модель вносят такие признаки, как пол, регион и факт наличия стипендии. Про влияние пола на результат вы догадались во время проведения EDA, регион кажется тоже понятным фактором: люди в крупных городах больше склонны приходить на последующий назначенный прием, а вот факт наличия стипендии — не такой очевидный фактор. \n",
    "\n",
    "Это подтверждает тезис о том, что модели машинного обучения могут рассматриваться как чёрный ящик: нечто, куда мы кладём свои данные и получаем предсказание. Не всегда результаты прогнозов легко интерпретируемы. Обычно существует **трэйд-офф** между качеством модели и её интерпретируемостью: чем сложнее модель, тем выше, но менее очевиден её результат.  \n",
    "\n",
    "> Как мы уже выяснили, в реальных проектах может понадобиться не один эксперимент для улучшения производительности модели. Появляется необходимость сохранения всей важной информации, связанной с каждым запускаемым экспериментом. Как сохранять такую информацию, вы узнаете в следующем юните."
   ]
  }
 ],
 "metadata": {
  "kernelspec": {
   "display_name": "myConda_env_312",
   "language": "python",
   "name": "python3"
  },
  "language_info": {
   "codemirror_mode": {
    "name": "ipython",
    "version": 3
   },
   "file_extension": ".py",
   "mimetype": "text/x-python",
   "name": "python",
   "nbconvert_exporter": "python",
   "pygments_lexer": "ipython3",
   "version": "3.12.11"
  }
 },
 "nbformat": 4,
 "nbformat_minor": 5
}
