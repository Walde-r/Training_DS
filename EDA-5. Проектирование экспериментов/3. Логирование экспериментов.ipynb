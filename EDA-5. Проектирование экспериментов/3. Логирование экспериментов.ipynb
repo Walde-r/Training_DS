{
 "cells": [
  {
   "cell_type": "markdown",
   "id": "0121d541",
   "metadata": {},
   "source": [
    ">  Итак, запуск экспериментов по машинному обучению включает в себя множество задач, таких как EDA и предобработка данных. В последнюю может входить заполнение пропусков данных, проверка различных алгоритмов с целью поиска наилучшего, анализ производительности модели и другие связанные задачи, которые зависят от решаемой проблемы.\n",
    "\n",
    "Как вы уже знаете, в процессе проведения эксперимента по машинному обучению можно использовать функцию `print()` для просмотра выходных данных экспериментов, таких как уровень корреляции данных в выборке, результат тестирования статистической гипотезы и так далее. \n",
    "\n",
    "Однако время от времени выводить результат на экран с помощью функции `print()` бесполезно, так как при запуске следующего эксперимента вы потеряете все результаты предыдущего эксперимента, если не запишете их вручную в документ. \n",
    "\n",
    "> Таким образом, сравнение результатов `ML-экспериментов` становится весьма затруднительным процессом, потому что необходимо иметь записи всех проводимых ранее экспериментов. Например, если во время EDA-задачи предсказания спроса на лекарство изменяются данные, то каждый раз выводить на экран новую визуализацию неудобно. \n",
    "\n",
    "`Логирование` решает эту проблему! Даже если информация изменится с запуском нового эксперимента, всё будет зафиксировано в логе.\n",
    "\n",
    "Пример такого файла: \n",
    "\n",
    "<img src='img/dst-eda-6-14.png'>\n",
    "\n",
    "Здесь зафиксирована информация о форме данных и соотношение классов целевой переменной `Gender`. Это даёт возможность отлаживать код. Далее мы подробнее разберём, как создавать логи. \n",
    "\n",
    "Для логирования в `Python` используется модуль `logging`. Он используется большинством сторонних библиотек `Python`, поэтому вы можете интегрировать свои логи с сообщениями из этих библиотек для создания единого журнала логов приложения. Данный модуль импортируется как другие библиотеки:"
   ]
  },
  {
   "cell_type": "code",
   "execution_count": 1,
   "id": "19c31fdd",
   "metadata": {},
   "outputs": [],
   "source": [
    "import logging\n",
    "import pandas as pd\n",
    "\n",
    "df = pd.read_csv('data/KaggleV2-May-2016.zip')"
   ]
  },
  {
   "cell_type": "markdown",
   "id": "cc37e4cd",
   "metadata": {},
   "source": [
    "Прежде чем приступить к `логированию`, необходимо установить `базовые настройки`:\n",
    "\n",
    "- уровень;\n",
    "- обработчик (`хендлер`);\n",
    "- формат логирования. \n",
    "\n",
    "> Давайте разберёмся с этими конфигурациями по порядку.\n",
    "\n",
    "#### Настройка уровня логирования\n",
    "\n",
    "С импортированным модулем `logging` вы можете использовать так называемый `«logger»` для логирования сообщений, которые вы хотите видеть (вместо вывода их на экран командой `print()`). \n",
    "\n",
    "По умолчанию существует пять стандартных уровней логирования, указывающих на важность событий:\n",
    "- отладка;\n",
    "- информация;\n",
    "- предупреждение;\n",
    "- ошибка;\n",
    "- критический.  \n",
    "\n",
    "Самый низкий уровень из данных — `не установлен`, а самый высокий уровень является `критическим`. Установив `уровень логирования`, можно записать сообщение специально для этого уровня в определённый файл журнала. Возле сообщения будет указан его уровень."
   ]
  },
  {
   "cell_type": "code",
   "execution_count": 2,
   "id": "d9fd67e5",
   "metadata": {},
   "outputs": [
    {
     "name": "stderr",
     "output_type": "stream",
     "text": [
      "WARNING:root:This message is a warning\n",
      "ERROR:root:This is an error message\n",
      "CRITICAL:root:This is a critical message\n"
     ]
    }
   ],
   "source": [
    "import logging\n",
    "logging.debug('This is a debug message')\n",
    "logging.info('This is an informational message')\n",
    "logging.warning('This message is a warning')\n",
    "logging.error('This is an error message')\n",
    "logging.critical('This is a critical message')"
   ]
  },
  {
   "cell_type": "markdown",
   "id": "0507c0f8",
   "metadata": {},
   "source": [
    "Здесь мы дали команду залогировать `пять сообщений`. Вывод команд показывает уровень важности перед каждым сообщением (WARNING/ERROR/CRITICAL). `root` — имя логгера по умолчанию.\n",
    "\n",
    "Этот формат, который показывает уровень, имя и сообщение, разделенные двоеточием (:), является форматом вывода по умолчанию. Его можно изменить для включения таких вещей, как отметка времени, номер строки и других деталей. Мы научимся делать это чуть ниже.\n",
    "\n",
    "Обратите внимание, что сообщения `debug()` и `info()` не были отображены. Это связано с тем, что по умолчанию модуль ведения журнала регистрирует сообщения только с уровнем ПРЕДУПРЕЖДЕНИЕ (WARNING) или выше. Вы можете изменить это, сконфигурировав модуль `logging` для регистрации событий всех уровней, то есть установив уровень на ОТЛАДКУ (DEBUG). \n",
    "\n",
    "Чтобы сделать это, нужно сначала сбросить настройки библиотеки `logging`, перезапустив наш ноутбук. В VS Code это делается с помощью кнопки перезапуска:\n",
    "\n",
    "<img src='img/dst-eda-6-extra-02.png'>\n",
    "\n",
    "Другой вариант сбросить настройки `logging` — воспользоваться функцией `reload()` из вспомогательной системной библиотеки `importlib`:"
   ]
  },
  {
   "cell_type": "code",
   "execution_count": 3,
   "id": "4e5aed93",
   "metadata": {},
   "outputs": [
    {
     "data": {
      "text/plain": [
       "<module 'logging' from 'c:\\\\myProgram\\\\Python\\\\anaconda3\\\\envs\\\\myConda_env_312\\\\Lib\\\\logging\\\\__init__.py'>"
      ]
     },
     "execution_count": 3,
     "metadata": {},
     "output_type": "execute_result"
    }
   ],
   "source": [
    "from importlib import reload\n",
    "import logging\n",
    "reload(logging)"
   ]
  },
  {
   "cell_type": "markdown",
   "id": "8321bb6a",
   "metadata": {},
   "source": [
    "Далее, когда настройки логирования сброшены, нам необходимо перед выводом сообщений, сразу после импорта, изменить конфигурацию логгера."
   ]
  },
  {
   "cell_type": "code",
   "execution_count": 4,
   "id": "23cd063b",
   "metadata": {},
   "outputs": [],
   "source": [
    "logging.basicConfig(level=logging.DEBUG)"
   ]
  },
  {
   "cell_type": "markdown",
   "id": "53821622",
   "metadata": {},
   "source": [
    "Мы настроили уровень ведения журнала DEBUG. Это означает, что теперь будут отслеживаться только сообщения этого уровня (DEBUG) и выше. В результате выполнения кода логирования мы должны получить следующие сообщения:\n",
    "\n",
    "<img src='img/dst-eda-6-extra-03.png'>\n",
    "\n",
    "Как видно из результата выполнения кода, теперь в консоль выводятся лог-сообщения всех уровней.\n",
    "\n",
    "Однако, как вы понимаете, логирование в консоль ничем не лучше простого вывода сообщений с помощью функции `print()`. Обычно логирование производится в специальные `лог-файлы`, для этого используются обработчики (`хендлеры`) логов. Давайте рассмотрим пример логирования в файл.\n",
    "\n",
    "### Установка обработчика логирования\n",
    "\n",
    "Функция обработчиков ведения журналов состоит в том, чтобы отображать записи/сообщения журнала на любом выходе, который вы выберете. То есть вы можете выбрать, отображать ли ваш лог в виде файла, HTTP-страницы или даже отправить лог на электронную почту через SMTP. \n",
    "\n",
    "Более того, у созданного вами `logger` может быть несколько обработчиков, а это значит, что вы можете настроить его на сохранение в файл журнала, а также на отправку по email одновременно. Подробнее ознакомиться с видами хендлеров можно [здесь](https://digitology.tech/docs/python_3/library/logging.handlers.html).\n",
    "\n",
    "Обработчики являются `классами` модуля `logging`. Нам понадобится обработчик `FileHandler`, который возьмёт запись/сообщение журнала и добавит его в файл журнала `log_file.log`:"
   ]
  },
  {
   "cell_type": "code",
   "execution_count": 5,
   "id": "59f95573",
   "metadata": {},
   "outputs": [
    {
     "data": {
      "text/plain": [
       "<FileHandler c:\\Users\\washe\\Documents\\SF_Training_DS\\EDA-5. Проектирование экспериментов\\log\\log_file.log (NOTSET)>"
      ]
     },
     "execution_count": 5,
     "metadata": {},
     "output_type": "execute_result"
    }
   ],
   "source": [
    "logging.FileHandler('log/log_file.log')"
   ]
  },
  {
   "cell_type": "markdown",
   "id": "df8c4ef8",
   "metadata": {},
   "source": [
    "### Установка формата логирования\n",
    "\n",
    "Как мы уже сказали, типичный формат лога выглядит так: уровень: имя: сообщение. Однако его можно изменить.\n",
    "\n",
    "Существуют различные способы форматирования записи журнала. Вы можете включить дату, время и уровень ведения журнала в свой формат, чтобы знать, когда журнал был отправлен и на каком уровне. В приведённом ниже примере показано, как можно настроить формат записей журнала. Так как мы вновь переопределяем настройки библиотеки `logging`, то не забудем `сбросить конфигурацию`."
   ]
  },
  {
   "cell_type": "code",
   "execution_count": 6,
   "id": "0300e5d3",
   "metadata": {},
   "outputs": [
    {
     "name": "stderr",
     "output_type": "stream",
     "text": [
      "INFO: 2025-09-17 12:26:56,977: Check\n"
     ]
    }
   ],
   "source": [
    "from importlib import reload\n",
    "import logging\n",
    "reload(logging)\n",
    "\n",
    "logging.basicConfig(\n",
    "    format=\"%(levelname)s: %(asctime)s: %(message)s\",\n",
    "    level=logging.DEBUG\n",
    ")\n",
    "logging.info('Check')"
   ]
  },
  {
   "cell_type": "markdown",
   "id": "e838bf52",
   "metadata": {},
   "source": [
    "Здесь формат записей журнала включает `дату`, `время`, `уровень` ведения журнала и `само сообщение`.\n",
    "\n",
    "Таким образом, вы можете изменять как формат лога, так и формат вывода. Добавление времени сообщения существенно облегчает работу — становится легко отследить, когда было получено сообщение.\n",
    "\n",
    "> Теперь, когда вы понимаете основы модуля `logging` в Python, посмотрим, как можно его использовать при проведении экспериментов по машинному обучению. Давайте залогируем информацию о нашем датасете [Medical Appointment No Shows](https://www.kaggle.com/joniarroba/noshowappointments)\n",
    "\n",
    "Создадим новый ipynb файл, в котором будем выполнять логирование. Скачать оригинальный ноутбук вы можете по [ссылке](https://lms-cdn.skillfactory.ru/assets/courseware/v1/772d6b261cf40414d610f393cb2adda5/asset-v1:SkillFactory+DST-3.0+28FEB2021+type@asset+block/noshowappointments_logging.ipynb).\n",
    "\n",
    "Создадим функцию `get_logger()` для генерации лог-файла и записи в него информации."
   ]
  },
  {
   "cell_type": "code",
   "execution_count": 7,
   "id": "6c1765de",
   "metadata": {},
   "outputs": [],
   "source": [
    "import os.path\n",
    "\n",
    "# Функция для создания лог-файла и записи в него информации\n",
    "def get_logger(path, file):\n",
    "  \"\"\"[Создает лог-файл для логирования в него]\n",
    "  Аргументы:\n",
    "      path {string} -- путь к директории\n",
    "      file {string} -- имя файла\n",
    "   Возвращает:\n",
    "      [obj] -- [логер]\n",
    "  \"\"\"\n",
    "  # проверяем, существует ли файл\n",
    "  log_file = os.path.join(path, file)\n",
    "\n",
    "  #если  файла нет, создаем его\n",
    "  if not os.path.isfile(log_file):\n",
    "      open(log_file, \"w+\").close()\n",
    "\n",
    "  # поменяем формат логирования\n",
    "  file_logging_format = \"%(levelname)s: %(asctime)s: %(message)s\"\n",
    "\n",
    "  # конфигурируем лог-файл\n",
    "  logging.basicConfig(level=logging.INFO,\n",
    "  format = file_logging_format)\n",
    "  logger = logging.getLogger()\n",
    "\n",
    "  # создадим хэнлдер для записи лога в файл\n",
    "  handler = logging.FileHandler(log_file)\n",
    "\n",
    "  # установим уровень логирования\n",
    "  handler.setLevel(logging.INFO)\n",
    "\n",
    "  # создадим формат логирования, используя file_logging_format\n",
    "  formatter = logging.Formatter(file_logging_format)\n",
    "  handler.setFormatter(formatter)\n",
    "\n",
    "  # добавим хэндлер лог-файлу\n",
    "  logger.addHandler(handler)\n",
    "  return logger"
   ]
  },
  {
   "cell_type": "markdown",
   "id": "11e0adf9",
   "metadata": {},
   "source": [
    "Итак, `get_logger` принимает на вход папку, в которой вы хотите хранить файл лога и имя файла. Функция нацелена на создание информационных сообщений и записи их в лог-файл. Для того, чтобы освежить в памяти знания по работе с файлами, вы можете вернуться к Блоку 2 нашего курса («Подгрузка данных»).  \n",
    "\n",
    "Для удобства лог-файлы хранят в отдельной директории. Новую папку можно создать с помощью команды `mkdir`:\n",
    "\n",
    ">!mkdir log"
   ]
  },
  {
   "cell_type": "code",
   "execution_count": 8,
   "id": "de37b16d",
   "metadata": {},
   "outputs": [
    {
     "name": "stderr",
     "output_type": "stream",
     "text": [
      "INFO: 2025-09-17 12:26:57,038: Data\n",
      "INFO: 2025-09-17 12:26:57,039: Data shape (110527, 14)\n",
      "C:\\Users\\washe\\AppData\\Local\\Temp\\ipykernel_2196\\2771753074.py:8: FutureWarning: Series.__getitem__ treating keys as positions is deprecated. In a future version, integer keys will always be treated as labels (consistent with DataFrame behavior). To access a value by position, use `ser.iloc[pos]`\n",
      "  logger.info(\"Percentage of women: {}\".format(df[df['No-show']=='Yes']['Gender'].value_counts(True)[0]))\n",
      "INFO: 2025-09-17 12:26:57,054: Percentage of women: 0.653882342398853\n",
      "C:\\Users\\washe\\AppData\\Local\\Temp\\ipykernel_2196\\2771753074.py:10: FutureWarning: Series.__getitem__ treating keys as positions is deprecated. In a future version, integer keys will always be treated as labels (consistent with DataFrame behavior). To access a value by position, use `ser.iloc[pos]`\n",
      "  logger.info(\"Percentage of men: {}\".format(df[df['No-show']=='Yes']['Gender'].value_counts(True)[1]))\n",
      "INFO: 2025-09-17 12:26:57,064: Percentage of men: 0.346117657601147\n"
     ]
    }
   ],
   "source": [
    "# создаем лог-файл\n",
    "logger = get_logger(path=\"log/\", file=\"data.logs\")\n",
    "\n",
    "logger.info(\"Data\")\n",
    "\n",
    "logger.info(\"Data shape {}\".format(df.shape))\n",
    "\n",
    "logger.info(\"Percentage of women: {}\".format(df[df['No-show']=='Yes']['Gender'].value_counts(True)[0]))\n",
    "\n",
    "logger.info(\"Percentage of men: {}\".format(df[df['No-show']=='Yes']['Gender'].value_counts(True)[1]))"
   ]
  },
  {
   "cell_type": "markdown",
   "id": "82dd5768",
   "metadata": {},
   "source": [
    "В директории `log` появится файл `data.logs`, который будет выглядеть следующим образом:\n",
    "\n",
    "<img src='img/dst-eda-6-14.png'>\n",
    "\n",
    "**Отлично!** Мы зафиксировали информацию о датасете в лог-файл. Такой файл отражает сведения о том, что всё работает в штатном режиме (то есть просто ежедневный мониторинг программы) или что произошла какая-то ошибка, на которую нужно максимально срочно отреагировать и устранить. Например, мы можем проверять форму данных, и, если форма не соответствует необходимой, логировать ошибку:"
   ]
  },
  {
   "cell_type": "code",
   "execution_count": 9,
   "id": "7de94a99",
   "metadata": {},
   "outputs": [
    {
     "name": "stderr",
     "output_type": "stream",
     "text": [
      "ERROR: 2025-09-17 12:28:18,662: Data shape is incorrect!\n"
     ]
    }
   ],
   "source": [
    "if df.shape != (110526,14):\n",
    " logger.error('Data shape is incorrect!')"
   ]
  },
  {
   "cell_type": "markdown",
   "id": "fd7c8543",
   "metadata": {},
   "source": [
    "Посмотрим на обновленный файл `data.logs`:\n",
    "\n",
    "<img src='img/dst-eda-6-9.png'>\n",
    "\n",
    "> В следующем юните вы познакомитесь с платформой, которая позволяет не только логировать информацию об эксперименте, но и с лёгкостью сравнивать эксперименты между собой, а также работать над ними в команде!"
   ]
  }
 ],
 "metadata": {
  "kernelspec": {
   "display_name": "myConda_env_312",
   "language": "python",
   "name": "python3"
  },
  "language_info": {
   "codemirror_mode": {
    "name": "ipython",
    "version": 3
   },
   "file_extension": ".py",
   "mimetype": "text/x-python",
   "name": "python",
   "nbconvert_exporter": "python",
   "pygments_lexer": "ipython3",
   "version": "3.12.11"
  }
 },
 "nbformat": 4,
 "nbformat_minor": 5
}
