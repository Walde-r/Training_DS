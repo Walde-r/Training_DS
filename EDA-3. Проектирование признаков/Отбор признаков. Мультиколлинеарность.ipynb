{
 "cells": [
  {
   "cell_type": "markdown",
   "id": "78ee6ef6",
   "metadata": {},
   "source": [
    " Ещё одним важным этапом в жизненном цикле машинного обучения и в проектировании признаков является **отбор признаков**."
   ]
  }
 ],
 "metadata": {
  "language_info": {
   "name": "python"
  }
 },
 "nbformat": 4,
 "nbformat_minor": 5
}
