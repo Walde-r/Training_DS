{
 "cells": [
  {
   "cell_type": "markdown",
   "id": "7cf9311f",
   "metadata": {},
   "source": [
    "В реальной жизни большую часть работы над моделью занимает разведывательный анализ данных. С целью решения подобной проблемы появились инструменты автоматической визуализации и представления датасета.\n",
    "\n",
    "К таким инструментам можно отнести следующие библиотеки `Python`, которые могут выполнять `EDA` всего одной строкой кода:\n",
    "- d-tale; \n",
    "- ydata-profiling;\n",
    "- sweetviz.\n",
    "  \n",
    "### [Ydata-profiling](https://github.com/ydataai/ydata-profiling)\n",
    "\n",
    "`Ydata-profiling` — это библиотека с открытым исходным кодом, которая создаёт подробный отчёт по данным. \n",
    "\n",
    "Ydata-profiling можно легко использовать для больших наборов данных: отчёты создаются всего за несколько секунд.\n",
    "\n",
    ">Примечание. Ранее библиотека `ydata-profiling` называлась `pandas-profiling` и работала только с `pandas.DataFrame`. Однако, начиная с версии 4.0.0, в библиотеке появилась возможность работать с форматами данных библиотеки `Spark` (библиотека для работы с распределёнными вычислениями на больших объёмах данных). В результате расширения возможностей библиотеки возникла необходимость ребрендинга, который и привёл к смене имени. Синтаксис и формат выходных данных для `pandas` остались теми же.\n",
    "\n",
    "Установка (выполните в терминале или ячейке ноутбука):\n",
    "\n",
    "```python\n",
    "pip install -U ydata-profiling\n",
    "pip install ipywidgets\n",
    "```"
   ]
  },
  {
   "cell_type": "code",
   "execution_count": null,
   "id": "bf30e9c5",
   "metadata": {},
   "outputs": [
    {
     "ename": "ModuleNotFoundError",
     "evalue": "No module named 'ydata_profiling'",
     "output_type": "error",
     "traceback": [
      "\u001b[31m---------------------------------------------------------------------------\u001b[39m",
      "\u001b[31mModuleNotFoundError\u001b[39m                       Traceback (most recent call last)",
      "\u001b[36mCell\u001b[39m\u001b[36m \u001b[39m\u001b[32mIn[1]\u001b[39m\u001b[32m, line 2\u001b[39m\n\u001b[32m      1\u001b[39m \u001b[38;5;28;01mimport\u001b[39;00m\u001b[38;5;250m \u001b[39m\u001b[34;01mpandas\u001b[39;00m\u001b[38;5;250m \u001b[39m\u001b[38;5;28;01mas\u001b[39;00m\u001b[38;5;250m \u001b[39m\u001b[34;01mpd\u001b[39;00m\n\u001b[32m----> \u001b[39m\u001b[32m2\u001b[39m \u001b[38;5;28;01mfrom\u001b[39;00m\u001b[38;5;250m \u001b[39m\u001b[34;01mydata_profiling\u001b[39;00m\u001b[38;5;250m \u001b[39m\u001b[38;5;28;01mimport\u001b[39;00m ProfileReport\n\u001b[32m      4\u001b[39m df = pd.read_csv(\u001b[33m'\u001b[39m\u001b[33mdata/wine.zip\u001b[39m\u001b[33m'\u001b[39m)\n",
      "\u001b[31mModuleNotFoundError\u001b[39m: No module named 'ydata_profiling'"
     ]
    }
   ],
   "source": [
    "import pandas as pd\n",
    "from ydata_profiling import ProfileReport\n",
    "\n",
    "df = pd.read_csv('data/wine.zip')"
   ]
  }
 ],
 "metadata": {
  "kernelspec": {
   "display_name": "myConda_env",
   "language": "python",
   "name": "python3"
  },
  "language_info": {
   "codemirror_mode": {
    "name": "ipython",
    "version": 3
   },
   "file_extension": ".py",
   "mimetype": "text/x-python",
   "name": "python",
   "nbconvert_exporter": "python",
   "pygments_lexer": "ipython3",
   "version": "3.13.2"
  }
 },
 "nbformat": 4,
 "nbformat_minor": 5
}
