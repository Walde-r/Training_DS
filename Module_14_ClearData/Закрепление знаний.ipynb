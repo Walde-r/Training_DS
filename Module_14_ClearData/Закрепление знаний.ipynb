{
 "cells": [
  {
   "cell_type": "code",
   "execution_count": 3,
   "id": "4059a4bd",
   "metadata": {},
   "outputs": [],
   "source": [
    "import pandas as pd\n",
    "import numpy as np\n",
    "import matplotlib.pyplot as plt\n",
    "import seaborn as sns"
   ]
  },
  {
   "cell_type": "markdown",
   "id": "cb9881b9",
   "metadata": {},
   "source": [
    "Вам предоставлен набор данных, первоначально полученный в Национальном институте диабета, болезней органов пищеварения и почек. \n",
    "\n",
    "Этот набор данных создан для того, чтобы на основе определённых диагностических измерений предсказать, есть ли у пациента диабет. \n",
    "\n",
    "На выбор этих экземпляров из более крупной базы данных было наложено несколько ограничений. В частности, все пациенты здесь — женщины не моложе 21 года индейского происхождения Пима.\n",
    "\n",
    "Прочитаем наши данные и выведем первые пять строк таблицы:"
   ]
  },
  {
   "cell_type": "code",
   "execution_count": 4,
   "id": "597cbd0d",
   "metadata": {},
   "outputs": [
    {
     "data": {
      "text/html": [
       "<div>\n",
       "<style scoped>\n",
       "    .dataframe tbody tr th:only-of-type {\n",
       "        vertical-align: middle;\n",
       "    }\n",
       "\n",
       "    .dataframe tbody tr th {\n",
       "        vertical-align: top;\n",
       "    }\n",
       "\n",
       "    .dataframe thead th {\n",
       "        text-align: right;\n",
       "    }\n",
       "</style>\n",
       "<table border=\"1\" class=\"dataframe\">\n",
       "  <thead>\n",
       "    <tr style=\"text-align: right;\">\n",
       "      <th></th>\n",
       "      <th>Pregnancies</th>\n",
       "      <th>Glucose</th>\n",
       "      <th>BloodPressure</th>\n",
       "      <th>SkinThickness</th>\n",
       "      <th>Insulin</th>\n",
       "      <th>BMI</th>\n",
       "      <th>DiabetesPedigreeFunction</th>\n",
       "      <th>Age</th>\n",
       "      <th>Outcome</th>\n",
       "      <th>Gender</th>\n",
       "    </tr>\n",
       "  </thead>\n",
       "  <tbody>\n",
       "    <tr>\n",
       "      <th>0</th>\n",
       "      <td>6</td>\n",
       "      <td>98</td>\n",
       "      <td>58</td>\n",
       "      <td>33</td>\n",
       "      <td>190</td>\n",
       "      <td>34.0</td>\n",
       "      <td>0.430</td>\n",
       "      <td>43</td>\n",
       "      <td>0</td>\n",
       "      <td>Female</td>\n",
       "    </tr>\n",
       "    <tr>\n",
       "      <th>1</th>\n",
       "      <td>2</td>\n",
       "      <td>112</td>\n",
       "      <td>75</td>\n",
       "      <td>32</td>\n",
       "      <td>0</td>\n",
       "      <td>35.7</td>\n",
       "      <td>0.148</td>\n",
       "      <td>21</td>\n",
       "      <td>0</td>\n",
       "      <td>Female</td>\n",
       "    </tr>\n",
       "    <tr>\n",
       "      <th>2</th>\n",
       "      <td>2</td>\n",
       "      <td>108</td>\n",
       "      <td>64</td>\n",
       "      <td>0</td>\n",
       "      <td>0</td>\n",
       "      <td>30.8</td>\n",
       "      <td>0.158</td>\n",
       "      <td>21</td>\n",
       "      <td>0</td>\n",
       "      <td>Female</td>\n",
       "    </tr>\n",
       "    <tr>\n",
       "      <th>3</th>\n",
       "      <td>8</td>\n",
       "      <td>107</td>\n",
       "      <td>80</td>\n",
       "      <td>0</td>\n",
       "      <td>0</td>\n",
       "      <td>24.6</td>\n",
       "      <td>0.856</td>\n",
       "      <td>34</td>\n",
       "      <td>0</td>\n",
       "      <td>Female</td>\n",
       "    </tr>\n",
       "    <tr>\n",
       "      <th>4</th>\n",
       "      <td>7</td>\n",
       "      <td>136</td>\n",
       "      <td>90</td>\n",
       "      <td>0</td>\n",
       "      <td>0</td>\n",
       "      <td>29.9</td>\n",
       "      <td>0.210</td>\n",
       "      <td>50</td>\n",
       "      <td>0</td>\n",
       "      <td>Female</td>\n",
       "    </tr>\n",
       "  </tbody>\n",
       "</table>\n",
       "</div>"
      ],
      "text/plain": [
       "   Pregnancies  Glucose  BloodPressure  SkinThickness  Insulin   BMI  \\\n",
       "0            6       98             58             33      190  34.0   \n",
       "1            2      112             75             32        0  35.7   \n",
       "2            2      108             64              0        0  30.8   \n",
       "3            8      107             80              0        0  24.6   \n",
       "4            7      136             90              0        0  29.9   \n",
       "\n",
       "   DiabetesPedigreeFunction  Age  Outcome  Gender  \n",
       "0                     0.430   43        0  Female  \n",
       "1                     0.148   21        0  Female  \n",
       "2                     0.158   21        0  Female  \n",
       "3                     0.856   34        0  Female  \n",
       "4                     0.210   50        0  Female  "
      ]
     },
     "execution_count": 4,
     "metadata": {},
     "output_type": "execute_result"
    }
   ],
   "source": [
    "diabetes = pd.read_csv('data/diabetes_data.csv')\n",
    "diabetes.head()"
   ]
  },
  {
   "cell_type": "markdown",
   "id": "f776c9b3",
   "metadata": {},
   "source": [
    "Pregnancies — количество беременностей.\n",
    "\n",
    "Glucose — концентрация глюкозы в плазме через два часа при пероральном тесте на толерантность к глюкозе.\n",
    "\n",
    "BloodPressure — диастолическое артериальное давление (мм рт. ст.).\n",
    "\n",
    "SkinThickness — толщина кожной складки трицепса (мм).\n",
    "\n",
    "Insulin — двухчасовой сывороточный инсулин (ме Ед/мл).\n",
    "\n",
    "BMI — индекс массы тела (вес/(рост)**2)\n",
    "\n",
    "DiabetesPedigreeFunction — функция родословной диабета (чем она выше, тем выше шанс наследственной заболеваемости).\n",
    "\n",
    "Age — возраст.\n",
    "\n",
    "Outcome — наличие диабета (0 — нет, 1 — да)."
   ]
  },
  {
   "cell_type": "markdown",
   "id": "a44160f6",
   "metadata": {},
   "source": [
    "Предварительно вы можете провести небольшой разведывательный анализ: посмотреть на распределения признаков и оценить их взаимосвязь с признаком наличия диабета."
   ]
  },
  {
   "cell_type": "code",
   "execution_count": 5,
   "id": "90b91124",
   "metadata": {},
   "outputs": [
    {
     "name": "stdout",
     "output_type": "stream",
     "text": [
      "<class 'pandas.core.frame.DataFrame'>\n",
      "RangeIndex: 778 entries, 0 to 777\n",
      "Data columns (total 10 columns):\n",
      " #   Column                    Non-Null Count  Dtype   \n",
      "---  ------                    --------------  -----   \n",
      " 0   Pregnancies               778 non-null    int64   \n",
      " 1   Glucose                   778 non-null    int64   \n",
      " 2   BloodPressure             778 non-null    int64   \n",
      " 3   SkinThickness             778 non-null    int64   \n",
      " 4   Insulin                   778 non-null    int64   \n",
      " 5   BMI                       778 non-null    float64 \n",
      " 6   DiabetesPedigreeFunction  778 non-null    float64 \n",
      " 7   Age                       778 non-null    int64   \n",
      " 8   Outcome                   778 non-null    category\n",
      " 9   Gender                    778 non-null    object  \n",
      "dtypes: category(1), float64(2), int64(6), object(1)\n",
      "memory usage: 55.7+ KB\n"
     ]
    }
   ],
   "source": [
    "diabetes['Outcome'] = diabetes['Outcome'].astype('category')\n",
    "diabetes.info()"
   ]
  },
  {
   "cell_type": "code",
   "execution_count": 6,
   "id": "bbf147ee",
   "metadata": {},
   "outputs": [
    {
     "data": {
      "text/plain": [
       "<Axes: xlabel='BloodPressure', ylabel='Outcome'>"
      ]
     },
     "execution_count": 6,
     "metadata": {},
     "output_type": "execute_result"
    },
    {
     "data": {
      "image/png": "[encoded data removed]",
      "text/plain": [
       "<Figure size 1200x500 with 2 Axes>"
      ]
     },
     "metadata": {},
     "output_type": "display_data"
    }
   ],
   "source": [
    "fig, axes = plt.subplots(nrows=1, ncols=2, figsize=(12, 5))\n",
    "\n",
    "name_param = 'BloodPressure'\n",
    "\n",
    "sns.histplot(diabetes,\n",
    "             x=name_param,\n",
    "             ax=axes[0]);\n",
    "\n",
    "sns.boxplot(diabetes,\n",
    "            x=name_param,\n",
    "            y='Outcome')"
   ]
  },
  {
   "cell_type": "code",
   "execution_count": 7,
   "id": "7e8cb56d",
   "metadata": {},
   "outputs": [
    {
     "name": "stdout",
     "output_type": "stream",
     "text": [
      "Результирующее число записей: 768\n"
     ]
    }
   ],
   "source": [
    "# Задание 8.1\n",
    "# Начнём с поиска дубликатов в данных. Найдите все повторяющиеся строки в данных и удалите их. \n",
    "# Для поиска используйте все признаки в данных. Сколько записей осталось в данных?\n",
    "\n",
    "diabet_dedupped = diabetes.drop_duplicates(subset=diabetes.columns)\n",
    "print(f'Результирующее число записей: {diabet_dedupped.shape[0]}')"
   ]
  },
  {
   "cell_type": "code",
   "execution_count": 8,
   "id": "0b096180",
   "metadata": {},
   "outputs": [
    {
     "name": "stdout",
     "output_type": "stream",
     "text": [
      "Gender: 100.0% одинаковых значений\n"
     ]
    }
   ],
   "source": [
    "# Задание 8.2\n",
    "# Далее найдите все неинформативные признаки в данных и избавьтесь от них. \n",
    "# В качестве порога информативности возьмите 0.95: удалите все признаки, \n",
    "# для которых 95 % значений повторяются или 95 % записей уникальны. \n",
    "# В ответ запишите имена признаков, которые вы нашли (без кавычек).\n",
    "\n",
    "low_information_cols = [] \n",
    "\n",
    "#цикл по всем столбцам\n",
    "for col in diabet_dedupped.columns:\n",
    "    #наибольшая относительная частота в признаке\n",
    "    top_freq = diabet_dedupped[col].value_counts(normalize=True).max()\n",
    "    #доля уникальных значений от размера признака\n",
    "    nunique_ratio = diabet_dedupped[col].nunique() / diabet_dedupped[col].count()\n",
    "    # сравниваем наибольшую частоту с порогом\n",
    "    if top_freq > 0.95:\n",
    "        low_information_cols.append(col)\n",
    "        print(f'{col}: {round(top_freq*100, 2)}% одинаковых значений')\n",
    "    # сравниваем долю уникальных значений с порогом\n",
    "    if nunique_ratio > 0.95:\n",
    "        low_information_cols.append(col)\n",
    "        print(f'{col}: {round(nunique_ratio*100, 2)}% уникальных значений')"
   ]
  },
  {
   "cell_type": "code",
   "execution_count": 9,
   "id": "bfb49dd5",
   "metadata": {},
   "outputs": [
    {
     "name": "stdout",
     "output_type": "stream",
     "text": [
      "Результирующее число признаков: 9\n"
     ]
    }
   ],
   "source": [
    "information_diabet = diabet_dedupped.drop(low_information_cols, axis=1)\n",
    "print(f'Результирующее число признаков: {information_diabet.shape[1]}')"
   ]
  },
  {
   "cell_type": "code",
   "execution_count": 10,
   "id": "62f53c29",
   "metadata": {},
   "outputs": [],
   "source": [
    "def NullToNan(p_value):\n",
    "    if p_value == 0:\n",
    "        return np.nan\n",
    "    else: \n",
    "        return p_value"
   ]
  },
  {
   "cell_type": "code",
   "execution_count": 11,
   "id": "51043a12",
   "metadata": {},
   "outputs": [],
   "source": [
    "information_diabet['Glucose'] = information_diabet['Glucose'].apply(NullToNan)\n",
    "information_diabet['BloodPressure'] = information_diabet['BloodPressure'].apply(NullToNan)\n",
    "information_diabet['SkinThickness'] = information_diabet['SkinThickness'].apply(NullToNan)\n",
    "information_diabet['Insulin'] = information_diabet['Insulin'].apply(NullToNan)\n",
    "information_diabet['BMI'] = information_diabet['BMI'].apply(NullToNan)"
   ]
  },
  {
   "cell_type": "code",
   "execution_count": 12,
   "id": "9df1f986",
   "metadata": {},
   "outputs": [
    {
     "data": {
      "text/html": [
       "<div>\n",
       "<style scoped>\n",
       "    .dataframe tbody tr th:only-of-type {\n",
       "        vertical-align: middle;\n",
       "    }\n",
       "\n",
       "    .dataframe tbody tr th {\n",
       "        vertical-align: top;\n",
       "    }\n",
       "\n",
       "    .dataframe thead th {\n",
       "        text-align: right;\n",
       "    }\n",
       "</style>\n",
       "<table border=\"1\" class=\"dataframe\">\n",
       "  <thead>\n",
       "    <tr style=\"text-align: right;\">\n",
       "      <th></th>\n",
       "      <th>Pregnancies</th>\n",
       "      <th>Glucose</th>\n",
       "      <th>BloodPressure</th>\n",
       "      <th>SkinThickness</th>\n",
       "      <th>Insulin</th>\n",
       "      <th>BMI</th>\n",
       "      <th>DiabetesPedigreeFunction</th>\n",
       "      <th>Age</th>\n",
       "      <th>Outcome</th>\n",
       "    </tr>\n",
       "  </thead>\n",
       "  <tbody>\n",
       "    <tr>\n",
       "      <th>0</th>\n",
       "      <td>6</td>\n",
       "      <td>98.0</td>\n",
       "      <td>58.0</td>\n",
       "      <td>33.0</td>\n",
       "      <td>190.0</td>\n",
       "      <td>34.0</td>\n",
       "      <td>0.430</td>\n",
       "      <td>43</td>\n",
       "      <td>0</td>\n",
       "    </tr>\n",
       "    <tr>\n",
       "      <th>1</th>\n",
       "      <td>2</td>\n",
       "      <td>112.0</td>\n",
       "      <td>75.0</td>\n",
       "      <td>32.0</td>\n",
       "      <td>NaN</td>\n",
       "      <td>35.7</td>\n",
       "      <td>0.148</td>\n",
       "      <td>21</td>\n",
       "      <td>0</td>\n",
       "    </tr>\n",
       "    <tr>\n",
       "      <th>2</th>\n",
       "      <td>2</td>\n",
       "      <td>108.0</td>\n",
       "      <td>64.0</td>\n",
       "      <td>NaN</td>\n",
       "      <td>NaN</td>\n",
       "      <td>30.8</td>\n",
       "      <td>0.158</td>\n",
       "      <td>21</td>\n",
       "      <td>0</td>\n",
       "    </tr>\n",
       "    <tr>\n",
       "      <th>3</th>\n",
       "      <td>8</td>\n",
       "      <td>107.0</td>\n",
       "      <td>80.0</td>\n",
       "      <td>NaN</td>\n",
       "      <td>NaN</td>\n",
       "      <td>24.6</td>\n",
       "      <td>0.856</td>\n",
       "      <td>34</td>\n",
       "      <td>0</td>\n",
       "    </tr>\n",
       "    <tr>\n",
       "      <th>4</th>\n",
       "      <td>7</td>\n",
       "      <td>136.0</td>\n",
       "      <td>90.0</td>\n",
       "      <td>NaN</td>\n",
       "      <td>NaN</td>\n",
       "      <td>29.9</td>\n",
       "      <td>0.210</td>\n",
       "      <td>50</td>\n",
       "      <td>0</td>\n",
       "    </tr>\n",
       "    <tr>\n",
       "      <th>...</th>\n",
       "      <td>...</td>\n",
       "      <td>...</td>\n",
       "      <td>...</td>\n",
       "      <td>...</td>\n",
       "      <td>...</td>\n",
       "      <td>...</td>\n",
       "      <td>...</td>\n",
       "      <td>...</td>\n",
       "      <td>...</td>\n",
       "    </tr>\n",
       "    <tr>\n",
       "      <th>763</th>\n",
       "      <td>5</td>\n",
       "      <td>139.0</td>\n",
       "      <td>64.0</td>\n",
       "      <td>35.0</td>\n",
       "      <td>140.0</td>\n",
       "      <td>28.6</td>\n",
       "      <td>0.411</td>\n",
       "      <td>26</td>\n",
       "      <td>0</td>\n",
       "    </tr>\n",
       "    <tr>\n",
       "      <th>764</th>\n",
       "      <td>1</td>\n",
       "      <td>96.0</td>\n",
       "      <td>122.0</td>\n",
       "      <td>NaN</td>\n",
       "      <td>NaN</td>\n",
       "      <td>22.4</td>\n",
       "      <td>0.207</td>\n",
       "      <td>27</td>\n",
       "      <td>0</td>\n",
       "    </tr>\n",
       "    <tr>\n",
       "      <th>765</th>\n",
       "      <td>10</td>\n",
       "      <td>101.0</td>\n",
       "      <td>86.0</td>\n",
       "      <td>37.0</td>\n",
       "      <td>NaN</td>\n",
       "      <td>45.6</td>\n",
       "      <td>1.136</td>\n",
       "      <td>38</td>\n",
       "      <td>1</td>\n",
       "    </tr>\n",
       "    <tr>\n",
       "      <th>766</th>\n",
       "      <td>0</td>\n",
       "      <td>141.0</td>\n",
       "      <td>NaN</td>\n",
       "      <td>NaN</td>\n",
       "      <td>NaN</td>\n",
       "      <td>42.4</td>\n",
       "      <td>0.205</td>\n",
       "      <td>29</td>\n",
       "      <td>1</td>\n",
       "    </tr>\n",
       "    <tr>\n",
       "      <th>767</th>\n",
       "      <td>0</td>\n",
       "      <td>125.0</td>\n",
       "      <td>96.0</td>\n",
       "      <td>NaN</td>\n",
       "      <td>NaN</td>\n",
       "      <td>22.5</td>\n",
       "      <td>0.262</td>\n",
       "      <td>21</td>\n",
       "      <td>0</td>\n",
       "    </tr>\n",
       "  </tbody>\n",
       "</table>\n",
       "<p>768 rows × 9 columns</p>\n",
       "</div>"
      ],
      "text/plain": [
       "     Pregnancies  Glucose  BloodPressure  SkinThickness  Insulin   BMI  \\\n",
       "0              6     98.0           58.0           33.0    190.0  34.0   \n",
       "1              2    112.0           75.0           32.0      NaN  35.7   \n",
       "2              2    108.0           64.0            NaN      NaN  30.8   \n",
       "3              8    107.0           80.0            NaN      NaN  24.6   \n",
       "4              7    136.0           90.0            NaN      NaN  29.9   \n",
       "..           ...      ...            ...            ...      ...   ...   \n",
       "763            5    139.0           64.0           35.0    140.0  28.6   \n",
       "764            1     96.0          122.0            NaN      NaN  22.4   \n",
       "765           10    101.0           86.0           37.0      NaN  45.6   \n",
       "766            0    141.0            NaN            NaN      NaN  42.4   \n",
       "767            0    125.0           96.0            NaN      NaN  22.5   \n",
       "\n",
       "     DiabetesPedigreeFunction  Age Outcome  \n",
       "0                       0.430   43       0  \n",
       "1                       0.148   21       0  \n",
       "2                       0.158   21       0  \n",
       "3                       0.856   34       0  \n",
       "4                       0.210   50       0  \n",
       "..                        ...  ...     ...  \n",
       "763                     0.411   26       0  \n",
       "764                     0.207   27       0  \n",
       "765                     1.136   38       1  \n",
       "766                     0.205   29       1  \n",
       "767                     0.262   21       0  \n",
       "\n",
       "[768 rows x 9 columns]"
      ]
     },
     "metadata": {},
     "output_type": "display_data"
    }
   ],
   "source": [
    "display(information_diabet)"
   ]
  },
  {
   "cell_type": "code",
   "execution_count": 13,
   "id": "62bebdeb",
   "metadata": {},
   "outputs": [
    {
     "data": {
      "text/plain": [
       "['Insulin']"
      ]
     },
     "metadata": {},
     "output_type": "display_data"
    }
   ],
   "source": [
    "cols_null_percent = round(information_diabet.isnull().mean()*100,2)\n",
    "cols_with_null = list(cols_null_percent[cols_null_percent>30].sort_values(ascending=False).index)\n",
    "display(cols_with_null)"
   ]
  },
  {
   "cell_type": "code",
   "execution_count": 14,
   "id": "4379157f",
   "metadata": {},
   "outputs": [],
   "source": [
    "# Задание 8.4\n",
    "# Удалите из данных признаки, где число пропусков составляет более 30 %. \n",
    "# Сколько признаков осталось в ваших данных (с учетом удаленных неинформативных признаков в задании 8.2)?\n",
    "information_diabet = information_diabet.drop(cols_with_null,axis=1)"
   ]
  },
  {
   "cell_type": "code",
   "execution_count": 15,
   "id": "12ddd78f",
   "metadata": {},
   "outputs": [
    {
     "name": "stdout",
     "output_type": "stream",
     "text": [
      "Результирующее число признаков: 8\n"
     ]
    }
   ],
   "source": [
    "print(f'Результирующее число признаков: {information_diabet.shape[1]}')"
   ]
  },
  {
   "cell_type": "code",
   "execution_count": 16,
   "id": "aca2e38a",
   "metadata": {},
   "outputs": [
    {
     "name": "stdout",
     "output_type": "stream",
     "text": [
      "Pregnancies                 0.000000\n",
      "Glucose                     0.006510\n",
      "BloodPressure               0.045573\n",
      "SkinThickness               0.295573\n",
      "BMI                         0.014323\n",
      "DiabetesPedigreeFunction    0.000000\n",
      "Age                         0.000000\n",
      "Outcome                     0.000000\n",
      "dtype: float64\n",
      "761\n"
     ]
    }
   ],
   "source": [
    "#Задание 8.5\n",
    "#Удалите из данных только те строки, в которых содержится более двух пропусков одновременно. \n",
    "# Чему равно результирующее число записей в таблице?\n",
    "m=8\n",
    "drop_inform_diabet = information_diabet.dropna(thresh=m-2, axis=0)\n",
    "print(information_diabet.isnull().mean())\n",
    "print(drop_inform_diabet.shape[0])"
   ]
  },
  {
   "cell_type": "code",
   "execution_count": 17,
   "id": "14347e09",
   "metadata": {},
   "outputs": [
    {
     "name": "stdout",
     "output_type": "stream",
     "text": [
      "29.1\n"
     ]
    }
   ],
   "source": [
    "#Задание 8.6\n",
    "#В оставшихся записях замените пропуски на медиану. \n",
    "# Чему равно среднее значение в столбце SkinThickness? \n",
    "# Ответ округлите до десятых.\n",
    "\n",
    "#создаем копию исходной таблицы\n",
    "fill_diabet_data = drop_inform_diabet.copy()\n",
    "#создаем словарь имя столбца: число(признак) на который надо заменить пропуски\n",
    "values = {\n",
    "    'Glucose': fill_diabet_data['Glucose'].median(),\n",
    "    'BloodPressure': fill_diabet_data['BloodPressure'].median(),\n",
    "    'SkinThickness': fill_diabet_data['SkinThickness'].median(),\n",
    "    'BMI': fill_diabet_data['BMI'].median()\n",
    "}\n",
    "#заполняем пропуски в соответствии с заявленным словарем\n",
    "fill_diabet_data = fill_diabet_data.fillna(values)\n",
    "#выводим результирующую долю пропусков\n",
    "#fill_diabet_data.isnull().mean()\n",
    "\n",
    "print(round(fill_diabet_data['SkinThickness'].mean(),1))"
   ]
  },
  {
   "cell_type": "code",
   "execution_count": null,
   "id": "54c67c88",
   "metadata": {},
   "outputs": [],
   "source": [
    "#функция классический метод межквартильного размаха\n",
    "def outliers_iqr_mod(data, feature, log_scale=False):\n",
    "    if log_scale:\n",
    "        x = np.log(data[feature])\n",
    "    else:\n",
    "        x = data[feature]\n",
    "    quartile_1, quartile_3 = x.quantile(0.25), x.quantile(0.75),\n",
    "    iqr = quartile_3 - quartile_1\n",
    "    lower_bound = quartile_1 - (iqr * 1.5)\n",
    "    upper_bound = quartile_3 + (iqr * 1.5)\n",
    "    outliers = data[(x < lower_bound) | (x > upper_bound)]\n",
    "    cleaned = data[(x >= lower_bound) & (x <= upper_bound)]\n",
    "    return outliers, cleaned"
   ]
  },
  {
   "cell_type": "code",
   "execution_count": null,
   "id": "2578da32",
   "metadata": {},
   "outputs": [
    {
     "name": "stdout",
     "output_type": "stream",
     "text": [
      "Число выбросов по методу Тьюки: 87\n",
      "Результирующее число записей: 674\n"
     ]
    }
   ],
   "source": [
    "# Задание 8.7\n",
    "# Сколько выбросов найдёт классический метод межквартильного размаха в признаке SkinThickness?\n",
    "\n",
    "outliers, cleaned = outliers_iqr(fill_diabet_data, 'SkinThickness')\n",
    "print(f'Число выбросов по методу Тьюки: {outliers.shape[0]}')\n",
    "print(f'Результирующее число записей: {cleaned.shape[0]}')"
   ]
  },
  {
   "cell_type": "code",
   "execution_count": 20,
   "id": "aa34d514",
   "metadata": {},
   "outputs": [],
   "source": [
    "#функция по методу z-отклонения\n",
    "def outliers_z_score(data, feature, log_scale=False):\n",
    "    if log_scale:\n",
    "        x = np.log(data[feature]+1)\n",
    "    else:\n",
    "        x = data[feature]\n",
    "    mu = x.mean()\n",
    "    sigma = x.std()\n",
    "    lower_bound = mu - 3 * sigma\n",
    "    upper_bound = mu + 3 * sigma\n",
    "    outliers = data[(x < lower_bound) | (x > upper_bound)]\n",
    "    cleaned = data[(x >= lower_bound) & (x <= upper_bound)]\n",
    "    return outliers, cleaned"
   ]
  },
  {
   "cell_type": "code",
   "execution_count": null,
   "id": "8180ad4d",
   "metadata": {},
   "outputs": [
    {
     "name": "stdout",
     "output_type": "stream",
     "text": [
      "Число выбросов по методу z-отклонения: 4\n",
      "Результирующее число записей: 757\n"
     ]
    }
   ],
   "source": [
    "#Задание 8.8\n",
    "#Сколько выбросов найдёт классический метод z-отклонения в признаке SkinThickness?\n",
    "\n",
    "outliers, cleaned = outliers_z_score(fill_diabet_data, 'SkinThickness', log_scale=False)\n",
    "print(f'Число выбросов по методу z-отклонения: {outliers.shape[0]}')\n",
    "print(f'Результирующее число записей: {cleaned.shape[0]}')"
   ]
  },
  {
   "cell_type": "code",
   "execution_count": 44,
   "id": "fd85afd3",
   "metadata": {},
   "outputs": [
    {
     "name": "stdout",
     "output_type": "stream",
     "text": [
      "Число выбросов по методу Тьюки: 29\n",
      "Результирующее число записей: 732\n"
     ]
    }
   ],
   "source": [
    "# Задание 8.9\n",
    "# На приведённой гистограмме показано распределение признака DiabetesPedigreeFunction. \n",
    "# Такой вид распределения очень похож на логнормальный, и он заставляет задуматься о логарифмировании признака. \n",
    "# Найдите сначала число выбросов в признаке DiabetesPedigreeFunction с помощью классического метода межквартильного размаха.\n",
    "\n",
    "outliers, cleaned = outliers_iqr_mod(fill_diabet_data, 'DiabetesPedigreeFunction', log_scale=False)\n",
    "print(f'Число выбросов по методу Тьюки: {outliers.shape[0]}')\n",
    "print(f'Результирующее число записей: {cleaned.shape[0]}')"
   ]
  },
  {
   "cell_type": "code",
   "execution_count": 45,
   "id": "4a3b9c14",
   "metadata": {},
   "outputs": [
    {
     "name": "stdout",
     "output_type": "stream",
     "text": [
      "Число выбросов по методу Тьюки: 0\n",
      "Результирующее число записей: 761\n"
     ]
    }
   ],
   "source": [
    "# Затем найдите число выбросов в этом же признаке в логарифмическом масштабе (при логарифмировании единицу прибавлять не нужно!). \n",
    "# Какова разница между двумя этими числами (вычтите из первого второе)?\n",
    "\n",
    "outliers, cleaned = outliers_iqr_mod(fill_diabet_data, 'DiabetesPedigreeFunction', log_scale=True)\n",
    "print(f'Число выбросов по методу Тьюки: {outliers.shape[0]}')\n",
    "print(f'Результирующее число записей: {cleaned.shape[0]}')"
   ]
  }
 ],
 "metadata": {
  "kernelspec": {
   "display_name": "myConda_env",
   "language": "python",
   "name": "python3"
  },
  "language_info": {
   "codemirror_mode": {
    "name": "ipython",
    "version": 3
   },
   "file_extension": ".py",
   "mimetype": "text/x-python",
   "name": "python",
   "nbconvert_exporter": "python",
   "pygments_lexer": "ipython3",
   "version": "3.13.2"
  }
 },
 "nbformat": 4,
 "nbformat_minor": 5
}
