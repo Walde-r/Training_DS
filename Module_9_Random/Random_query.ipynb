{
 "cells": [
  {
   "cell_type": "code",
   "execution_count": 1,
   "metadata": {},
   "outputs": [],
   "source": [
    "import numpy as np"
   ]
  },
  {
   "cell_type": "markdown",
   "metadata": {},
   "source": [
    "## Генерация выборок\n",
    "Случайные числа можно использовать и для работы с уже существующими данными. Иногда для проверки гипотез о данных бывает удобно перемешать значения, чтобы проверить, является ли наблюдаемая закономерность случайной."
   ]
  },
  {
   "cell_type": "markdown",
   "metadata": {},
   "source": [
    "Просто перемешать все числа в массиве позволяет функция **random.shuffle**"
   ]
  },
  {
   "cell_type": "code",
   "execution_count": null,
   "metadata": {},
   "outputs": [
    {
     "name": "stdout",
     "output_type": "stream",
     "text": [
      "[0 1 2 3 4 5]\n",
      "None\n"
     ]
    },
    {
     "data": {
      "text/plain": [
       "array([5, 2, 3, 0, 1, 4])"
      ]
     },
     "execution_count": 2,
     "metadata": {},
     "output_type": "execute_result"
    }
   ],
   "source": [
    "#Возьмём массив из целых чисел от 0 до 5 и перемешаем его:\n",
    "arr = np.arange(6)\n",
    "print(arr)\n",
    "print(np.random.shuffle(arr)) #Функция random.shuffle перемешивает тот массив, к которому применяется, и возвращает None.\n",
    "arr"
   ]
  },
  {
   "cell_type": "markdown",
   "metadata": {},
   "source": [
    "Чтобы получить новый перемешанный массив, а исходный оставить без изменений, можно использовать функцию *random.permutation*. \n",
    "Она принимает на вход один аргумент — или массив целиком, или одно число:"
   ]
  },
  {
   "cell_type": "code",
   "execution_count": 3,
   "metadata": {},
   "outputs": [
    {
     "name": "stdout",
     "output_type": "stream",
     "text": [
      "['Pink Floyd' 'Deep Purple' 'The Beatles' 'ACDC']\n",
      "['The Beatles', 'Pink Floyd', 'ACDC', 'Deep Purple']\n"
     ]
    }
   ],
   "source": [
    "playlist = [\"The Beatles\", \"Pink Floyd\", \"ACDC\", \"Deep Purple\"]\n",
    "shuffled = np.random.permutation(playlist)\n",
    "print(shuffled)\n",
    "print(playlist)"
   ]
  },
  {
   "cell_type": "markdown",
   "metadata": {},
   "source": [
    "Обратите внимание, что необязательно передавать в функцию сразу массив: в этот раз мы передали в качестве аргумента список и ошибки не возникло. При этом на выходе получился уже NumPy-массив (это заметно по отсутствию запятых при печати массива). Сам список playlist при этом остался без изменений."
   ]
  },
  {
   "cell_type": "code",
   "execution_count": 4,
   "metadata": {},
   "outputs": [
    {
     "data": {
      "text/plain": [
       "array([7, 5, 1, 9, 6, 8, 0, 3, 4, 2], dtype=int32)"
      ]
     },
     "execution_count": 4,
     "metadata": {},
     "output_type": "execute_result"
    }
   ],
   "source": [
    "# Перемешать набор чисел от 0 до n-1 можно с помощью записи np.random.permutation(n), \n",
    "# где n — верхняя граница, которая бы использовалась для генерации набора чисел функцией arange.\n",
    "np.random.permutation(10)"
   ]
  },
  {
   "cell_type": "markdown",
   "metadata": {},
   "source": [
    "Чтобы получить случайный набор объектов из массива, используется функция **random.choice**:\n",
    "\n",
    "choice(a, size=None, replace=True)\n",
    "\n",
    "- **a** — одномерный массив или число для генерации arange(a);\n",
    "- **size** — желаемая форма массива (число для получения одномерного массива, кортеж — для многомерного; если параметр не задан, возвращается один объект);\n",
    "- **replace** — параметр, задающий, могут ли элементы повторяться (по умолчанию могут)."
   ]
  },
  {
   "cell_type": "markdown",
   "metadata": {},
   "source": [
    "Выберем случайным образом из списка двоих человек, которые должны будут выступить с отчётом на этой неделе. Для этого из списка имён (опять же, можно передавать в функцию choice не NumPy-массив, а список) получим два случайных объекта без повторений (логично, что нужно выбрать двух разных людей). Сделать это можно вот так:"
   ]
  },
  {
   "cell_type": "code",
   "execution_count": 9,
   "metadata": {},
   "outputs": [
    {
     "name": "stdout",
     "output_type": "stream",
     "text": [
      "['Kate' 'Maria']\n"
     ]
    }
   ],
   "source": [
    "workers = ['Ivan', 'Nikita', 'Maria', 'John', 'Kate']\n",
    " \n",
    "choice = np.random.choice(workers, size=2, replace=False)\n",
    "print(choice)"
   ]
  },
  {
   "cell_type": "code",
   "execution_count": null,
   "metadata": {},
   "outputs": [],
   "source": [
    "#Если попытаться получить без повторений массив большего размера, чем имеется объектов в исходном, возникнет ошибка:\n",
    "workers = ['Ivan', 'Nikita', 'Maria', 'John', 'Kate']\n",
    "choice = np.random.choice(workers, size=10, replace=False)\n",
    "print(choice)\n",
    "# ValueError: Cannot take a larger sample than population when 'replace=False'\n",
    "# Ошибка значения: нельзя получить выборку больше, чем популяция (популяция — весь доступный набор объектов, из которого \n",
    "# получаем выборку), если replace=False (то есть выборка без повторений)."
   ]
  },
  {
   "cell_type": "markdown",
   "metadata": {},
   "source": [
    "Выборка с повторениями используется по умолчанию. Она применяется в том случае, когда мы допускаем, что объекты могут повторяться.\n",
    "\n",
    "Например, получим случайную последовательность, которая образуется в результате десяти подбрасываний игральной кости:"
   ]
  },
  {
   "cell_type": "code",
   "execution_count": null,
   "metadata": {},
   "outputs": [
    {
     "name": "stdout",
     "output_type": "stream",
     "text": [
      "[4 4 3 3 3 2 3 4 1 4]\n"
     ]
    }
   ],
   "source": [
    "choice = np.random.choice([1,2,3,4,5,6], size=10)\n",
    "print(choice)"
   ]
  }
 ],
 "metadata": {
  "kernelspec": {
   "display_name": "Python 3",
   "language": "python",
   "name": "python3"
  },
  "language_info": {
   "codemirror_mode": {
    "name": "ipython",
    "version": 3
   },
   "file_extension": ".py",
   "mimetype": "text/x-python",
   "name": "python",
   "nbconvert_exporter": "python",
   "pygments_lexer": "ipython3",
   "version": "3.13.2"
  }
 },
 "nbformat": 4,
 "nbformat_minor": 2
}
